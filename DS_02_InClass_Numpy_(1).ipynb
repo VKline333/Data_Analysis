{
  "nbformat": 4,
  "nbformat_minor": 5,
  "metadata": {
    "kernelspec": {
      "display_name": "Python 3",
      "language": "python",
      "name": "python3"
    },
    "language_info": {
      "codemirror_mode": {
        "name": "ipython",
        "version": 3
      },
      "file_extension": ".py",
      "mimetype": "text/x-python",
      "name": "python",
      "nbconvert_exporter": "python",
      "pygments_lexer": "ipython3",
      "version": "3.7.8"
    },
    "colab": {
      "name": "DS_02-InClass-Numpy (1).ipynb",
      "provenance": [],
      "include_colab_link": true
    }
  },
  "cells": [
    {
      "cell_type": "markdown",
      "metadata": {
        "id": "view-in-github",
        "colab_type": "text"
      },
      "source": [
        "<a href=\"https://colab.research.google.com/github/VKline333/Data_Analysis/blob/main/DS_02_InClass_Numpy_(1).ipynb\" target=\"_parent\"><img src=\"https://colab.research.google.com/assets/colab-badge.svg\" alt=\"Open In Colab\"/></a>"
      ]
    },
    {
      "cell_type": "markdown",
      "metadata": {
        "id": "quick-oxford"
      },
      "source": [
        "# Numpy : Numerical Python"
      ],
      "id": "quick-oxford"
    },
    {
      "cell_type": "code",
      "metadata": {
        "id": "grand-princess"
      },
      "source": [
        "# iki farklı diziyi birbiriyle işleme tabi tutabiliriz. çarpabiliriz, bölebiliriz karekök alabiliz vs.\n",
        "# Bunu listelerle yapamayız."
      ],
      "id": "grand-princess",
      "execution_count": null,
      "outputs": []
    },
    {
      "cell_type": "markdown",
      "metadata": {
        "id": "chubby-africa"
      },
      "source": [
        "# Why Numpy?"
      ],
      "id": "chubby-africa"
    },
    {
      "cell_type": "code",
      "metadata": {
        "id": "herbal-carter"
      },
      "source": [
        "# öncelikle numpy ı import edelim\n",
        "\n",
        "import numpy as np"
      ],
      "id": "herbal-carter",
      "execution_count": 4,
      "outputs": []
    },
    {
      "cell_type": "code",
      "metadata": {
        "id": "bibliographic-amendment",
        "outputId": "519b5bfc-e9db-4f2f-cb4c-76379ea79e44"
      },
      "source": [
        "my_list = [1, 2, 3]\n",
        "my_list"
      ],
      "id": "bibliographic-amendment",
      "execution_count": null,
      "outputs": [
        {
          "output_type": "execute_result",
          "data": {
            "text/plain": [
              "[1, 2, 3]"
            ]
          },
          "metadata": {
            "tags": []
          },
          "execution_count": 2
        }
      ]
    },
    {
      "cell_type": "code",
      "metadata": {
        "id": "accepted-maple"
      },
      "source": [
        "# şimdi listemizi array haline getirelim. bunun için array() build-in fonksiyonunu kullanacağız.\n",
        "\n",
        "np.array(my_list)"
      ],
      "id": "accepted-maple",
      "execution_count": null,
      "outputs": []
    },
    {
      "cell_type": "code",
      "metadata": {
        "id": "affiliated-trailer"
      },
      "source": [
        "arr = np.array(my_list)"
      ],
      "id": "affiliated-trailer",
      "execution_count": null,
      "outputs": []
    },
    {
      "cell_type": "code",
      "metadata": {
        "id": "administrative-feeding",
        "outputId": "8257010d-63a6-4f49-a610-23cafed26295"
      },
      "source": [
        "type(arr)"
      ],
      "id": "administrative-feeding",
      "execution_count": null,
      "outputs": [
        {
          "output_type": "execute_result",
          "data": {
            "text/plain": [
              "numpy.ndarray"
            ]
          },
          "metadata": {
            "tags": []
          },
          "execution_count": 4
        }
      ]
    },
    {
      "cell_type": "markdown",
      "metadata": {
        "id": "common-mailing"
      },
      "source": [
        "# Why Numpy?"
      ],
      "id": "common-mailing"
    },
    {
      "cell_type": "code",
      "metadata": {
        "id": "israeli-jaguar"
      },
      "source": [
        "\"\"\"\n",
        "NumPy sadece daha verimli değil; ayrıca daha uygundur. Ücretsiz olarak birçok vektör\n",
        "ve matris işlemi elde edersiniz, bu da bazen gereksiz işlerden kaçınmanıza izin verir. \n",
        "Ve ayrıca verimli bir şekilde uygulanırlar. Ayrıca, birçok yararlı kütüphane NumPy dizileriyle çalışır.\n",
        " Örneğin, istatistiksel analiz ve görselleştirme kütüphaneleri.\n",
        "\"\"\""
      ],
      "id": "israeli-jaguar",
      "execution_count": null,
      "outputs": []
    },
    {
      "cell_type": "code",
      "metadata": {
        "id": "romance-isolation"
      },
      "source": [
        "a = [1,2,3,4]\n",
        "b = [2,3,4,5]"
      ],
      "id": "romance-isolation",
      "execution_count": null,
      "outputs": []
    },
    {
      "cell_type": "code",
      "metadata": {
        "id": "outer-reaction",
        "outputId": "2bf698d0-6c52-4fa6-9f21-83f2c473e266"
      },
      "source": [
        "ab = []\n",
        "\n",
        "for i in range(0, len(a)):\n",
        "    ab.append(a[i] * b[i])\n",
        "              \n",
        "ab\n",
        "\n",
        "# fakat bu yorucu ve çok yer kaplayan bir işlemdir."
      ],
      "id": "outer-reaction",
      "execution_count": null,
      "outputs": [
        {
          "output_type": "execute_result",
          "data": {
            "text/plain": [
              "[2, 6, 12, 20]"
            ]
          },
          "metadata": {
            "tags": []
          },
          "execution_count": 7
        }
      ]
    },
    {
      "cell_type": "code",
      "metadata": {
        "id": "casual-disclosure"
      },
      "source": [
        "# şimdi bu işlemi array ile çok daha hızlı bir şekilde yapıldığını görelim.\n",
        "\n",
        "a1 = np.array(a)\n",
        "b1 = np.array(b)"
      ],
      "id": "casual-disclosure",
      "execution_count": null,
      "outputs": []
    },
    {
      "cell_type": "code",
      "metadata": {
        "id": "settled-museum",
        "outputId": "792e6abf-58bb-437a-c9f7-79b7063f698e"
      },
      "source": [
        "a1 * b1"
      ],
      "id": "settled-museum",
      "execution_count": null,
      "outputs": [
        {
          "output_type": "execute_result",
          "data": {
            "text/plain": [
              "array([ 2,  6, 12, 20])"
            ]
          },
          "metadata": {
            "tags": []
          },
          "execution_count": 9
        }
      ]
    },
    {
      "cell_type": "code",
      "metadata": {
        "id": "arabic-testing"
      },
      "source": [
        "# şimdi bir matrix oluşturalım.\n",
        "\n",
        "my_matrix = [[1,2,3], [4,5,6], [7,8,9]]\n"
      ],
      "id": "arabic-testing",
      "execution_count": null,
      "outputs": []
    },
    {
      "cell_type": "code",
      "metadata": {
        "id": "periodic-promotion",
        "outputId": "badd33a9-3bce-4edb-e8ef-265153c9785c"
      },
      "source": [
        "np.array(my_matrix)\n",
        "\n",
        "# 3'er elemandan oluşan 3 listeyi kullanarak 3 satır ve 3 sütundan oluşan bir matrix oluşturduk"
      ],
      "id": "periodic-promotion",
      "execution_count": null,
      "outputs": [
        {
          "output_type": "execute_result",
          "data": {
            "text/plain": [
              "array([[1, 2, 3],\n",
              "       [4, 5, 6],\n",
              "       [7, 8, 9]])"
            ]
          },
          "metadata": {
            "tags": []
          },
          "execution_count": 11
        }
      ]
    },
    {
      "cell_type": "markdown",
      "metadata": {
        "id": "floral-roots"
      },
      "source": [
        "# Build-in Methods"
      ],
      "id": "floral-roots"
    },
    {
      "cell_type": "markdown",
      "metadata": {
        "id": "sacred-basis"
      },
      "source": [
        "# arange"
      ],
      "id": "sacred-basis"
    },
    {
      "cell_type": "code",
      "metadata": {
        "id": "behind-modification",
        "outputId": "ade16980-60ff-49ba-d9b2-e40f1ae4da4d"
      },
      "source": [
        "# 0 ile 10 arasında (son rakam rakam hariç) bir dizi oluşturalım\n",
        "np.arange(0, 10)"
      ],
      "id": "behind-modification",
      "execution_count": null,
      "outputs": [
        {
          "output_type": "execute_result",
          "data": {
            "text/plain": [
              "array([0, 1, 2, 3, 4, 5, 6, 7, 8, 9])"
            ]
          },
          "metadata": {
            "tags": []
          },
          "execution_count": 13
        }
      ]
    },
    {
      "cell_type": "code",
      "metadata": {
        "id": "protective-denver",
        "outputId": "5e4fb30c-8d5e-438d-bdc5-72f79b16ec66"
      },
      "source": [
        "# # 0 dan 10 a kadar (10 hariç) 2 şer atlayarak dizi oluşturalım.\n",
        "\n",
        "np.arange(0 , 11, 2) "
      ],
      "id": "protective-denver",
      "execution_count": null,
      "outputs": [
        {
          "output_type": "execute_result",
          "data": {
            "text/plain": [
              "array([ 0,  2,  4,  6,  8, 10])"
            ]
          },
          "metadata": {
            "tags": []
          },
          "execution_count": 14
        }
      ]
    },
    {
      "cell_type": "code",
      "metadata": {
        "id": "polish-volunteer",
        "outputId": "b41830e1-4a11-4cd8-d078-baf382bb5dc0"
      },
      "source": [
        "np.arange(0, 31, 3)"
      ],
      "id": "polish-volunteer",
      "execution_count": null,
      "outputs": [
        {
          "output_type": "execute_result",
          "data": {
            "text/plain": [
              "array([ 0,  3,  6,  9, 12, 15, 18, 21, 24, 27, 30])"
            ]
          },
          "metadata": {
            "tags": []
          },
          "execution_count": 15
        }
      ]
    },
    {
      "cell_type": "code",
      "metadata": {
        "id": "virgin-prayer",
        "outputId": "0095e023-8aa9-40a3-8a93-2ca985fe7af3"
      },
      "source": [
        "np.arange(30, 0, -1)"
      ],
      "id": "virgin-prayer",
      "execution_count": null,
      "outputs": [
        {
          "output_type": "execute_result",
          "data": {
            "text/plain": [
              "array([30, 29, 28, 27, 26, 25, 24, 23, 22, 21, 20, 19, 18, 17, 16, 15, 14,\n",
              "       13, 12, 11, 10,  9,  8,  7,  6,  5,  4,  3,  2,  1])"
            ]
          },
          "metadata": {
            "tags": []
          },
          "execution_count": 16
        }
      ]
    },
    {
      "cell_type": "markdown",
      "metadata": {
        "id": "aggregate-pepper"
      },
      "source": [
        "# zeros, ones and full"
      ],
      "id": "aggregate-pepper"
    },
    {
      "cell_type": "code",
      "metadata": {
        "id": "blond-surname",
        "outputId": "cc4229b3-5912-4b4d-9209-e4fbdbbb1e6d"
      },
      "source": [
        "# sıfırlardan oluşan kayan noktalı dizi oluşturalım\n",
        "\n",
        "np.zeros(3)"
      ],
      "id": "blond-surname",
      "execution_count": null,
      "outputs": [
        {
          "output_type": "execute_result",
          "data": {
            "text/plain": [
              "array([0., 0., 0.])"
            ]
          },
          "metadata": {
            "tags": []
          },
          "execution_count": 17
        }
      ]
    },
    {
      "cell_type": "code",
      "metadata": {
        "id": "hired-transcription",
        "outputId": "9195b33e-0463-47db-cd94-836a8a77cde1"
      },
      "source": [
        "np.zeros(10)"
      ],
      "id": "hired-transcription",
      "execution_count": null,
      "outputs": [
        {
          "output_type": "execute_result",
          "data": {
            "text/plain": [
              "array([0., 0., 0., 0., 0., 0., 0., 0., 0., 0.])"
            ]
          },
          "metadata": {
            "tags": []
          },
          "execution_count": 18
        }
      ]
    },
    {
      "cell_type": "code",
      "metadata": {
        "id": "pressed-august",
        "outputId": "73f4ffed-e3fa-49e8-a8b5-102ab4ec8726"
      },
      "source": [
        "# dizimizi şekillendirelim. 3 e 3 matrix yapalım\n",
        "\n",
        "np.zeros((3,3))"
      ],
      "id": "pressed-august",
      "execution_count": null,
      "outputs": [
        {
          "output_type": "execute_result",
          "data": {
            "text/plain": [
              "array([[0., 0., 0.],\n",
              "       [0., 0., 0.],\n",
              "       [0., 0., 0.]])"
            ]
          },
          "metadata": {
            "tags": []
          },
          "execution_count": 19
        }
      ]
    },
    {
      "cell_type": "code",
      "metadata": {
        "id": "incident-foster",
        "outputId": "dbccf209-a7b6-4c7c-839b-415ad969c229"
      },
      "source": [
        "np.zeros((3,3), dtype=bool)\n",
        "\n",
        "# dizimiz 0 lardan oluştuğu için elemanlar False'a döndü"
      ],
      "id": "incident-foster",
      "execution_count": null,
      "outputs": [
        {
          "output_type": "execute_result",
          "data": {
            "text/plain": [
              "array([[False, False, False],\n",
              "       [False, False, False],\n",
              "       [False, False, False]])"
            ]
          },
          "metadata": {
            "tags": []
          },
          "execution_count": 20
        }
      ]
    },
    {
      "cell_type": "code",
      "metadata": {
        "id": "nervous-development",
        "outputId": "2bd1443c-800f-447e-8ed0-d4b255428c05"
      },
      "source": [
        " # birlerden oluşan dizi yapalım\n",
        "\n",
        "np.ones(10)"
      ],
      "id": "nervous-development",
      "execution_count": null,
      "outputs": [
        {
          "output_type": "execute_result",
          "data": {
            "text/plain": [
              "array([1., 1., 1., 1., 1., 1., 1., 1., 1., 1.])"
            ]
          },
          "metadata": {
            "tags": []
          },
          "execution_count": 21
        }
      ]
    },
    {
      "cell_type": "code",
      "metadata": {
        "id": "affecting-badge",
        "outputId": "0a3a19a7-f0fb-4ef9-ea59-b9140c2c6fc1"
      },
      "source": [
        "# noktalarını kaldırıp integer yapalım\n",
        "\n",
        "np.ones(10, dtype=int)"
      ],
      "id": "affecting-badge",
      "execution_count": null,
      "outputs": [
        {
          "output_type": "execute_result",
          "data": {
            "text/plain": [
              "array([1, 1, 1, 1, 1, 1, 1, 1, 1, 1])"
            ]
          },
          "metadata": {
            "tags": []
          },
          "execution_count": 22
        }
      ]
    },
    {
      "cell_type": "code",
      "metadata": {
        "id": "ordinary-proxy",
        "outputId": "47322bea-729d-4c6e-8fdb-3fe70003d593"
      },
      "source": [
        "# 10 a 10 matrix oluşturalım.\n",
        "\n",
        "np.ones((10,10))"
      ],
      "id": "ordinary-proxy",
      "execution_count": null,
      "outputs": [
        {
          "output_type": "execute_result",
          "data": {
            "text/plain": [
              "array([[1., 1., 1., 1., 1., 1., 1., 1., 1., 1.],\n",
              "       [1., 1., 1., 1., 1., 1., 1., 1., 1., 1.],\n",
              "       [1., 1., 1., 1., 1., 1., 1., 1., 1., 1.],\n",
              "       [1., 1., 1., 1., 1., 1., 1., 1., 1., 1.],\n",
              "       [1., 1., 1., 1., 1., 1., 1., 1., 1., 1.],\n",
              "       [1., 1., 1., 1., 1., 1., 1., 1., 1., 1.],\n",
              "       [1., 1., 1., 1., 1., 1., 1., 1., 1., 1.],\n",
              "       [1., 1., 1., 1., 1., 1., 1., 1., 1., 1.],\n",
              "       [1., 1., 1., 1., 1., 1., 1., 1., 1., 1.],\n",
              "       [1., 1., 1., 1., 1., 1., 1., 1., 1., 1.]])"
            ]
          },
          "metadata": {
            "tags": []
          },
          "execution_count": 23
        }
      ]
    },
    {
      "cell_type": "code",
      "metadata": {
        "id": "maritime-audit",
        "outputId": "bc0f5224-e75c-43e0-c23f-2486093b84b0"
      },
      "source": [
        "np.ones((10,10), dtype=bool)\n",
        "\n",
        "# dizimiz 1 lerden oluştuğu için elemanlar True'a döndü"
      ],
      "id": "maritime-audit",
      "execution_count": null,
      "outputs": [
        {
          "output_type": "execute_result",
          "data": {
            "text/plain": [
              "array([[ True,  True,  True,  True,  True,  True,  True,  True,  True,\n",
              "         True],\n",
              "       [ True,  True,  True,  True,  True,  True,  True,  True,  True,\n",
              "         True],\n",
              "       [ True,  True,  True,  True,  True,  True,  True,  True,  True,\n",
              "         True],\n",
              "       [ True,  True,  True,  True,  True,  True,  True,  True,  True,\n",
              "         True],\n",
              "       [ True,  True,  True,  True,  True,  True,  True,  True,  True,\n",
              "         True],\n",
              "       [ True,  True,  True,  True,  True,  True,  True,  True,  True,\n",
              "         True],\n",
              "       [ True,  True,  True,  True,  True,  True,  True,  True,  True,\n",
              "         True],\n",
              "       [ True,  True,  True,  True,  True,  True,  True,  True,  True,\n",
              "         True],\n",
              "       [ True,  True,  True,  True,  True,  True,  True,  True,  True,\n",
              "         True],\n",
              "       [ True,  True,  True,  True,  True,  True,  True,  True,  True,\n",
              "         True]])"
            ]
          },
          "metadata": {
            "tags": []
          },
          "execution_count": 24
        }
      ]
    },
    {
      "cell_type": "code",
      "metadata": {
        "colab": {
          "base_uri": "https://localhost:8080/"
        },
        "id": "willing-transfer",
        "outputId": "1a0893ee-3bf3-44a1-de1a-c9c62a50e123"
      },
      "source": [
        "# 3 satır 5 sütundan oluşan matrix oluşturalım ve onu integer 3 ile dolduralım\n",
        "\n",
        "np.full((3,5),3)"
      ],
      "id": "willing-transfer",
      "execution_count": 8,
      "outputs": [
        {
          "output_type": "execute_result",
          "data": {
            "text/plain": [
              "array([[3, 3, 3, 3, 3],\n",
              "       [3, 3, 3, 3, 3],\n",
              "       [3, 3, 3, 3, 3]])"
            ]
          },
          "metadata": {
            "tags": []
          },
          "execution_count": 8
        }
      ]
    },
    {
      "cell_type": "code",
      "metadata": {
        "id": "informative-dover",
        "outputId": "57ffe849-30c3-4575-c69a-2de331b92226"
      },
      "source": [
        "# dizimizi string \"3\" ile dolduralım\n",
        "\n",
        "np.full((4,4), \"3\")"
      ],
      "id": "informative-dover",
      "execution_count": null,
      "outputs": [
        {
          "output_type": "execute_result",
          "data": {
            "text/plain": [
              "array([['3', '3', '3', '3'],\n",
              "       ['3', '3', '3', '3'],\n",
              "       ['3', '3', '3', '3'],\n",
              "       ['3', '3', '3', '3']], dtype='<U1')"
            ]
          },
          "metadata": {
            "tags": []
          },
          "execution_count": 26
        }
      ]
    },
    {
      "cell_type": "markdown",
      "metadata": {
        "id": "prompt-chosen"
      },
      "source": [
        "# linspace"
      ],
      "id": "prompt-chosen"
    },
    {
      "cell_type": "code",
      "metadata": {
        "id": "magnetic-wrong",
        "outputId": "38d0e8ce-95e3-4a72-daad-1ae3eed957db"
      },
      "source": [
        "# dizimiz o dan 10 a kadar 3 ADIMDA gitsin\n",
        "\n",
        "np.linspace(0, 10, 3)"
      ],
      "id": "magnetic-wrong",
      "execution_count": null,
      "outputs": [
        {
          "output_type": "execute_result",
          "data": {
            "text/plain": [
              "array([ 0.,  5., 10.])"
            ]
          },
          "metadata": {
            "tags": []
          },
          "execution_count": 30
        }
      ]
    },
    {
      "cell_type": "code",
      "metadata": {
        "id": "renewable-collar",
        "outputId": "ab1fa6a6-25ac-4b0c-82db-cc0b4fa09016"
      },
      "source": [
        "# dizimiz o dan 10 a kadar 11 ADIMDA gitsin\n",
        "\n",
        "np.linspace(0, 10, 11)\n",
        "\n"
      ],
      "id": "renewable-collar",
      "execution_count": null,
      "outputs": [
        {
          "output_type": "execute_result",
          "data": {
            "text/plain": [
              "array([ 0.,  1.,  2.,  3.,  4.,  5.,  6.,  7.,  8.,  9., 10.])"
            ]
          },
          "metadata": {
            "tags": []
          },
          "execution_count": 29
        }
      ]
    },
    {
      "cell_type": "code",
      "metadata": {
        "id": "marine-creek",
        "outputId": "74e0d166-fded-463e-e404-5ed3eed9379f"
      },
      "source": [
        "np.linspace(0, 10,20)"
      ],
      "id": "marine-creek",
      "execution_count": null,
      "outputs": [
        {
          "output_type": "execute_result",
          "data": {
            "text/plain": [
              "array([ 0.        ,  0.52631579,  1.05263158,  1.57894737,  2.10526316,\n",
              "        2.63157895,  3.15789474,  3.68421053,  4.21052632,  4.73684211,\n",
              "        5.26315789,  5.78947368,  6.31578947,  6.84210526,  7.36842105,\n",
              "        7.89473684,  8.42105263,  8.94736842,  9.47368421, 10.        ])"
            ]
          },
          "metadata": {
            "tags": []
          },
          "execution_count": 31
        }
      ]
    },
    {
      "cell_type": "code",
      "metadata": {
        "id": "ranging-scenario",
        "outputId": "b67bf264-7268-417e-c1b4-38c51c14d1c3"
      },
      "source": [
        "# adım sayısını belirlemezsek DEFAULT olarak 50 adımda gidiyor \n",
        "\n",
        "np.linspace(0,10)"
      ],
      "id": "ranging-scenario",
      "execution_count": null,
      "outputs": [
        {
          "output_type": "execute_result",
          "data": {
            "text/plain": [
              "array([ 0.        ,  0.20408163,  0.40816327,  0.6122449 ,  0.81632653,\n",
              "        1.02040816,  1.2244898 ,  1.42857143,  1.63265306,  1.83673469,\n",
              "        2.04081633,  2.24489796,  2.44897959,  2.65306122,  2.85714286,\n",
              "        3.06122449,  3.26530612,  3.46938776,  3.67346939,  3.87755102,\n",
              "        4.08163265,  4.28571429,  4.48979592,  4.69387755,  4.89795918,\n",
              "        5.10204082,  5.30612245,  5.51020408,  5.71428571,  5.91836735,\n",
              "        6.12244898,  6.32653061,  6.53061224,  6.73469388,  6.93877551,\n",
              "        7.14285714,  7.34693878,  7.55102041,  7.75510204,  7.95918367,\n",
              "        8.16326531,  8.36734694,  8.57142857,  8.7755102 ,  8.97959184,\n",
              "        9.18367347,  9.3877551 ,  9.59183673,  9.79591837, 10.        ])"
            ]
          },
          "metadata": {
            "tags": []
          },
          "execution_count": 32
        }
      ]
    },
    {
      "cell_type": "code",
      "metadata": {
        "id": "significant-supplement",
        "outputId": "4537a51e-75f5-4690-c72a-a1f9738f450d"
      },
      "source": [
        "# DEFAULT olarak float veriyor. dtype='int' ile elemanları integer yapalım\n",
        "\n",
        "np.linspace(0, 50, 10, dtype='int')"
      ],
      "id": "significant-supplement",
      "execution_count": null,
      "outputs": [
        {
          "output_type": "execute_result",
          "data": {
            "text/plain": [
              "array([ 0,  5, 11, 16, 22, 27, 33, 38, 44, 50])"
            ]
          },
          "metadata": {
            "tags": []
          },
          "execution_count": 33
        }
      ]
    },
    {
      "cell_type": "markdown",
      "metadata": {
        "id": "alternate-engagement"
      },
      "source": [
        "# eye"
      ],
      "id": "alternate-engagement"
    },
    {
      "cell_type": "code",
      "metadata": {
        "id": "alive-banana",
        "outputId": "f71afcd4-b788-4f5c-c1bf-c1d5841863e2"
      },
      "source": [
        "# sıfırlardan oluşan 5'e 5 matrix yapalım ve matrix'te köşeden köşeye 1'ler yer alsın\n",
        "\n",
        "np.eye(5)"
      ],
      "id": "alive-banana",
      "execution_count": null,
      "outputs": [
        {
          "output_type": "execute_result",
          "data": {
            "text/plain": [
              "array([[1., 0., 0., 0., 0.],\n",
              "       [0., 1., 0., 0., 0.],\n",
              "       [0., 0., 1., 0., 0.],\n",
              "       [0., 0., 0., 1., 0.],\n",
              "       [0., 0., 0., 0., 1.]])"
            ]
          },
          "metadata": {
            "tags": []
          },
          "execution_count": 35
        }
      ]
    },
    {
      "cell_type": "markdown",
      "metadata": {
        "id": "impressive-knock"
      },
      "source": [
        "# Random\n",
        "\n",
        "## rand"
      ],
      "id": "impressive-knock"
    },
    {
      "cell_type": "code",
      "metadata": {
        "id": "informational-smith"
      },
      "source": [
        "\"\"\"\n",
        "0 ile 1 arasında random olarak belirtilen adette sayı üretir.\n",
        "\n",
        "create an array of the given shape and populate it with random\n",
        "samples from a uniform distribution\n",
        "over the points zero to one where zero is inclusive and one is exclusive\n",
        "meaning it can't actually return back zero, but it can't return back one\n",
        "\"\"\""
      ],
      "id": "informational-smith",
      "execution_count": null,
      "outputs": []
    },
    {
      "cell_type": "code",
      "metadata": {
        "id": "hydraulic-bronze",
        "outputId": "58947cc9-55fd-4c9d-e280-7bf34d06b11b"
      },
      "source": [
        "# 0 ile 1 arasında 10 adet random sayı oluşturalım.\n",
        "\n",
        "np.random.rand(10)"
      ],
      "id": "hydraulic-bronze",
      "execution_count": null,
      "outputs": [
        {
          "output_type": "execute_result",
          "data": {
            "text/plain": [
              "array([0.74842006, 0.94435371, 0.95795841, 0.82746463, 0.12754121,\n",
              "       0.97973758, 0.51250465, 0.0771096 , 0.18012755, 0.62292517])"
            ]
          },
          "metadata": {
            "tags": []
          },
          "execution_count": 36
        }
      ]
    },
    {
      "cell_type": "code",
      "metadata": {
        "id": "perceived-phrase",
        "outputId": "c83312fe-6bfa-4b22-890f-549b1982bc76"
      },
      "source": [
        "# 5 satır 5 sütun olarak 0 ile 1 arasında random sayılar üretip matrix yapıyor. \n",
        "# (5,5) değerinden dolayı 5'e 5 matrix oluşuyor.\n",
        "\n",
        "np.random.rand(5,5)"
      ],
      "id": "perceived-phrase",
      "execution_count": null,
      "outputs": [
        {
          "output_type": "execute_result",
          "data": {
            "text/plain": [
              "array([[0.39999527, 0.62638143, 0.70164203, 0.87754532, 0.23038108],\n",
              "       [0.94330537, 0.79399127, 0.74066674, 0.77462424, 0.48133075],\n",
              "       [0.06133653, 0.7337434 , 0.79804602, 0.48201172, 0.72762669],\n",
              "       [0.80508864, 0.79114777, 0.28375335, 0.95237442, 0.20129491],\n",
              "       [0.85367403, 0.02368706, 0.67532435, 0.82241582, 0.98903597]])"
            ]
          },
          "metadata": {
            "tags": []
          },
          "execution_count": 37
        }
      ]
    },
    {
      "cell_type": "code",
      "metadata": {
        "colab": {
          "base_uri": "https://localhost:8080/"
        },
        "id": "inappropriate-accordance",
        "outputId": "4c427b7e-9845-4ead-e618-428f10ca978a"
      },
      "source": [
        "pip install matplotlib"
      ],
      "id": "inappropriate-accordance",
      "execution_count": 9,
      "outputs": [
        {
          "output_type": "stream",
          "text": [
            "Requirement already satisfied: matplotlib in /usr/local/lib/python3.7/dist-packages (3.2.2)\n",
            "Requirement already satisfied: numpy>=1.11 in /usr/local/lib/python3.7/dist-packages (from matplotlib) (1.19.5)\n",
            "Requirement already satisfied: python-dateutil>=2.1 in /usr/local/lib/python3.7/dist-packages (from matplotlib) (2.8.1)\n",
            "Requirement already satisfied: kiwisolver>=1.0.1 in /usr/local/lib/python3.7/dist-packages (from matplotlib) (1.3.1)\n",
            "Requirement already satisfied: cycler>=0.10 in /usr/local/lib/python3.7/dist-packages (from matplotlib) (0.10.0)\n",
            "Requirement already satisfied: pyparsing!=2.0.4,!=2.1.2,!=2.1.6,>=2.0.1 in /usr/local/lib/python3.7/dist-packages (from matplotlib) (2.4.7)\n",
            "Requirement already satisfied: six>=1.5 in /usr/local/lib/python3.7/dist-packages (from python-dateutil>=2.1->matplotlib) (1.15.0)\n"
          ],
          "name": "stdout"
        }
      ]
    },
    {
      "cell_type": "code",
      "metadata": {
        "id": "popular-recipe"
      },
      "source": [
        "import matplotlib.pyplot as plt"
      ],
      "id": "popular-recipe",
      "execution_count": 10,
      "outputs": []
    },
    {
      "cell_type": "code",
      "metadata": {
        "colab": {
          "base_uri": "https://localhost:8080/",
          "height": 550
        },
        "id": "southern-probability",
        "outputId": "0062ab83-6686-478c-df60-dcd72abf177e"
      },
      "source": [
        "plt.hist(np.random.rand(1000000),bins=40)"
      ],
      "id": "southern-probability",
      "execution_count": 11,
      "outputs": [
        {
          "output_type": "execute_result",
          "data": {
            "text/plain": [
              "(array([25076., 24900., 25144., 25054., 24795., 25087., 24860., 25188.,\n",
              "        24971., 25171., 24868., 25227., 25144., 24650., 25085., 24888.,\n",
              "        24756., 25045., 25140., 24978., 24845., 24985., 25102., 25078.,\n",
              "        25182., 25057., 25166., 24807., 25108., 24896., 24683., 25079.,\n",
              "        25042., 24845., 25020., 25254., 25055., 25075., 24803., 24891.]),\n",
              " array([2.31318735e-07, 2.50002148e-02, 5.00001983e-02, 7.50001818e-02,\n",
              "        1.00000165e-01, 1.25000149e-01, 1.50000132e-01, 1.75000116e-01,\n",
              "        2.00000099e-01, 2.25000083e-01, 2.50000066e-01, 2.75000050e-01,\n",
              "        3.00000033e-01, 3.25000017e-01, 3.50000000e-01, 3.74999983e-01,\n",
              "        3.99999967e-01, 4.24999950e-01, 4.49999934e-01, 4.74999917e-01,\n",
              "        4.99999901e-01, 5.24999884e-01, 5.49999868e-01, 5.74999851e-01,\n",
              "        5.99999835e-01, 6.24999818e-01, 6.49999802e-01, 6.74999785e-01,\n",
              "        6.99999769e-01, 7.24999752e-01, 7.49999736e-01, 7.74999719e-01,\n",
              "        7.99999703e-01, 8.24999686e-01, 8.49999670e-01, 8.74999653e-01,\n",
              "        8.99999637e-01, 9.24999620e-01, 9.49999603e-01, 9.74999587e-01,\n",
              "        9.99999570e-01]),\n",
              " <a list of 40 Patch objects>)"
            ]
          },
          "metadata": {
            "tags": []
          },
          "execution_count": 11
        },
        {
          "output_type": "display_data",
          "data": {
            "image/png": "[encoded data removed]",
            "text/plain": [
              "<Figure size 432x288 with 1 Axes>"
            ]
          },
          "metadata": {
            "tags": [],
            "needs_background": "light"
          }
        }
      ]
    },
    {
      "cell_type": "markdown",
      "metadata": {
        "id": "atmospheric-million"
      },
      "source": [
        "# randn"
      ],
      "id": "atmospheric-million"
    },
    {
      "cell_type": "code",
      "metadata": {
        "id": "fixed-tracker"
      },
      "source": [
        "\"\"\"\n",
        "np.random.randn()\n",
        "\n",
        "If positive int_like arguments are provided, `randn` generates an array\n",
        "of shape ``(d0, d1, ..., dn)``, filled\n",
        "with random floats sampled from a univariate \"normal\" (Gaussian)\n",
        "distribution of mean 0 and variance 1. A single float randomly sampled\n",
        "from the distribution is returned if no argument is provided.\n",
        "\n",
        "belirtilen sayı kadar, orta noktası sıfır olan 0 ile 1 arasında kayan noktalı sayı üretir\n",
        "\"\"\""
      ],
      "id": "fixed-tracker",
      "execution_count": null,
      "outputs": []
    },
    {
      "cell_type": "code",
      "metadata": {
        "id": "romance-manhattan",
        "outputId": "4c0fa57f-0e24-4239-9970-f25451afd8fe"
      },
      "source": [
        "np.random.randn(10)"
      ],
      "id": "romance-manhattan",
      "execution_count": null,
      "outputs": [
        {
          "output_type": "execute_result",
          "data": {
            "text/plain": [
              "array([ 1.83845458,  0.87524848,  0.90022174,  0.41545206,  1.99050815,\n",
              "       -0.11999077, -0.10348602, -1.31829761,  0.52708505,  0.87379036])"
            ]
          },
          "metadata": {
            "tags": []
          },
          "execution_count": 51
        }
      ]
    },
    {
      "cell_type": "code",
      "metadata": {
        "id": "apart-scholarship",
        "outputId": "c4b95d0e-9391-4268-c197-39c5119fd256"
      },
      "source": [
        "# 5'e 5 matrix oluşturarak aynı işlemi yapalım\n",
        "\n",
        "np.random.randn(5,5)"
      ],
      "id": "apart-scholarship",
      "execution_count": null,
      "outputs": [
        {
          "output_type": "execute_result",
          "data": {
            "text/plain": [
              "array([[-1.36032583,  0.90706965,  0.59627832, -0.1008965 , -1.15417342],\n",
              "       [-0.52755349, -0.68547717,  1.50152293,  0.40245842, -0.93473526],\n",
              "       [ 0.70528487, -0.74573161, -0.81040798, -0.94446298,  0.09284311],\n",
              "       [ 1.30419765, -0.8805659 , -0.6611508 , -0.16272279,  0.82033218],\n",
              "       [ 2.22464392,  0.41777754, -1.47803074,  0.76149241, -1.03378657]])"
            ]
          },
          "metadata": {
            "tags": []
          },
          "execution_count": 39
        }
      ]
    },
    {
      "cell_type": "code",
      "metadata": {
        "colab": {
          "base_uri": "https://localhost:8080/"
        },
        "id": "valid-niger",
        "outputId": "7127beec-1f48-4e78-d615-576dd8699479"
      },
      "source": [
        "np.random.randn(10000).mean()"
      ],
      "id": "valid-niger",
      "execution_count": 12,
      "outputs": [
        {
          "output_type": "execute_result",
          "data": {
            "text/plain": [
              "0.003187381352468163"
            ]
          },
          "metadata": {
            "tags": []
          },
          "execution_count": 12
        }
      ]
    },
    {
      "cell_type": "code",
      "metadata": {
        "id": "extreme-assessment",
        "outputId": "c47e907a-748e-4271-a075-e9eeb393ff89"
      },
      "source": [
        "np.random.randn(10000).std()"
      ],
      "id": "extreme-assessment",
      "execution_count": null,
      "outputs": [
        {
          "output_type": "execute_result",
          "data": {
            "text/plain": [
              "0.9988899254413508"
            ]
          },
          "metadata": {
            "tags": []
          },
          "execution_count": 54
        }
      ]
    },
    {
      "cell_type": "markdown",
      "metadata": {
        "id": "employed-automation"
      },
      "source": [
        "# randint"
      ],
      "id": "employed-automation"
    },
    {
      "cell_type": "code",
      "metadata": {
        "colab": {
          "base_uri": "https://localhost:8080/",
          "height": 52
        },
        "id": "active-mitchell",
        "outputId": "8c0bc664-1e1f-4a88-a4eb-dfe2f95f0fcc"
      },
      "source": [
        "\"\"\"\n",
        "np.random.randint()\n",
        "\n",
        "Return random integers from `low` (inclusive) to `high` (exclusive)\n",
        "\n",
        "girilen en düşük (dahil) ve en yüksek (hariç) sayılar arasında belirtilen miktarda random sayı üretir.\n",
        "\"\"\""
      ],
      "id": "active-mitchell",
      "execution_count": 13,
      "outputs": [
        {
          "output_type": "execute_result",
          "data": {
            "application/vnd.google.colaboratory.intrinsic+json": {
              "type": "string"
            },
            "text/plain": [
              "'\\nnp.random.randint()\\n\\nReturn random integers from `low` (inclusive) to `high` (exclusive)\\n\\ngirilen en düşük (dahil) ve en yüksek (hariç) sayılar arasında belirtilen miktarda random sayı üretir.\\n'"
            ]
          },
          "metadata": {
            "tags": []
          },
          "execution_count": 13
        }
      ]
    },
    {
      "cell_type": "code",
      "metadata": {
        "colab": {
          "base_uri": "https://localhost:8080/"
        },
        "id": "serious-pleasure",
        "outputId": "9c90fcc3-f54f-470e-e0e7-184c5f200c9d"
      },
      "source": [
        "# 1 den 100 e kadar random 10 sayıdan oluşan dizi oluşturalım\n",
        "\n",
        "np.random.randint(0, 100, 10)"
      ],
      "id": "serious-pleasure",
      "execution_count": 14,
      "outputs": [
        {
          "output_type": "execute_result",
          "data": {
            "text/plain": [
              "array([73,  2,  9, 20, 30, 93, 61, 26, 30, 14])"
            ]
          },
          "metadata": {
            "tags": []
          },
          "execution_count": 14
        }
      ]
    },
    {
      "cell_type": "code",
      "metadata": {
        "colab": {
          "base_uri": "https://localhost:8080/"
        },
        "id": "executive-spyware",
        "outputId": "e06f6ed9-a85a-4b51-8a29-2baaccd6b73e"
      },
      "source": [
        "# sıfırla 10 arasında size'ı 20 olan yani 20 adet elemandan oluşan array oluşturalım \n",
        "\n",
        "np.random.randint(10, size=20)"
      ],
      "id": "executive-spyware",
      "execution_count": 17,
      "outputs": [
        {
          "output_type": "execute_result",
          "data": {
            "text/plain": [
              "array([6, 7, 2, 2, 7, 9, 7, 4, 1, 6, 8, 5, 3, 2, 3, 4, 7, 4, 7, 8])"
            ]
          },
          "metadata": {
            "tags": []
          },
          "execution_count": 17
        }
      ]
    },
    {
      "cell_type": "code",
      "metadata": {
        "colab": {
          "base_uri": "https://localhost:8080/"
        },
        "id": "artificial-gauge",
        "outputId": "4b86e5b9-c83a-4d98-aec8-d82e3070846e"
      },
      "source": [
        "# sıfırla 5 arasında 2 satır ve 4 sütunluk bir array oluşturalım\n",
        "\n",
        "np.random.randint(5, size=(2,4))"
      ],
      "id": "artificial-gauge",
      "execution_count": 16,
      "outputs": [
        {
          "output_type": "execute_result",
          "data": {
            "text/plain": [
              "array([[2, 1, 2, 0],\n",
              "       [3, 2, 3, 1]])"
            ]
          },
          "metadata": {
            "tags": []
          },
          "execution_count": 16
        }
      ]
    },
    {
      "cell_type": "markdown",
      "metadata": {
        "id": "quarterly-opening"
      },
      "source": [
        "# Array Attributes and Methods"
      ],
      "id": "quarterly-opening"
    },
    {
      "cell_type": "code",
      "metadata": {
        "id": "passive-renaissance"
      },
      "source": [
        "arr = np.arange(25)\n",
        "arr2 = np.random.randint(0, 50, 10)"
      ],
      "id": "passive-renaissance",
      "execution_count": null,
      "outputs": []
    },
    {
      "cell_type": "code",
      "metadata": {
        "id": "organic-folder",
        "outputId": "56920c76-9b86-4869-ab38-eebb15b750e6"
      },
      "source": [
        "arr"
      ],
      "id": "organic-folder",
      "execution_count": null,
      "outputs": [
        {
          "output_type": "execute_result",
          "data": {
            "text/plain": [
              "array([ 0,  1,  2,  3,  4,  5,  6,  7,  8,  9, 10, 11, 12, 13, 14, 15, 16,\n",
              "       17, 18, 19, 20, 21, 22, 23, 24])"
            ]
          },
          "metadata": {
            "tags": []
          },
          "execution_count": 59
        }
      ]
    },
    {
      "cell_type": "markdown",
      "metadata": {
        "id": "listed-paraguay"
      },
      "source": [
        "# Reshape"
      ],
      "id": "listed-paraguay"
    },
    {
      "cell_type": "code",
      "metadata": {
        "id": "charitable-saudi"
      },
      "source": [
        ""
      ],
      "id": "charitable-saudi",
      "execution_count": null,
      "outputs": []
    },
    {
      "cell_type": "code",
      "metadata": {
        "id": "contained-insulation",
        "outputId": "7742378c-faae-4dc2-82e2-610825eea400"
      },
      "source": [
        "arr.shape"
      ],
      "id": "contained-insulation",
      "execution_count": null,
      "outputs": [
        {
          "output_type": "execute_result",
          "data": {
            "text/plain": [
              "(25,)"
            ]
          },
          "metadata": {
            "tags": []
          },
          "execution_count": 60
        }
      ]
    },
    {
      "cell_type": "code",
      "metadata": {
        "id": "searching-helena",
        "outputId": "c2b22283-adee-4bc4-f690-b43a2aed6635"
      },
      "source": [
        "arr.reshape(5, 4)\n",
        "\n",
        "# 25 tane değeri 5'e 4'e çeviremezsin. hata verir"
      ],
      "id": "searching-helena",
      "execution_count": null,
      "outputs": [
        {
          "output_type": "error",
          "ename": "ValueError",
          "evalue": "cannot reshape array of size 25 into shape (5,4)",
          "traceback": [
            "\u001b[1;31m---------------------------------------------------------------------------\u001b[0m",
            "\u001b[1;31mValueError\u001b[0m                                Traceback (most recent call last)",
            "\u001b[1;32m<ipython-input-61-333b1e120019>\u001b[0m in \u001b[0;36m<module>\u001b[1;34m\u001b[0m\n\u001b[1;32m----> 1\u001b[1;33m \u001b[0marr\u001b[0m\u001b[1;33m.\u001b[0m\u001b[0mreshape\u001b[0m\u001b[1;33m(\u001b[0m\u001b[1;36m5\u001b[0m\u001b[1;33m,\u001b[0m \u001b[1;36m4\u001b[0m\u001b[1;33m)\u001b[0m\u001b[1;33m\u001b[0m\u001b[1;33m\u001b[0m\u001b[0m\n\u001b[0m\u001b[0;32m      2\u001b[0m \u001b[1;33m\u001b[0m\u001b[0m\n\u001b[0;32m      3\u001b[0m \u001b[1;31m# 25 tane değeri 5'e 4'e çeviremezsin. hata verir\u001b[0m\u001b[1;33m\u001b[0m\u001b[1;33m\u001b[0m\u001b[1;33m\u001b[0m\u001b[0m\n",
            "\u001b[1;31mValueError\u001b[0m: cannot reshape array of size 25 into shape (5,4)"
          ]
        }
      ]
    },
    {
      "cell_type": "code",
      "metadata": {
        "id": "miniature-bathroom",
        "outputId": "736fc52c-fad5-4cfa-c0f4-42be07886358"
      },
      "source": [
        "# 5'e 5 yaparsak olur.\n",
        "\n",
        "arr.reshape(5, 5)"
      ],
      "id": "miniature-bathroom",
      "execution_count": null,
      "outputs": [
        {
          "output_type": "execute_result",
          "data": {
            "text/plain": [
              "array([[ 0,  1,  2,  3,  4],\n",
              "       [ 5,  6,  7,  8,  9],\n",
              "       [10, 11, 12, 13, 14],\n",
              "       [15, 16, 17, 18, 19],\n",
              "       [20, 21, 22, 23, 24]])"
            ]
          },
          "metadata": {
            "tags": []
          },
          "execution_count": 62
        }
      ]
    },
    {
      "cell_type": "markdown",
      "metadata": {
        "id": "packed-jordan"
      },
      "source": [
        "# max, min, argmax, argmin"
      ],
      "id": "packed-jordan"
    },
    {
      "cell_type": "code",
      "metadata": {
        "id": "funky-holmes",
        "outputId": "fe3ed9bc-4511-4447-8a6d-460efd481aac"
      },
      "source": [
        "arr2"
      ],
      "id": "funky-holmes",
      "execution_count": null,
      "outputs": [
        {
          "output_type": "execute_result",
          "data": {
            "text/plain": [
              "array([24, 12, 32, 12,  9, 21, 39, 32,  3, 40])"
            ]
          },
          "metadata": {
            "tags": []
          },
          "execution_count": 64
        }
      ]
    },
    {
      "cell_type": "code",
      "metadata": {
        "id": "female-adapter",
        "outputId": "02363a02-65de-4ca2-ec56-f0d389c29056"
      },
      "source": [
        "arr2.max()\n",
        "\n",
        "# en yüksek değeri verir"
      ],
      "id": "female-adapter",
      "execution_count": null,
      "outputs": [
        {
          "output_type": "execute_result",
          "data": {
            "text/plain": [
              "40"
            ]
          },
          "metadata": {
            "tags": []
          },
          "execution_count": 65
        }
      ]
    },
    {
      "cell_type": "code",
      "metadata": {
        "id": "mexican-variation",
        "outputId": "186dfdcd-a1df-4e1e-fa30-0256f5177020"
      },
      "source": [
        "arr2.argmax()\n",
        "\n",
        "# en yüksek değerin indeksini verir"
      ],
      "id": "mexican-variation",
      "execution_count": null,
      "outputs": [
        {
          "output_type": "execute_result",
          "data": {
            "text/plain": [
              "9"
            ]
          },
          "metadata": {
            "tags": []
          },
          "execution_count": 66
        }
      ]
    },
    {
      "cell_type": "code",
      "metadata": {
        "id": "inclusive-upgrade",
        "outputId": "7019d486-11de-45c7-91af-d1921842dc23"
      },
      "source": [
        "arr2.argmin()"
      ],
      "id": "inclusive-upgrade",
      "execution_count": null,
      "outputs": [
        {
          "output_type": "execute_result",
          "data": {
            "text/plain": [
              "8"
            ]
          },
          "metadata": {
            "tags": []
          },
          "execution_count": 67
        }
      ]
    },
    {
      "cell_type": "markdown",
      "metadata": {
        "id": "orange-liberty"
      },
      "source": [
        "# Shape"
      ],
      "id": "orange-liberty"
    },
    {
      "cell_type": "code",
      "metadata": {
        "id": "respiratory-bachelor",
        "outputId": "9d87b1d5-6409-4b3a-bb5d-e0b6c11f18e6"
      },
      "source": [
        "arr.shape\n",
        "\n",
        "# 25 değerden oluşan bir array imiz olduğunu görüyoruz"
      ],
      "id": "respiratory-bachelor",
      "execution_count": null,
      "outputs": [
        {
          "output_type": "execute_result",
          "data": {
            "text/plain": [
              "(25,)"
            ]
          },
          "metadata": {
            "tags": []
          },
          "execution_count": 68
        }
      ]
    },
    {
      "cell_type": "code",
      "metadata": {
        "id": "mathematical-customer",
        "outputId": "e78edb9b-d991-4495-f933-802026e1abfe"
      },
      "source": [
        "arr.reshape(1, 25)\n",
        "\n",
        "# shape ine tekrar bakarsak.\n",
        "\n",
        "# 1 satır 25 sütun olarak düşünebilirsin."
      ],
      "id": "mathematical-customer",
      "execution_count": null,
      "outputs": [
        {
          "output_type": "execute_result",
          "data": {
            "text/plain": [
              "array([[ 0,  1,  2,  3,  4,  5,  6,  7,  8,  9, 10, 11, 12, 13, 14, 15,\n",
              "        16, 17, 18, 19, 20, 21, 22, 23, 24]])"
            ]
          },
          "metadata": {
            "tags": []
          },
          "execution_count": 69
        }
      ]
    },
    {
      "cell_type": "code",
      "metadata": {
        "id": "charged-footwear",
        "outputId": "c5b8d277-358d-4b44-d2cf-d367bcaa9618"
      },
      "source": [
        "arr.reshape(25, 1)\n",
        "\n",
        "# 25 satır 1 sütun olarak düşünebilirsin.\n",
        "\n",
        "# verileri bu şekilde shape yapabiliyoruz."
      ],
      "id": "charged-footwear",
      "execution_count": null,
      "outputs": [
        {
          "output_type": "execute_result",
          "data": {
            "text/plain": [
              "array([[ 0],\n",
              "       [ 1],\n",
              "       [ 2],\n",
              "       [ 3],\n",
              "       [ 4],\n",
              "       [ 5],\n",
              "       [ 6],\n",
              "       [ 7],\n",
              "       [ 8],\n",
              "       [ 9],\n",
              "       [10],\n",
              "       [11],\n",
              "       [12],\n",
              "       [13],\n",
              "       [14],\n",
              "       [15],\n",
              "       [16],\n",
              "       [17],\n",
              "       [18],\n",
              "       [19],\n",
              "       [20],\n",
              "       [21],\n",
              "       [22],\n",
              "       [23],\n",
              "       [24]])"
            ]
          },
          "metadata": {
            "tags": []
          },
          "execution_count": 70
        }
      ]
    },
    {
      "cell_type": "markdown",
      "metadata": {
        "id": "capital-encounter"
      },
      "source": [
        "# dtype"
      ],
      "id": "capital-encounter"
    },
    {
      "cell_type": "code",
      "metadata": {
        "id": "opened-automation",
        "outputId": "b510befd-978b-4ebf-b775-5b63ce212e31"
      },
      "source": [
        "arr"
      ],
      "id": "opened-automation",
      "execution_count": null,
      "outputs": [
        {
          "output_type": "execute_result",
          "data": {
            "text/plain": [
              "array([ 0,  1,  2,  3,  4,  5,  6,  7,  8,  9, 10, 11, 12, 13, 14, 15, 16,\n",
              "       17, 18, 19, 20, 21, 22, 23, 24])"
            ]
          },
          "metadata": {
            "tags": []
          },
          "execution_count": 71
        }
      ]
    },
    {
      "cell_type": "code",
      "metadata": {
        "id": "nuclear-diamond",
        "outputId": "b8d044f5-15e3-4e2c-d4b2-18b2fee19c73"
      },
      "source": [
        "arr.dtype"
      ],
      "id": "nuclear-diamond",
      "execution_count": null,
      "outputs": [
        {
          "output_type": "execute_result",
          "data": {
            "text/plain": [
              "dtype('int32')"
            ]
          },
          "metadata": {
            "tags": []
          },
          "execution_count": 72
        }
      ]
    },
    {
      "cell_type": "code",
      "metadata": {
        "id": "baking-control",
        "outputId": "7d3a1cb7-961c-4453-8f15-7463b3bfb8f1"
      },
      "source": [
        "b = np.full( (4,6), 2.2)\n",
        "b"
      ],
      "id": "baking-control",
      "execution_count": null,
      "outputs": [
        {
          "output_type": "execute_result",
          "data": {
            "text/plain": [
              "array([[2.2, 2.2, 2.2, 2.2, 2.2, 2.2],\n",
              "       [2.2, 2.2, 2.2, 2.2, 2.2, 2.2],\n",
              "       [2.2, 2.2, 2.2, 2.2, 2.2, 2.2],\n",
              "       [2.2, 2.2, 2.2, 2.2, 2.2, 2.2]])"
            ]
          },
          "metadata": {
            "tags": []
          },
          "execution_count": 73
        }
      ]
    },
    {
      "cell_type": "code",
      "metadata": {
        "id": "limiting-sydney",
        "outputId": "e029fb43-a5d1-4988-c108-405c3e3de225"
      },
      "source": [
        "# array'ın tipini görelim\n",
        "\n",
        "b.dtype"
      ],
      "id": "limiting-sydney",
      "execution_count": null,
      "outputs": [
        {
          "output_type": "execute_result",
          "data": {
            "text/plain": [
              "dtype('float64')"
            ]
          },
          "metadata": {
            "tags": []
          },
          "execution_count": 74
        }
      ]
    },
    {
      "cell_type": "markdown",
      "metadata": {
        "id": "indonesian-dream"
      },
      "source": [
        "# ndim"
      ],
      "id": "indonesian-dream"
    },
    {
      "cell_type": "code",
      "metadata": {
        "id": "israeli-friend"
      },
      "source": [
        "# kaç boyutlu olduğunu görebiliyoruz"
      ],
      "id": "israeli-friend",
      "execution_count": null,
      "outputs": []
    },
    {
      "cell_type": "code",
      "metadata": {
        "id": "dressed-square",
        "outputId": "7ee5188f-0274-4e58-cd42-04a4d5751574"
      },
      "source": [
        "b.ndim\n",
        "\n",
        "# satır ve sütundan oluşan yani 2 boyutlu bir array olduğunu görebiliyoruz"
      ],
      "id": "dressed-square",
      "execution_count": null,
      "outputs": [
        {
          "output_type": "execute_result",
          "data": {
            "text/plain": [
              "2"
            ]
          },
          "metadata": {
            "tags": []
          },
          "execution_count": 75
        }
      ]
    },
    {
      "cell_type": "code",
      "metadata": {
        "id": "treated-municipality",
        "outputId": "cb9c96bc-ac5f-43ac-89b0-af124114bda2"
      },
      "source": [
        "arr.ndim\n",
        "\n",
        "# sadece sütunlardan oluşan yani 1 boyutlu bir array.."
      ],
      "id": "treated-municipality",
      "execution_count": null,
      "outputs": [
        {
          "output_type": "execute_result",
          "data": {
            "text/plain": [
              "1"
            ]
          },
          "metadata": {
            "tags": []
          },
          "execution_count": 76
        }
      ]
    },
    {
      "cell_type": "markdown",
      "metadata": {
        "id": "every-things"
      },
      "source": [
        "# size"
      ],
      "id": "every-things"
    },
    {
      "cell_type": "code",
      "metadata": {
        "id": "simple-watts",
        "outputId": "e5f65f89-d3ca-4f47-8eae-f209db220ce4"
      },
      "source": [
        "b"
      ],
      "id": "simple-watts",
      "execution_count": null,
      "outputs": [
        {
          "output_type": "execute_result",
          "data": {
            "text/plain": [
              "array([[2.2, 2.2, 2.2, 2.2, 2.2, 2.2],\n",
              "       [2.2, 2.2, 2.2, 2.2, 2.2, 2.2],\n",
              "       [2.2, 2.2, 2.2, 2.2, 2.2, 2.2],\n",
              "       [2.2, 2.2, 2.2, 2.2, 2.2, 2.2]])"
            ]
          },
          "metadata": {
            "tags": []
          },
          "execution_count": 77
        }
      ]
    },
    {
      "cell_type": "code",
      "metadata": {
        "id": "passing-death",
        "outputId": "4d441bf2-104f-42e2-f087-be45387f3318"
      },
      "source": [
        "b.size\n",
        "\n",
        "# 6 sütun ver 4 satır yani size ı toplam 24 elemandan oluşutor."
      ],
      "id": "passing-death",
      "execution_count": null,
      "outputs": [
        {
          "output_type": "execute_result",
          "data": {
            "text/plain": [
              "24"
            ]
          },
          "metadata": {
            "tags": []
          },
          "execution_count": 78
        }
      ]
    },
    {
      "cell_type": "code",
      "metadata": {
        "id": "sacred-access"
      },
      "source": [
        "a = np.random.randint(10, size=(3,5))"
      ],
      "id": "sacred-access",
      "execution_count": null,
      "outputs": []
    },
    {
      "cell_type": "code",
      "metadata": {
        "id": "analyzed-sight",
        "outputId": "8b5807b3-ffc5-4b38-df14-e58cdddfc807"
      },
      "source": [
        "a"
      ],
      "id": "analyzed-sight",
      "execution_count": null,
      "outputs": [
        {
          "output_type": "execute_result",
          "data": {
            "text/plain": [
              "array([[6, 7, 0, 8, 6],\n",
              "       [3, 2, 7, 7, 9],\n",
              "       [8, 3, 8, 0, 2]])"
            ]
          },
          "metadata": {
            "tags": []
          },
          "execution_count": 80
        }
      ]
    },
    {
      "cell_type": "code",
      "metadata": {
        "id": "boolean-concern",
        "outputId": "6e2b7d07-cec5-4357-e8ca-6b800dbe6c35"
      },
      "source": [
        "a.ndim\n",
        "\n",
        " # dimension una baktığımızda 2 boyutlu oluğunu görebiliyoruz"
      ],
      "id": "boolean-concern",
      "execution_count": null,
      "outputs": [
        {
          "output_type": "execute_result",
          "data": {
            "text/plain": [
              "2"
            ]
          },
          "metadata": {
            "tags": []
          },
          "execution_count": 81
        }
      ]
    },
    {
      "cell_type": "code",
      "metadata": {
        "id": "related-little",
        "outputId": "6dfc1b9b-754e-4d5a-a924-4af5042b9b1d"
      },
      "source": [
        "a.dtype\n",
        "\n",
        "# tipnin integer olduğunu görebiliyoruz"
      ],
      "id": "related-little",
      "execution_count": null,
      "outputs": [
        {
          "output_type": "execute_result",
          "data": {
            "text/plain": [
              "dtype('int32')"
            ]
          },
          "metadata": {
            "tags": []
          },
          "execution_count": 82
        }
      ]
    },
    {
      "cell_type": "code",
      "metadata": {
        "id": "respiratory-maria",
        "outputId": "10039bdc-8460-4916-d0f2-2e0c68d7766d"
      },
      "source": [
        "arr"
      ],
      "id": "respiratory-maria",
      "execution_count": null,
      "outputs": [
        {
          "output_type": "execute_result",
          "data": {
            "text/plain": [
              "array([ 0,  1,  2,  3,  4,  5,  6,  7,  8,  9, 10, 11, 12, 13, 14, 15, 16,\n",
              "       17, 18, 19, 20, 21, 22, 23, 24])"
            ]
          },
          "metadata": {
            "tags": []
          },
          "execution_count": 83
        }
      ]
    },
    {
      "cell_type": "code",
      "metadata": {
        "id": "mobile-allergy",
        "outputId": "e74b1375-642f-4a24-c6dd-685a81705beb"
      },
      "source": [
        "arr.ndim"
      ],
      "id": "mobile-allergy",
      "execution_count": null,
      "outputs": [
        {
          "output_type": "execute_result",
          "data": {
            "text/plain": [
              "1"
            ]
          },
          "metadata": {
            "tags": []
          },
          "execution_count": 84
        }
      ]
    },
    {
      "cell_type": "markdown",
      "metadata": {
        "id": "public-acoustic"
      },
      "source": [
        "# Concatenation of the Arrays"
      ],
      "id": "public-acoustic"
    },
    {
      "cell_type": "code",
      "metadata": {
        "id": "sustainable-cemetery"
      },
      "source": [
        "# birleştirmek üzere 2 array oluşturalım\n",
        "\n",
        "x = np.array([1,2,3])\n",
        "y = np.array([4,5,6])"
      ],
      "id": "sustainable-cemetery",
      "execution_count": 19,
      "outputs": []
    },
    {
      "cell_type": "code",
      "metadata": {
        "colab": {
          "base_uri": "https://localhost:8080/"
        },
        "id": "UA_OatuLRRp9",
        "outputId": "3801e943-8e69-4a40-b397-3406f16aa56a"
      },
      "source": [
        "x"
      ],
      "id": "UA_OatuLRRp9",
      "execution_count": 20,
      "outputs": [
        {
          "output_type": "execute_result",
          "data": {
            "text/plain": [
              "array([1, 2, 3])"
            ]
          },
          "metadata": {
            "tags": []
          },
          "execution_count": 20
        }
      ]
    },
    {
      "cell_type": "code",
      "metadata": {
        "id": "quarterly-cambodia",
        "outputId": "707955ad-eda0-422e-db6c-73ffa2522c6c"
      },
      "source": [
        "y"
      ],
      "id": "quarterly-cambodia",
      "execution_count": null,
      "outputs": [
        {
          "output_type": "execute_result",
          "data": {
            "text/plain": [
              "array([4, 5, 6])"
            ]
          },
          "metadata": {
            "tags": []
          },
          "execution_count": 88
        }
      ]
    },
    {
      "cell_type": "code",
      "metadata": {
        "id": "neutral-percentage",
        "outputId": "75a0f48d-8328-4b77-9629-e2f0b30e134c"
      },
      "source": [
        "# iki array i birleştirelim\n",
        "\n",
        "np.concatenate([x,y])"
      ],
      "id": "neutral-percentage",
      "execution_count": null,
      "outputs": [
        {
          "output_type": "execute_result",
          "data": {
            "text/plain": [
              "array([1, 2, 3, 4, 5, 6])"
            ]
          },
          "metadata": {
            "tags": []
          },
          "execution_count": 89
        }
      ]
    },
    {
      "cell_type": "markdown",
      "metadata": {
        "id": "intensive-andorra"
      },
      "source": [
        "# 2d matrix"
      ],
      "id": "intensive-andorra"
    },
    {
      "cell_type": "code",
      "metadata": {
        "id": "asian-humor",
        "outputId": "1128b418-c654-43f9-b6fe-1e17c14189c3"
      },
      "source": [
        "a = np.array([[1,2,3],\n",
        "             [4,5,6]])\n",
        "a"
      ],
      "id": "asian-humor",
      "execution_count": null,
      "outputs": [
        {
          "output_type": "execute_result",
          "data": {
            "text/plain": [
              "array([[1, 2, 3],\n",
              "       [4, 5, 6]])"
            ]
          },
          "metadata": {
            "tags": []
          },
          "execution_count": 90
        }
      ]
    },
    {
      "cell_type": "code",
      "metadata": {
        "id": "pacific-festival",
        "outputId": "d496186b-0149-4a80-f494-e00ea07304a2"
      },
      "source": [
        "np.concatenate([a,a])\n",
        "\n",
        "# a arrayini yine kendisiyle birleştirelim"
      ],
      "id": "pacific-festival",
      "execution_count": null,
      "outputs": [
        {
          "output_type": "execute_result",
          "data": {
            "text/plain": [
              "array([[1, 2, 3],\n",
              "       [4, 5, 6],\n",
              "       [1, 2, 3],\n",
              "       [4, 5, 6]])"
            ]
          },
          "metadata": {
            "tags": []
          },
          "execution_count": 91
        }
      ]
    },
    {
      "cell_type": "code",
      "metadata": {
        "id": "second-senate",
        "outputId": "5a38c563-cfac-4c81-b87d-30039f9288ab"
      },
      "source": [
        "# bu sefer de sütun bazında yan yana birleştirelim, default olarak axis 0 a eşit olduğundan satır bazında birleştirme yukarıdaki gibidir.\n",
        "\n",
        "np.concatenate([a,a], axis=1)"
      ],
      "id": "second-senate",
      "execution_count": null,
      "outputs": [
        {
          "output_type": "execute_result",
          "data": {
            "text/plain": [
              "array([[1, 2, 3, 1, 2, 3],\n",
              "       [4, 5, 6, 4, 5, 6]])"
            ]
          },
          "metadata": {
            "tags": []
          },
          "execution_count": 92
        }
      ]
    },
    {
      "cell_type": "code",
      "metadata": {
        "id": "SbLvbUWmRqX1"
      },
      "source": [
        ""
      ],
      "id": "SbLvbUWmRqX1",
      "execution_count": null,
      "outputs": []
    },
    {
      "cell_type": "markdown",
      "metadata": {
        "id": "hollywood-fighter"
      },
      "source": [
        "# Splitting of the Arrays"
      ],
      "id": "hollywood-fighter"
    },
    {
      "cell_type": "code",
      "metadata": {
        "id": "rough-courage"
      },
      "source": [
        "x = np.array([1,24,53, 99, 99, 3, 2, 1])"
      ],
      "id": "rough-courage",
      "execution_count": 22,
      "outputs": []
    },
    {
      "cell_type": "code",
      "metadata": {
        "id": "stupid-hampshire",
        "outputId": "0bfab6a7-d379-41ff-cc34-d30bbf2f30e2"
      },
      "source": [
        "np.split(x, [3, 5])\n",
        "\n",
        "# bu şekilde bölebiliyoruz (split edebiliyoruz)\n",
        "# önce 3. sonra 5. indeksten itibaren böldük"
      ],
      "id": "stupid-hampshire",
      "execution_count": null,
      "outputs": [
        {
          "output_type": "execute_result",
          "data": {
            "text/plain": [
              "[array([ 1, 24, 53]), array([99, 99]), array([3, 2, 1])]"
            ]
          },
          "metadata": {
            "tags": []
          },
          "execution_count": 94
        }
      ]
    },
    {
      "cell_type": "code",
      "metadata": {
        "id": "allied-kentucky",
        "outputId": "51dac803-41ad-4869-da21-d5ae9429f3f3"
      },
      "source": [
        "np.split(x, 2) \n",
        "\n",
        "#bu şekilde kaç parçaya bölebileceğimizi belirleyebiliyoruz. burada array i 2 parçaya böldük"
      ],
      "id": "allied-kentucky",
      "execution_count": null,
      "outputs": [
        {
          "output_type": "execute_result",
          "data": {
            "text/plain": [
              "[array([ 1, 24, 53, 99]), array([99,  3,  2,  1])]"
            ]
          },
          "metadata": {
            "tags": []
          },
          "execution_count": 95
        }
      ]
    },
    {
      "cell_type": "code",
      "metadata": {
        "id": "single-cornell",
        "outputId": "253c7549-7cfc-498f-e074-9f66df5cdf73"
      },
      "source": [
        "np.split(x, 3)\n",
        "\n",
        "# split eşit böldüğü için ve array 8 eleman olduğu için 3 e bölemeyecek"
      ],
      "id": "single-cornell",
      "execution_count": null,
      "outputs": [
        {
          "output_type": "error",
          "ename": "ValueError",
          "evalue": "array split does not result in an equal division",
          "traceback": [
            "\u001b[1;31m---------------------------------------------------------------------------\u001b[0m",
            "\u001b[1;31mValueError\u001b[0m                                Traceback (most recent call last)",
            "\u001b[1;32m<ipython-input-104-d7a3418ddee8>\u001b[0m in \u001b[0;36m<module>\u001b[1;34m\u001b[0m\n\u001b[1;32m----> 1\u001b[1;33m \u001b[0mnp\u001b[0m\u001b[1;33m.\u001b[0m\u001b[0msplit\u001b[0m\u001b[1;33m(\u001b[0m\u001b[0mx\u001b[0m\u001b[1;33m,\u001b[0m \u001b[1;36m3\u001b[0m\u001b[1;33m)\u001b[0m\u001b[1;33m\u001b[0m\u001b[1;33m\u001b[0m\u001b[0m\n\u001b[0m\u001b[0;32m      2\u001b[0m \u001b[1;33m\u001b[0m\u001b[0m\n\u001b[0;32m      3\u001b[0m \u001b[1;31m# split eşit böldüğü için ve 8 eleman olduğu için 3 e bölemeyecek\u001b[0m\u001b[1;33m\u001b[0m\u001b[1;33m\u001b[0m\u001b[1;33m\u001b[0m\u001b[0m\n",
            "\u001b[1;32m<__array_function__ internals>\u001b[0m in \u001b[0;36msplit\u001b[1;34m(*args, **kwargs)\u001b[0m\n",
            "\u001b[1;32mc:\\users\\hüseyin\\appdata\\local\\programs\\python\\python37\\lib\\site-packages\\numpy\\lib\\shape_base.py\u001b[0m in \u001b[0;36msplit\u001b[1;34m(ary, indices_or_sections, axis)\u001b[0m\n\u001b[0;32m    871\u001b[0m         \u001b[1;32mif\u001b[0m \u001b[0mN\u001b[0m \u001b[1;33m%\u001b[0m \u001b[0msections\u001b[0m\u001b[1;33m:\u001b[0m\u001b[1;33m\u001b[0m\u001b[1;33m\u001b[0m\u001b[0m\n\u001b[0;32m    872\u001b[0m             raise ValueError(\n\u001b[1;32m--> 873\u001b[1;33m                 'array split does not result in an equal division') from None\n\u001b[0m\u001b[0;32m    874\u001b[0m     \u001b[1;32mreturn\u001b[0m \u001b[0marray_split\u001b[0m\u001b[1;33m(\u001b[0m\u001b[0mary\u001b[0m\u001b[1;33m,\u001b[0m \u001b[0mindices_or_sections\u001b[0m\u001b[1;33m,\u001b[0m \u001b[0maxis\u001b[0m\u001b[1;33m)\u001b[0m\u001b[1;33m\u001b[0m\u001b[1;33m\u001b[0m\u001b[0m\n\u001b[0;32m    875\u001b[0m \u001b[1;33m\u001b[0m\u001b[0m\n",
            "\u001b[1;31mValueError\u001b[0m: array split does not result in an equal division"
          ]
        }
      ]
    },
    {
      "cell_type": "code",
      "metadata": {
        "colab": {
          "base_uri": "https://localhost:8080/"
        },
        "id": "Ktu0at6_SHKe",
        "outputId": "21f581ae-443f-4ca6-f36a-286ff0e157f2"
      },
      "source": [
        "np.array_split(x,3)\n",
        "\n",
        "# _split ile .split arasındaki fark"
      ],
      "id": "Ktu0at6_SHKe",
      "execution_count": 23,
      "outputs": [
        {
          "output_type": "execute_result",
          "data": {
            "text/plain": [
              "[array([ 1, 24, 53]), array([99, 99,  3]), array([2, 1])]"
            ]
          },
          "metadata": {
            "tags": []
          },
          "execution_count": 23
        }
      ]
    },
    {
      "cell_type": "markdown",
      "metadata": {
        "id": "regulation-republican"
      },
      "source": [
        "# 2d matrix"
      ],
      "id": "regulation-republican"
    },
    {
      "cell_type": "code",
      "metadata": {
        "colab": {
          "base_uri": "https://localhost:8080/"
        },
        "id": "dependent-night",
        "outputId": "4786eec4-e4b5-4281-adee-25e501767633"
      },
      "source": [
        "# 2 boyutlu bir matrix belirleyelim\n",
        "\n",
        "m = np.arange(20).reshape(5,4)\n",
        "m"
      ],
      "id": "dependent-night",
      "execution_count": 25,
      "outputs": [
        {
          "output_type": "execute_result",
          "data": {
            "text/plain": [
              "array([[ 0,  1,  2,  3],\n",
              "       [ 4,  5,  6,  7],\n",
              "       [ 8,  9, 10, 11],\n",
              "       [12, 13, 14, 15],\n",
              "       [16, 17, 18, 19]])"
            ]
          },
          "metadata": {
            "tags": []
          },
          "execution_count": 25
        }
      ]
    },
    {
      "cell_type": "code",
      "metadata": {
        "id": "facial-failing",
        "outputId": "950f373b-8ab8-4de0-e2b0-ea1bdca2ce73"
      },
      "source": [
        "np.vsplit(m, [1,3])\n",
        "\n",
        "# 2 boyutlu array de vsplit kullanıyoruz\n",
        "# satır bazında bölüyor. önce 1. indeksten böldük. sonra da geri kalanını 3. indeksten böldük"
      ],
      "id": "facial-failing",
      "execution_count": null,
      "outputs": [
        {
          "output_type": "execute_result",
          "data": {
            "text/plain": [
              "[array([[0, 1, 2, 3]]),\n",
              " array([[ 4,  5,  6,  7],\n",
              "        [ 8,  9, 10, 11]]),\n",
              " array([[12, 13, 14, 15],\n",
              "        [16, 17, 18, 19]])]"
            ]
          },
          "metadata": {
            "tags": []
          },
          "execution_count": 101
        }
      ]
    },
    {
      "cell_type": "code",
      "metadata": {
        "id": "powerful-december",
        "outputId": "d00426c7-3d5a-48bd-f590-6cc0dd9ab742"
      },
      "source": [
        "np.vsplit(m, [3])\n",
        "\n",
        "# yalnızca 3 yazınca önce 0,1,2. indeksleri alarak 3. indeksten böldü"
      ],
      "id": "powerful-december",
      "execution_count": null,
      "outputs": [
        {
          "output_type": "execute_result",
          "data": {
            "text/plain": [
              "[array([[ 0,  1,  2,  3],\n",
              "        [ 4,  5,  6,  7],\n",
              "        [ 8,  9, 10, 11]]),\n",
              " array([[12, 13, 14, 15],\n",
              "        [16, 17, 18, 19]])]"
            ]
          },
          "metadata": {
            "tags": []
          },
          "execution_count": 102
        }
      ]
    },
    {
      "cell_type": "code",
      "metadata": {
        "id": "built-glucose"
      },
      "source": [
        "upper, lower = np.vsplit(m, [3])\n",
        "\n",
        "#upper ve lower değişkenlerine değer atadık."
      ],
      "id": "built-glucose",
      "execution_count": null,
      "outputs": []
    },
    {
      "cell_type": "code",
      "metadata": {
        "id": "objective-import",
        "outputId": "eab2a58e-935b-4789-b91c-6cfbe1b14825"
      },
      "source": [
        "np.vsplit(m, [3])"
      ],
      "id": "objective-import",
      "execution_count": null,
      "outputs": [
        {
          "output_type": "execute_result",
          "data": {
            "text/plain": [
              "[array([[ 0,  1,  2,  3],\n",
              "        [ 4,  5,  6,  7],\n",
              "        [ 8,  9, 10, 11]]),\n",
              " array([[12, 13, 14, 15],\n",
              "        [16, 17, 18, 19]])]"
            ]
          },
          "metadata": {
            "tags": []
          },
          "execution_count": 105
        }
      ]
    },
    {
      "cell_type": "code",
      "metadata": {
        "id": "agreed-backing",
        "outputId": "0537cb37-64b5-40bc-9414-75c49395665f"
      },
      "source": [
        "upper\n",
        "\n",
        "# bölünen array in üst tarafını aldık "
      ],
      "id": "agreed-backing",
      "execution_count": null,
      "outputs": [
        {
          "output_type": "execute_result",
          "data": {
            "text/plain": [
              "array([[ 0,  1,  2,  3],\n",
              "       [ 4,  5,  6,  7],\n",
              "       [ 8,  9, 10, 11]])"
            ]
          },
          "metadata": {
            "tags": []
          },
          "execution_count": 106
        }
      ]
    },
    {
      "cell_type": "code",
      "metadata": {
        "id": "proof-dialogue",
        "outputId": "45d3db64-a735-4c64-88ca-0ac405dd6074"
      },
      "source": [
        "lower\n",
        "\n",
        "# bölünen array in alt tarafını aldık "
      ],
      "id": "proof-dialogue",
      "execution_count": null,
      "outputs": [
        {
          "output_type": "execute_result",
          "data": {
            "text/plain": [
              "array([[12, 13, 14, 15],\n",
              "       [16, 17, 18, 19]])"
            ]
          },
          "metadata": {
            "tags": []
          },
          "execution_count": 107
        }
      ]
    },
    {
      "cell_type": "code",
      "metadata": {
        "colab": {
          "base_uri": "https://localhost:8080/"
        },
        "id": "excellent-stage",
        "outputId": "b9f5f1b1-4734-4315-d58d-b4180c19ce80"
      },
      "source": [
        "np.vsplit(m, 5)\n",
        "\n",
        "# satırları direkt 5'e böldük ( köşeli parantez içinde olduğunda indeks olarak bölüyordu)"
      ],
      "id": "excellent-stage",
      "execution_count": 27,
      "outputs": [
        {
          "output_type": "execute_result",
          "data": {
            "text/plain": [
              "[array([[0, 1, 2, 3]]),\n",
              " array([[4, 5, 6, 7]]),\n",
              " array([[ 8,  9, 10, 11]]),\n",
              " array([[12, 13, 14, 15]]),\n",
              " array([[16, 17, 18, 19]])]"
            ]
          },
          "metadata": {
            "tags": []
          },
          "execution_count": 27
        }
      ]
    },
    {
      "cell_type": "code",
      "metadata": {
        "colab": {
          "base_uri": "https://localhost:8080/",
          "height": 488
        },
        "id": "pCyCVdp-TDIA",
        "outputId": "03ae5f6e-3e5c-4abd-bd33-736176cff221"
      },
      "source": [
        "np.vsplit(m, 3)\n",
        "\n",
        "# split eşit böldüğü için ve array 5 satırdan oluştuğu için 3 e bölemeyecek"
      ],
      "id": "pCyCVdp-TDIA",
      "execution_count": 29,
      "outputs": [
        {
          "output_type": "error",
          "ename": "ValueError",
          "evalue": "ignored",
          "traceback": [
            "\u001b[0;31m---------------------------------------------------------------------------\u001b[0m",
            "\u001b[0;31mTypeError\u001b[0m                                 Traceback (most recent call last)",
            "\u001b[0;32m/usr/local/lib/python3.7/dist-packages/numpy/lib/shape_base.py\u001b[0m in \u001b[0;36msplit\u001b[0;34m(ary, indices_or_sections, axis)\u001b[0m\n\u001b[1;32m    866\u001b[0m     \u001b[0;32mtry\u001b[0m\u001b[0;34m:\u001b[0m\u001b[0;34m\u001b[0m\u001b[0;34m\u001b[0m\u001b[0m\n\u001b[0;32m--> 867\u001b[0;31m         \u001b[0mlen\u001b[0m\u001b[0;34m(\u001b[0m\u001b[0mindices_or_sections\u001b[0m\u001b[0;34m)\u001b[0m\u001b[0;34m\u001b[0m\u001b[0;34m\u001b[0m\u001b[0m\n\u001b[0m\u001b[1;32m    868\u001b[0m     \u001b[0;32mexcept\u001b[0m \u001b[0mTypeError\u001b[0m\u001b[0;34m:\u001b[0m\u001b[0;34m\u001b[0m\u001b[0;34m\u001b[0m\u001b[0m\n",
            "\u001b[0;31mTypeError\u001b[0m: object of type 'int' has no len()",
            "\nDuring handling of the above exception, another exception occurred:\n",
            "\u001b[0;31mValueError\u001b[0m                                Traceback (most recent call last)",
            "\u001b[0;32m<ipython-input-29-fcbe57e7f62a>\u001b[0m in \u001b[0;36m<module>\u001b[0;34m()\u001b[0m\n\u001b[0;32m----> 1\u001b[0;31m \u001b[0mnp\u001b[0m\u001b[0;34m.\u001b[0m\u001b[0mvsplit\u001b[0m\u001b[0;34m(\u001b[0m\u001b[0mm\u001b[0m\u001b[0;34m,\u001b[0m \u001b[0;36m3\u001b[0m\u001b[0;34m)\u001b[0m\u001b[0;34m\u001b[0m\u001b[0;34m\u001b[0m\u001b[0m\n\u001b[0m",
            "\u001b[0;32m<__array_function__ internals>\u001b[0m in \u001b[0;36mvsplit\u001b[0;34m(*args, **kwargs)\u001b[0m\n",
            "\u001b[0;32m/usr/local/lib/python3.7/dist-packages/numpy/lib/shape_base.py\u001b[0m in \u001b[0;36mvsplit\u001b[0;34m(ary, indices_or_sections)\u001b[0m\n\u001b[1;32m    989\u001b[0m     \u001b[0;32mif\u001b[0m \u001b[0m_nx\u001b[0m\u001b[0;34m.\u001b[0m\u001b[0mndim\u001b[0m\u001b[0;34m(\u001b[0m\u001b[0mary\u001b[0m\u001b[0;34m)\u001b[0m \u001b[0;34m<\u001b[0m \u001b[0;36m2\u001b[0m\u001b[0;34m:\u001b[0m\u001b[0;34m\u001b[0m\u001b[0;34m\u001b[0m\u001b[0m\n\u001b[1;32m    990\u001b[0m         \u001b[0;32mraise\u001b[0m \u001b[0mValueError\u001b[0m\u001b[0;34m(\u001b[0m\u001b[0;34m'vsplit only works on arrays of 2 or more dimensions'\u001b[0m\u001b[0;34m)\u001b[0m\u001b[0;34m\u001b[0m\u001b[0;34m\u001b[0m\u001b[0m\n\u001b[0;32m--> 991\u001b[0;31m     \u001b[0;32mreturn\u001b[0m \u001b[0msplit\u001b[0m\u001b[0;34m(\u001b[0m\u001b[0mary\u001b[0m\u001b[0;34m,\u001b[0m \u001b[0mindices_or_sections\u001b[0m\u001b[0;34m,\u001b[0m \u001b[0;36m0\u001b[0m\u001b[0;34m)\u001b[0m\u001b[0;34m\u001b[0m\u001b[0;34m\u001b[0m\u001b[0m\n\u001b[0m\u001b[1;32m    992\u001b[0m \u001b[0;34m\u001b[0m\u001b[0m\n\u001b[1;32m    993\u001b[0m \u001b[0;34m\u001b[0m\u001b[0m\n",
            "\u001b[0;32m<__array_function__ internals>\u001b[0m in \u001b[0;36msplit\u001b[0;34m(*args, **kwargs)\u001b[0m\n",
            "\u001b[0;32m/usr/local/lib/python3.7/dist-packages/numpy/lib/shape_base.py\u001b[0m in \u001b[0;36msplit\u001b[0;34m(ary, indices_or_sections, axis)\u001b[0m\n\u001b[1;32m    871\u001b[0m         \u001b[0;32mif\u001b[0m \u001b[0mN\u001b[0m \u001b[0;34m%\u001b[0m \u001b[0msections\u001b[0m\u001b[0;34m:\u001b[0m\u001b[0;34m\u001b[0m\u001b[0;34m\u001b[0m\u001b[0m\n\u001b[1;32m    872\u001b[0m             raise ValueError(\n\u001b[0;32m--> 873\u001b[0;31m                 'array split does not result in an equal division')\n\u001b[0m\u001b[1;32m    874\u001b[0m     \u001b[0;32mreturn\u001b[0m \u001b[0marray_split\u001b[0m\u001b[0;34m(\u001b[0m\u001b[0mary\u001b[0m\u001b[0;34m,\u001b[0m \u001b[0mindices_or_sections\u001b[0m\u001b[0;34m,\u001b[0m \u001b[0maxis\u001b[0m\u001b[0;34m)\u001b[0m\u001b[0;34m\u001b[0m\u001b[0;34m\u001b[0m\u001b[0m\n\u001b[1;32m    875\u001b[0m \u001b[0;34m\u001b[0m\u001b[0m\n",
            "\u001b[0;31mValueError\u001b[0m: array split does not result in an equal division"
          ]
        }
      ]
    },
    {
      "cell_type": "code",
      "metadata": {
        "colab": {
          "base_uri": "https://localhost:8080/"
        },
        "id": "CnJoiBvzS6_l",
        "outputId": "b7cff061-f9c7-49cd-eeb7-2e2877d9b637"
      },
      "source": [
        "np.array_split(m,3)\n",
        "\n",
        "# _split ile .split arasındaki fark"
      ],
      "id": "CnJoiBvzS6_l",
      "execution_count": 28,
      "outputs": [
        {
          "output_type": "execute_result",
          "data": {
            "text/plain": [
              "[array([[0, 1, 2, 3],\n",
              "        [4, 5, 6, 7]]), array([[ 8,  9, 10, 11],\n",
              "        [12, 13, 14, 15]]), array([[16, 17, 18, 19]])]"
            ]
          },
          "metadata": {
            "tags": []
          },
          "execution_count": 28
        }
      ]
    },
    {
      "cell_type": "code",
      "metadata": {
        "id": "announced-mambo",
        "outputId": "dad23f47-aa24-478b-a44d-988feb683743"
      },
      "source": [
        "m"
      ],
      "id": "announced-mambo",
      "execution_count": null,
      "outputs": [
        {
          "output_type": "execute_result",
          "data": {
            "text/plain": [
              "array([[ 0,  1,  2,  3],\n",
              "       [ 4,  5,  6,  7],\n",
              "       [ 8,  9, 10, 11],\n",
              "       [12, 13, 14, 15],\n",
              "       [16, 17, 18, 19]])"
            ]
          },
          "metadata": {
            "tags": []
          },
          "execution_count": 109
        }
      ]
    },
    {
      "cell_type": "code",
      "metadata": {
        "id": "retained-groove",
        "outputId": "8124ad15-e355-44ba-a124-c3b647614930"
      },
      "source": [
        "# hsplit, sütun bazında  bölüyor.\n",
        "\n",
        "np.hsplit(m, [2])\n",
        "\n",
        "\n",
        "# sütunları sütunun 2. indeksinden böldü"
      ],
      "id": "retained-groove",
      "execution_count": null,
      "outputs": [
        {
          "output_type": "execute_result",
          "data": {
            "text/plain": [
              "[array([[ 0,  1],\n",
              "        [ 4,  5],\n",
              "        [ 8,  9],\n",
              "        [12, 13],\n",
              "        [16, 17]]),\n",
              " array([[ 2,  3],\n",
              "        [ 6,  7],\n",
              "        [10, 11],\n",
              "        [14, 15],\n",
              "        [18, 19]])]"
            ]
          },
          "metadata": {
            "tags": []
          },
          "execution_count": 111
        }
      ]
    },
    {
      "cell_type": "code",
      "metadata": {
        "id": "dietary-valuation",
        "outputId": "5758bf01-ec24-4e73-9e63-843ac80095ec"
      },
      "source": [
        "np.hsplit(m, 4)\n",
        "\n",
        "# 4 sütunumuz vardı. direkt 4'e bölelim"
      ],
      "id": "dietary-valuation",
      "execution_count": null,
      "outputs": [
        {
          "output_type": "execute_result",
          "data": {
            "text/plain": [
              "[array([[ 0],\n",
              "        [ 4],\n",
              "        [ 8],\n",
              "        [12],\n",
              "        [16]]),\n",
              " array([[ 1],\n",
              "        [ 5],\n",
              "        [ 9],\n",
              "        [13],\n",
              "        [17]]),\n",
              " array([[ 2],\n",
              "        [ 6],\n",
              "        [10],\n",
              "        [14],\n",
              "        [18]]),\n",
              " array([[ 3],\n",
              "        [ 7],\n",
              "        [11],\n",
              "        [15],\n",
              "        [19]])]"
            ]
          },
          "metadata": {
            "tags": []
          },
          "execution_count": 112
        }
      ]
    },
    {
      "cell_type": "markdown",
      "metadata": {
        "id": "shaped-reviewer"
      },
      "source": [
        "# Sorting of the Arrays"
      ],
      "id": "shaped-reviewer"
    },
    {
      "cell_type": "code",
      "metadata": {
        "id": "greatest-proposal"
      },
      "source": [
        "v = np.array([2,1,3,4,5])"
      ],
      "id": "greatest-proposal",
      "execution_count": 30,
      "outputs": []
    },
    {
      "cell_type": "code",
      "metadata": {
        "colab": {
          "base_uri": "https://localhost:8080/"
        },
        "id": "corporate-spending",
        "outputId": "a96ac352-cea4-4780-9720-45b3f7b66cf5"
      },
      "source": [
        "# array i sort edelim\n",
        "\n",
        "np.sort(v)"
      ],
      "id": "corporate-spending",
      "execution_count": 31,
      "outputs": [
        {
          "output_type": "execute_result",
          "data": {
            "text/plain": [
              "array([1, 2, 3, 4, 5])"
            ]
          },
          "metadata": {
            "tags": []
          },
          "execution_count": 31
        }
      ]
    },
    {
      "cell_type": "markdown",
      "metadata": {
        "id": "engaged-bidder"
      },
      "source": [
        "# 2d matrix te sort"
      ],
      "id": "engaged-bidder"
    },
    {
      "cell_type": "code",
      "metadata": {
        "id": "worst-tsunami"
      },
      "source": [
        "twoD = np.random.randint(5, 100, (3,3))"
      ],
      "id": "worst-tsunami",
      "execution_count": null,
      "outputs": []
    },
    {
      "cell_type": "code",
      "metadata": {
        "id": "proprietary-machine",
        "outputId": "4cfdd659-2140-4300-c403-57b24d9681a3"
      },
      "source": [
        "twoD"
      ],
      "id": "proprietary-machine",
      "execution_count": null,
      "outputs": [
        {
          "output_type": "execute_result",
          "data": {
            "text/plain": [
              "array([[88, 20, 45],\n",
              "       [62, 68, 20],\n",
              "       [ 6, 96, 35]])"
            ]
          },
          "metadata": {
            "tags": []
          },
          "execution_count": 116
        }
      ]
    },
    {
      "cell_type": "code",
      "metadata": {
        "id": "rental-narrative",
        "outputId": "6a28fa34-763d-4ddc-ad58-953e1dae89cb"
      },
      "source": [
        "np.sort(twoD, axis = 0) \n",
        "\n",
        "  # axis'i 0 olarak belirleyince satıra bazında sıralayacak"
      ],
      "id": "rental-narrative",
      "execution_count": null,
      "outputs": [
        {
          "output_type": "execute_result",
          "data": {
            "text/plain": [
              "array([[ 6, 20, 20],\n",
              "       [62, 68, 35],\n",
              "       [88, 96, 45]])"
            ]
          },
          "metadata": {
            "tags": []
          },
          "execution_count": 117
        }
      ]
    },
    {
      "cell_type": "code",
      "metadata": {
        "id": "alike-cable",
        "outputId": "6dc70711-0fc6-4074-e35c-9a02be067c35"
      },
      "source": [
        " # aynısını sütun için de yapalım,\n",
        "\n",
        "np.sort(twoD, axis = 1)\n",
        "\n",
        " # axis'i 1 olarak belirleyince sütun bazında sıralayacak"
      ],
      "id": "alike-cable",
      "execution_count": null,
      "outputs": [
        {
          "output_type": "execute_result",
          "data": {
            "text/plain": [
              "array([[20, 45, 88],\n",
              "       [20, 62, 68],\n",
              "       [ 6, 35, 96]])"
            ]
          },
          "metadata": {
            "tags": []
          },
          "execution_count": 118
        }
      ]
    },
    {
      "cell_type": "code",
      "metadata": {
        "id": "assisted-fleet"
      },
      "source": [
        ""
      ],
      "id": "assisted-fleet",
      "execution_count": null,
      "outputs": []
    },
    {
      "cell_type": "code",
      "metadata": {
        "id": "sound-safety"
      },
      "source": [
        ""
      ],
      "id": "sound-safety",
      "execution_count": null,
      "outputs": []
    },
    {
      "cell_type": "code",
      "metadata": {
        "id": "timely-satisfaction"
      },
      "source": [
        ""
      ],
      "id": "timely-satisfaction",
      "execution_count": null,
      "outputs": []
    },
    {
      "cell_type": "markdown",
      "metadata": {
        "id": "accompanied-state"
      },
      "source": [
        "# seed"
      ],
      "id": "accompanied-state"
    },
    {
      "cell_type": "code",
      "metadata": {
        "id": "surgical-depth"
      },
      "source": [
        "\"\"\"\n",
        "np.random.seed()\n",
        "\n",
        "seed ile set etmek çok kullanışlıdır. seed, rastgele durum üretir. \n",
        "böylece rastgele sonuçlar yeniden üretilebilir.\n",
        "\"\"\""
      ],
      "id": "surgical-depth",
      "execution_count": null,
      "outputs": []
    },
    {
      "cell_type": "code",
      "metadata": {
        "id": "interesting-drink",
        "outputId": "27cb36f5-597d-42b9-d110-161d9e369691"
      },
      "source": [
        "np.random.seed(42)\n",
        "np.random.rand(4)\n",
        "\n",
        "# so what the seed allows us to do is set a particular set of random numbers.\n",
        "# seed burda bize belirli bir rasgele sayılar kümesi ayarladı.\n",
        "# 42 burada tamamen keyfi bir seçim\n"
      ],
      "id": "interesting-drink",
      "execution_count": null,
      "outputs": [
        {
          "output_type": "execute_result",
          "data": {
            "text/plain": [
              "array([0.37454012, 0.95071431, 0.73199394, 0.59865848])"
            ]
          },
          "metadata": {
            "tags": []
          },
          "execution_count": 119
        }
      ]
    },
    {
      "cell_type": "code",
      "metadata": {
        "id": "modern-madagascar",
        "outputId": "0f4e7f9d-f27c-4303-acb2-591d09abaff9"
      },
      "source": [
        "np.random.seed(101)\n",
        "np.random.rand(4)"
      ],
      "id": "modern-madagascar",
      "execution_count": null,
      "outputs": [
        {
          "output_type": "execute_result",
          "data": {
            "text/plain": [
              "array([0.51639863, 0.57066759, 0.02847423, 0.17152166])"
            ]
          },
          "metadata": {
            "tags": []
          },
          "execution_count": 120
        }
      ]
    },
    {
      "cell_type": "code",
      "metadata": {
        "id": "delayed-richmond",
        "outputId": "00d443fe-6b4a-4c9c-b75f-c8525fd81462"
      },
      "source": [
        "np.random.rand(4)"
      ],
      "id": "delayed-richmond",
      "execution_count": null,
      "outputs": [
        {
          "output_type": "execute_result",
          "data": {
            "text/plain": [
              "array([0.68527698, 0.83389686, 0.30696622, 0.89361308])"
            ]
          },
          "metadata": {
            "tags": []
          },
          "execution_count": 121
        }
      ]
    },
    {
      "cell_type": "code",
      "metadata": {
        "id": "coated-orbit",
        "outputId": "94dc0b55-0e19-4a83-b95b-f71da6a69b81"
      },
      "source": [
        "np.random.rand(4)\n",
        "\n",
        "# 101 ile set ettikten sonra her np.random.rand(4) fonksiyonu bize ayrı bir random dizi verecektir."
      ],
      "id": "coated-orbit",
      "execution_count": null,
      "outputs": [
        {
          "output_type": "execute_result",
          "data": {
            "text/plain": [
              "array([0.72154386, 0.18993895, 0.55422759, 0.35213195])"
            ]
          },
          "metadata": {
            "tags": []
          },
          "execution_count": 122
        }
      ]
    },
    {
      "cell_type": "code",
      "metadata": {
        "id": "minor-arthritis",
        "outputId": "dd2bf8bb-30e2-44ac-90ab-a2d280f49505"
      },
      "source": [
        "np.random.seed(101)\n",
        "np.random.rand(4)\n",
        "\n",
        "# fakat 101'i tekrar set ettiğimizde yeniden bize ilk orjinal diziyi verecektir."
      ],
      "id": "minor-arthritis",
      "execution_count": null,
      "outputs": [
        {
          "output_type": "execute_result",
          "data": {
            "text/plain": [
              "array([0.51639863, 0.57066759, 0.02847423, 0.17152166])"
            ]
          },
          "metadata": {
            "tags": []
          },
          "execution_count": 123
        }
      ]
    },
    {
      "cell_type": "code",
      "metadata": {
        "id": "residential-classic"
      },
      "source": [
        ""
      ],
      "id": "residential-classic",
      "execution_count": null,
      "outputs": []
    }
  ]
}