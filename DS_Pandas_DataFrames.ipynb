{
  "nbformat": 4,
  "nbformat_minor": 5,
  "metadata": {
    "kernelspec": {
      "display_name": "Python 3",
      "language": "python",
      "name": "python3"
    },
    "language_info": {
      "codemirror_mode": {
        "name": "ipython",
        "version": 3
      },
      "file_extension": ".py",
      "mimetype": "text/x-python",
      "name": "python",
      "nbconvert_exporter": "python",
      "pygments_lexer": "ipython3",
      "version": "3.7.8"
    },
    "colab": {
      "name": "DS-Pandas-DataFrames.ipynb",
      "provenance": [],
      "collapsed_sections": [
        "invisible-viking",
        "framed-enlargement",
        "communist-bonus",
        "expired-beaver",
        "clean-appendix",
        "controlled-statistics",
        "mineral-vertex",
        "heavy-triple"
      ],
      "include_colab_link": true
    }
  },
  "cells": [
    {
      "cell_type": "markdown",
      "metadata": {
        "id": "view-in-github",
        "colab_type": "text"
      },
      "source": [
        "<a href=\"https://colab.research.google.com/github/VKline333/Data_Analysis/blob/main/DS_Pandas_DataFrames.ipynb\" target=\"_parent\"><img src=\"https://colab.research.google.com/assets/colab-badge.svg\" alt=\"Open In Colab\"/></a>"
      ]
    },
    {
      "cell_type": "code",
      "metadata": {
        "id": "indie-station"
      },
      "source": [
        "import numpy as np \n",
        "import pandas as pd\n",
        "# herşeyden önce numpy i import ediyoruz. Numpy = Numerical Python"
      ],
      "id": "indie-station",
      "execution_count": null,
      "outputs": []
    },
    {
      "cell_type": "code",
      "metadata": {
        "id": "offensive-vision",
        "outputId": "47ed4392-205d-4768-c983-6cc1c71225ab"
      },
      "source": [
        "v = np.array([1,1,2,2,3,3,3,3])\n",
        "v"
      ],
      "id": "offensive-vision",
      "execution_count": null,
      "outputs": [
        {
          "output_type": "execute_result",
          "data": {
            "text/plain": [
              "array([1, 1, 2, 2, 3, 3, 3, 3])"
            ]
          },
          "metadata": {
            "tags": []
          },
          "execution_count": 3
        }
      ]
    },
    {
      "cell_type": "code",
      "metadata": {
        "id": "following-latex",
        "outputId": "0b61d5aa-8026-4fa0-8141-55d81e669a27"
      },
      "source": [
        "np.mean(v)\n",
        "\n",
        "# ortalama"
      ],
      "id": "following-latex",
      "execution_count": null,
      "outputs": [
        {
          "output_type": "execute_result",
          "data": {
            "text/plain": [
              "2.25"
            ]
          },
          "metadata": {
            "tags": []
          },
          "execution_count": 4
        }
      ]
    },
    {
      "cell_type": "code",
      "metadata": {
        "id": "alone-glucose",
        "outputId": "08512ecf-1811-47be-f4b6-6a57f01627ab"
      },
      "source": [
        "np.median(v)\n",
        "\n",
        "# en ortdaki elemandır."
      ],
      "id": "alone-glucose",
      "execution_count": null,
      "outputs": [
        {
          "output_type": "execute_result",
          "data": {
            "text/plain": [
              "2.5"
            ]
          },
          "metadata": {
            "tags": []
          },
          "execution_count": 5
        }
      ]
    },
    {
      "cell_type": "code",
      "metadata": {
        "id": "specified-child",
        "outputId": "a190cf90-baab-4447-eb5b-e9513ef0c063"
      },
      "source": [
        "np.min(v)"
      ],
      "id": "specified-child",
      "execution_count": null,
      "outputs": [
        {
          "output_type": "execute_result",
          "data": {
            "text/plain": [
              "1"
            ]
          },
          "metadata": {
            "tags": []
          },
          "execution_count": 6
        }
      ]
    },
    {
      "cell_type": "code",
      "metadata": {
        "id": "virgin-master",
        "outputId": "fc7fe916-608a-4a6a-faa1-5523752143a7"
      },
      "source": [
        "np.var(v)\n",
        "\n",
        "# variation"
      ],
      "id": "virgin-master",
      "execution_count": null,
      "outputs": [
        {
          "output_type": "execute_result",
          "data": {
            "text/plain": [
              "0.6875"
            ]
          },
          "metadata": {
            "tags": []
          },
          "execution_count": 7
        }
      ]
    },
    {
      "cell_type": "markdown",
      "metadata": {
        "id": "rural-medicine"
      },
      "source": [
        "# a sample solve in Linear Algebra using NumPy"
      ],
      "id": "rural-medicine"
    },
    {
      "cell_type": "code",
      "metadata": {
        "id": "hydraulic-aviation"
      },
      "source": [
        "\"\"\"\n",
        "3x + y = 9\n",
        "x + 2y = 8\n",
        "denklemini çözelim\n",
        "\"\"\"\n",
        "\n",
        "a = np.array([[3,1], [1,2]]) # denklemlerin değişkenlerinik katsayılarını a arrayinde tanımladık.\n",
        "\n",
        "b = np.array([9,8])  # denklemlerin eşitliklerini b arrayine tanımladık\n",
        "\n"
      ],
      "id": "hydraulic-aviation",
      "execution_count": null,
      "outputs": []
    },
    {
      "cell_type": "code",
      "metadata": {
        "id": "confirmed-kitty",
        "outputId": "333221f8-6ab9-43e8-f646-084615ab94fe"
      },
      "source": [
        "a"
      ],
      "id": "confirmed-kitty",
      "execution_count": null,
      "outputs": [
        {
          "output_type": "execute_result",
          "data": {
            "text/plain": [
              "array([[3, 1],\n",
              "       [1, 2]])"
            ]
          },
          "metadata": {
            "tags": []
          },
          "execution_count": 13
        }
      ]
    },
    {
      "cell_type": "code",
      "metadata": {
        "id": "manual-pearl",
        "outputId": "7767926b-8337-493d-91ff-9dbc74c5fa46"
      },
      "source": [
        "b"
      ],
      "id": "manual-pearl",
      "execution_count": null,
      "outputs": [
        {
          "output_type": "execute_result",
          "data": {
            "text/plain": [
              "array([9, 8])"
            ]
          },
          "metadata": {
            "tags": []
          },
          "execution_count": 17
        }
      ]
    },
    {
      "cell_type": "code",
      "metadata": {
        "id": "decimal-output",
        "outputId": "5a3e8da6-b8f2-4d48-8d3d-345527558997"
      },
      "source": [
        "np.linalg.solve(a,b)\n",
        "\n",
        "# linalg.solve() fonksiyonu bizi sonuca ulaştıracak"
      ],
      "id": "decimal-output",
      "execution_count": null,
      "outputs": [
        {
          "output_type": "execute_result",
          "data": {
            "text/plain": [
              "array([2., 3.])"
            ]
          },
          "metadata": {
            "tags": []
          },
          "execution_count": 18
        }
      ]
    },
    {
      "cell_type": "markdown",
      "metadata": {
        "id": "extended-encounter"
      },
      "source": [
        "# P a n d a s  ------------   P a n d a s"
      ],
      "id": "extended-encounter"
    },
    {
      "cell_type": "code",
      "metadata": {
        "id": "outdoor-homework"
      },
      "source": [
        "# What are the difference and similarities between NumPy arrays and Pandas Series\n",
        "\n",
        "\"\"\"\n",
        "The Pandas module mainly works with the tabular data, whereas the NumPy module \n",
        "works with the numerical data. ... NumPy library provides objects for\n",
        "multi-dimensional arrays, whereas Pandas is capable of offering \n",
        "an in-memory 2d table object called DataFrame.\n",
        "NumPy consumes less memory as compared to Pandas\n",
        "\n",
        "The Pandas provides some sets of powerful tools like DataFrame and Series \n",
        "that mainly used for analyzing the data, whereas in NumPy module offers \n",
        "a powerful object called Array\n",
        "\n",
        "The essential difference is the presence of the index: while the Numpy Array \n",
        "has an implicitly defined integer index used to access the values, \n",
        "the Pandas Series has an explicitly defined index associated with the values.\n",
        "\n",
        "Numpy serilerinde sadece numeric indeksleme yapabiliyorsun ama pandasta istediğin \n",
        "indekslemeyi yapabiliyorsun. indeksi indeksleyebiliyorsun\n",
        "\n",
        "Pandas'ta her bir sütun bir seri oluyor. her seri yan yana gelince bu bir tablo oluyor.\n",
        "Yani bu bir tablo biçiminde olursa buna DataFrame deniliyor\n",
        "\"\"\""
      ],
      "id": "outdoor-homework",
      "execution_count": null,
      "outputs": []
    },
    {
      "cell_type": "code",
      "metadata": {
        "id": "australian-estate"
      },
      "source": [
        "import numpy as np \n",
        "import pandas as pd"
      ],
      "id": "australian-estate",
      "execution_count": null,
      "outputs": []
    },
    {
      "cell_type": "code",
      "metadata": {
        "id": "hollywood-advocate",
        "outputId": "6951eb79-8df0-45b6-fe6c-791473e2396f"
      },
      "source": [
        "pd.Series([10, 88, 3, 4, 5])\n",
        "\n",
        "# pandasta da series oluştururken numpy serilerini kullanabiliriz.\n",
        "\n",
        "# pandasta datanın gösterimi sütun şeklinde"
      ],
      "id": "hollywood-advocate",
      "execution_count": null,
      "outputs": [
        {
          "output_type": "execute_result",
          "data": {
            "text/plain": [
              "0    10\n",
              "1    88\n",
              "2     3\n",
              "3     4\n",
              "4     5\n",
              "dtype: int64"
            ]
          },
          "metadata": {
            "tags": []
          },
          "execution_count": 22
        }
      ]
    },
    {
      "cell_type": "markdown",
      "metadata": {
        "id": "invisible-viking"
      },
      "source": [
        "## Basic Attributes"
      ],
      "id": "invisible-viking"
    },
    {
      "cell_type": "code",
      "metadata": {
        "id": "rough-archive",
        "outputId": "7e34c606-9849-4c6f-828a-29e6363daec9"
      },
      "source": [
        "ser = pd.Series([10, 88, 3, 4, 5])\n",
        "ser"
      ],
      "id": "rough-archive",
      "execution_count": null,
      "outputs": [
        {
          "output_type": "execute_result",
          "data": {
            "text/plain": [
              "0    10\n",
              "1    88\n",
              "2     3\n",
              "3     4\n",
              "4     5\n",
              "dtype: int64"
            ]
          },
          "metadata": {
            "tags": []
          },
          "execution_count": 39
        }
      ]
    },
    {
      "cell_type": "code",
      "metadata": {
        "id": "adapted-integrity",
        "outputId": "0e23a358-1a54-42c3-9221-afbdd8026d82"
      },
      "source": [
        "ser.dtype\n",
        "\n",
        "# serie nin tipi int."
      ],
      "id": "adapted-integrity",
      "execution_count": null,
      "outputs": [
        {
          "output_type": "execute_result",
          "data": {
            "text/plain": [
              "dtype('int64')"
            ]
          },
          "metadata": {
            "tags": []
          },
          "execution_count": 43
        }
      ]
    },
    {
      "cell_type": "code",
      "metadata": {
        "id": "straight-chorus",
        "outputId": "3a25cabe-c8d9-4377-dd24-4b18cd1f766f"
      },
      "source": [
        "type(ser)\n",
        "\n",
        "# pandas serisinin tipi pandas serisidir :))\n",
        "\n",
        "# pandas serisinin içindeki verilerin tipi int.dir."
      ],
      "id": "straight-chorus",
      "execution_count": null,
      "outputs": [
        {
          "output_type": "execute_result",
          "data": {
            "text/plain": [
              "pandas.core.series.Series"
            ]
          },
          "metadata": {
            "tags": []
          },
          "execution_count": 40
        }
      ]
    },
    {
      "cell_type": "code",
      "metadata": {
        "id": "stuck-luxury",
        "outputId": "e69441d2-13e9-4424-f52c-c34ac9f288b7"
      },
      "source": [
        "ser.size\n",
        "\n",
        "# 5 elemandan oluşuyor"
      ],
      "id": "stuck-luxury",
      "execution_count": null,
      "outputs": [
        {
          "output_type": "execute_result",
          "data": {
            "text/plain": [
              "5"
            ]
          },
          "metadata": {
            "tags": []
          },
          "execution_count": 41
        }
      ]
    },
    {
      "cell_type": "code",
      "metadata": {
        "id": "absent-chorus",
        "outputId": "0ca26dce-f948-4f79-de05-ffe48f64f664"
      },
      "source": [
        "ser.ndim\n",
        "\n",
        "# 1 dimension"
      ],
      "id": "absent-chorus",
      "execution_count": null,
      "outputs": [
        {
          "output_type": "execute_result",
          "data": {
            "text/plain": [
              "1"
            ]
          },
          "metadata": {
            "tags": []
          },
          "execution_count": 42
        }
      ]
    },
    {
      "cell_type": "code",
      "metadata": {
        "id": "directed-assembly",
        "outputId": "78d4ab4e-c26b-4b46-ad02-09a497d16b55"
      },
      "source": [
        "ser.values"
      ],
      "id": "directed-assembly",
      "execution_count": null,
      "outputs": [
        {
          "output_type": "execute_result",
          "data": {
            "text/plain": [
              "array([10, 88,  3,  4,  5], dtype=int64)"
            ]
          },
          "metadata": {
            "tags": []
          },
          "execution_count": 44
        }
      ]
    },
    {
      "cell_type": "code",
      "metadata": {
        "id": "rotary-austin",
        "outputId": "cb553e20-21c6-4ad9-f69c-f4749c5d8b2a"
      },
      "source": [
        "type(ser.values)\n",
        "\n",
        "# numpy arraylerinin kullandığını görelim."
      ],
      "id": "rotary-austin",
      "execution_count": null,
      "outputs": [
        {
          "output_type": "execute_result",
          "data": {
            "text/plain": [
              "numpy.ndarray"
            ]
          },
          "metadata": {
            "tags": []
          },
          "execution_count": 45
        }
      ]
    },
    {
      "cell_type": "code",
      "metadata": {
        "id": "frequent-incident",
        "outputId": "b6b653d7-781b-4bc1-f566-ce5d234881d9"
      },
      "source": [
        "for i in ser.values :\n",
        "    print(i)"
      ],
      "id": "frequent-incident",
      "execution_count": null,
      "outputs": [
        {
          "output_type": "stream",
          "text": [
            "10\n",
            "88\n",
            "3\n",
            "4\n",
            "5\n"
          ],
          "name": "stdout"
        }
      ]
    },
    {
      "cell_type": "code",
      "metadata": {
        "id": "neural-taste",
        "outputId": "b72b76e2-de33-4fed-c8ac-1c29db648a45"
      },
      "source": [
        "[i for i in ser.values]\n",
        "\n",
        "# serinin value larından liste ürettik"
      ],
      "id": "neural-taste",
      "execution_count": null,
      "outputs": [
        {
          "output_type": "execute_result",
          "data": {
            "text/plain": [
              "[10, 88, 3, 4, 5]"
            ]
          },
          "metadata": {
            "tags": []
          },
          "execution_count": 47
        }
      ]
    },
    {
      "cell_type": "code",
      "metadata": {
        "id": "outside-accuracy",
        "outputId": "025f8c0c-2684-42ff-d81f-993f0aad64c2"
      },
      "source": [
        "ser.head(3)\n",
        "\n",
        "# en tepeden 3 elemanı göster (default değeri 5)"
      ],
      "id": "outside-accuracy",
      "execution_count": null,
      "outputs": [
        {
          "output_type": "execute_result",
          "data": {
            "text/plain": [
              "0    10\n",
              "1    88\n",
              "2     3\n",
              "dtype: int64"
            ]
          },
          "metadata": {
            "tags": []
          },
          "execution_count": 49
        }
      ]
    },
    {
      "cell_type": "code",
      "metadata": {
        "id": "sized-border",
        "outputId": "d0a89146-e394-4a24-900d-7ca174bd2cdb"
      },
      "source": [
        "ser.tail(2)\n",
        "\n",
        "# en alltan 2 elemanı göster. (default değeri 5)"
      ],
      "id": "sized-border",
      "execution_count": null,
      "outputs": [
        {
          "output_type": "execute_result",
          "data": {
            "text/plain": [
              "3    4\n",
              "4    5\n",
              "dtype: int64"
            ]
          },
          "metadata": {
            "tags": []
          },
          "execution_count": 50
        }
      ]
    },
    {
      "cell_type": "code",
      "metadata": {
        "id": "canadian-accounting",
        "outputId": "6ee4858d-f97c-4f8a-ce40-d7c3bb243f4e"
      },
      "source": [
        "# stringlerden oluşturalım\n",
        "\n",
        "pd.Series([i for i in \"clarusway\"]) # listenin içinde clarusway'in karakterlerini soktuk ve bunu serie yaptık \n",
        "\n",
        "#  dtype: object yazıyorsa bunun stringlerden oluştuğunu bil. "
      ],
      "id": "canadian-accounting",
      "execution_count": null,
      "outputs": [
        {
          "output_type": "execute_result",
          "data": {
            "text/plain": [
              "0    c\n",
              "1    l\n",
              "2    a\n",
              "3    r\n",
              "4    u\n",
              "5    s\n",
              "6    w\n",
              "7    a\n",
              "8    y\n",
              "dtype: object"
            ]
          },
          "metadata": {
            "tags": []
          },
          "execution_count": 51
        }
      ]
    },
    {
      "cell_type": "markdown",
      "metadata": {
        "id": "framed-enlargement"
      },
      "source": [
        "## Creating Pandas Series Using a \"list\", \"numpy-array\" or \"dict\""
      ],
      "id": "framed-enlargement"
    },
    {
      "cell_type": "code",
      "metadata": {
        "id": "residential-greeting"
      },
      "source": [
        "labels = [\"a\", \"b\", \"c\"]\n",
        "\n",
        "my_list = [10, 20, 30]\n",
        "\n",
        "arr = np.array([10, 20, 30])\n",
        "\n",
        "d = {\"a\" : 10, \"b\" : 20, \"c\" : 30}"
      ],
      "id": "residential-greeting",
      "execution_count": null,
      "outputs": []
    },
    {
      "cell_type": "code",
      "metadata": {
        "id": "included-juvenile",
        "outputId": "03421d1f-4d84-44d3-a33d-4cf0af5dda58"
      },
      "source": [
        "pd.Series(data = my_list)\n",
        "\n",
        "# data olarak az önce oluşturduğumuz my_list i kullandık"
      ],
      "id": "included-juvenile",
      "execution_count": null,
      "outputs": [
        {
          "output_type": "execute_result",
          "data": {
            "text/plain": [
              "0    10\n",
              "1    20\n",
              "2    30\n",
              "dtype: int64"
            ]
          },
          "metadata": {
            "tags": []
          },
          "execution_count": 54
        }
      ]
    },
    {
      "cell_type": "code",
      "metadata": {
        "id": "spiritual-generic",
        "outputId": "71b22040-a0da-4072-a5b7-147cec11d349"
      },
      "source": [
        "# şimdi index parametresini işin içine katalım\n",
        "\n",
        "pd.Series(data = my_list, index = labels)\n",
        "\n",
        "# indeks olarak az önce tanımaldığımız labels değişkenini kullandık\n",
        "# artık indeksimiz \"a\",\"b\",\"c\" oldu"
      ],
      "id": "spiritual-generic",
      "execution_count": null,
      "outputs": [
        {
          "output_type": "execute_result",
          "data": {
            "text/plain": [
              "a    10\n",
              "b    20\n",
              "c    30\n",
              "dtype: int64"
            ]
          },
          "metadata": {
            "tags": []
          },
          "execution_count": 55
        }
      ]
    },
    {
      "cell_type": "code",
      "metadata": {
        "id": "enormous-touch",
        "outputId": "7960f79a-2c33-4af7-beef-be74f7448ef7"
      },
      "source": [
        "# değerleri positional argument olarak atayalım. sıralamaya dikkat edeceğiz!\n",
        "\n",
        "pd.Series(my_list, labels)"
      ],
      "id": "enormous-touch",
      "execution_count": null,
      "outputs": [
        {
          "output_type": "execute_result",
          "data": {
            "text/plain": [
              "a    10\n",
              "b    20\n",
              "c    30\n",
              "dtype: int64"
            ]
          },
          "metadata": {
            "tags": []
          },
          "execution_count": 56
        }
      ]
    },
    {
      "cell_type": "markdown",
      "metadata": {
        "id": "communist-bonus"
      },
      "source": [
        "## using numpy arrays"
      ],
      "id": "communist-bonus"
    },
    {
      "cell_type": "code",
      "metadata": {
        "id": "specialized-chrome",
        "outputId": "108a6082-ec21-4435-d6f0-d4f8776268cc"
      },
      "source": [
        "pd.Series(arr)\n",
        "\n",
        "# numpy array den seri ürettik"
      ],
      "id": "specialized-chrome",
      "execution_count": null,
      "outputs": [
        {
          "output_type": "execute_result",
          "data": {
            "text/plain": [
              "0    10\n",
              "1    20\n",
              "2    30\n",
              "dtype: int32"
            ]
          },
          "metadata": {
            "tags": []
          },
          "execution_count": 58
        }
      ]
    },
    {
      "cell_type": "code",
      "metadata": {
        "id": "domestic-league",
        "outputId": "a38faca4-b564-4725-b651-7442abfa6b05"
      },
      "source": [
        "pd.Series(arr, labels)\n",
        "\n",
        "# indeks olarak yine labels değişkenini kullandık. default olan 0,1,2 değişti."
      ],
      "id": "domestic-league",
      "execution_count": null,
      "outputs": [
        {
          "output_type": "execute_result",
          "data": {
            "text/plain": [
              "a    10\n",
              "b    20\n",
              "c    30\n",
              "dtype: int32"
            ]
          },
          "metadata": {
            "tags": []
          },
          "execution_count": 59
        }
      ]
    },
    {
      "cell_type": "markdown",
      "metadata": {
        "id": "expired-beaver"
      },
      "source": [
        "## using dictionary"
      ],
      "id": "expired-beaver"
    },
    {
      "cell_type": "code",
      "metadata": {
        "id": "unusual-divide",
        "outputId": "093fb021-7d4d-4dc0-b13a-a23f2af9e173"
      },
      "source": [
        "d\n",
        "\n",
        "# dictionary de keyler indeksleri kastediyor. value lar value oluyor."
      ],
      "id": "unusual-divide",
      "execution_count": null,
      "outputs": [
        {
          "output_type": "execute_result",
          "data": {
            "text/plain": [
              "{'a': 10, 'b': 20, 'c': 30}"
            ]
          },
          "metadata": {
            "tags": []
          },
          "execution_count": 60
        }
      ]
    },
    {
      "cell_type": "code",
      "metadata": {
        "id": "substantial-qatar",
        "outputId": "ac716d95-dbc6-4924-92bb-2c5452971751"
      },
      "source": [
        "pd.Series(d)\n",
        "\n",
        " # keylerin indeks yerine geçtiğini görelim."
      ],
      "id": "substantial-qatar",
      "execution_count": null,
      "outputs": [
        {
          "output_type": "execute_result",
          "data": {
            "text/plain": [
              "a    10\n",
              "b    20\n",
              "c    30\n",
              "dtype: int64"
            ]
          },
          "metadata": {
            "tags": []
          },
          "execution_count": 61
        }
      ]
    },
    {
      "cell_type": "code",
      "metadata": {
        "id": "imposed-stress",
        "outputId": "306427ef-370d-4ffe-a304-3f927c2aed8c"
      },
      "source": [
        "pd.Series(d, [\"w\", \"c\", \"z\"])\n",
        "\n",
        "# sözlük kullanmamıza rağmen indeks numaralarını değiştirirsek belirlediğimiz\n",
        "# değerlerden sadece keyle aynı olan varsa ona değer atıyor.\n",
        "# diğerlerini yeni value olarak kabul ediyor\n",
        "\n",
        "# eksik veri yerine NaN ile dolduruyor."
      ],
      "id": "imposed-stress",
      "execution_count": null,
      "outputs": [
        {
          "output_type": "execute_result",
          "data": {
            "text/plain": [
              "w     NaN\n",
              "c    30.0\n",
              "z     NaN\n",
              "dtype: float64"
            ]
          },
          "metadata": {
            "tags": []
          },
          "execution_count": 63
        }
      ]
    },
    {
      "cell_type": "code",
      "metadata": {
        "id": "automotive-notion",
        "outputId": "9c33dcc4-4486-4ec9-a90c-6ba6d95cb0d8"
      },
      "source": [
        "a = np.nan\n",
        "\n",
        "a"
      ],
      "id": "automotive-notion",
      "execution_count": null,
      "outputs": [
        {
          "output_type": "execute_result",
          "data": {
            "text/plain": [
              "nan"
            ]
          },
          "metadata": {
            "tags": []
          },
          "execution_count": 64
        }
      ]
    },
    {
      "cell_type": "markdown",
      "metadata": {
        "id": "common-beach"
      },
      "source": [
        "# Data in Series"
      ],
      "id": "common-beach"
    },
    {
      "cell_type": "code",
      "metadata": {
        "id": "breathing-delivery",
        "outputId": "b88161d5-a4e8-407c-f3b1-1bf187d687ee"
      },
      "source": [
        "labels"
      ],
      "id": "breathing-delivery",
      "execution_count": null,
      "outputs": [
        {
          "output_type": "execute_result",
          "data": {
            "text/plain": [
              "['a', 'b', 'c']"
            ]
          },
          "metadata": {
            "tags": []
          },
          "execution_count": 65
        }
      ]
    },
    {
      "cell_type": "code",
      "metadata": {
        "id": "legendary-extent",
        "outputId": "f344ac8d-208a-4881-efae-caa4620ef17b"
      },
      "source": [
        "pd.Series(data = labels)\n",
        "\n",
        "# labels ı data olarak belirleyince indeks default değerlere döndü."
      ],
      "id": "legendary-extent",
      "execution_count": null,
      "outputs": [
        {
          "output_type": "execute_result",
          "data": {
            "text/plain": [
              "0    a\n",
              "1    b\n",
              "2    c\n",
              "dtype: object"
            ]
          },
          "metadata": {
            "tags": []
          },
          "execution_count": 66
        }
      ]
    },
    {
      "cell_type": "code",
      "metadata": {
        "id": "polish-density",
        "outputId": "045e3a95-2f20-4c4d-ed21-24d43c91c9ee"
      },
      "source": [
        "pd.Series([sum, print, len])\n",
        "\n",
        "# fonksiyonları data olarak kullandık"
      ],
      "id": "polish-density",
      "execution_count": null,
      "outputs": [
        {
          "output_type": "execute_result",
          "data": {
            "text/plain": [
              "0      <built-in function sum>\n",
              "1    <built-in function print>\n",
              "2      <built-in function len>\n",
              "dtype: object"
            ]
          },
          "metadata": {
            "tags": []
          },
          "execution_count": 67
        }
      ]
    },
    {
      "cell_type": "code",
      "metadata": {
        "id": "acute-spare"
      },
      "source": [
        "mix_data = [1, \"cat\", True]\n",
        "\n",
        "# farklı veri tipleri olduğu için dtype object oldu!"
      ],
      "id": "acute-spare",
      "execution_count": null,
      "outputs": []
    },
    {
      "cell_type": "code",
      "metadata": {
        "id": "noble-language",
        "outputId": "afae953b-e5d1-45cc-8fd2-4a309b6df7bb"
      },
      "source": [
        "pd.Series(mix_data)"
      ],
      "id": "noble-language",
      "execution_count": null,
      "outputs": [
        {
          "output_type": "execute_result",
          "data": {
            "text/plain": [
              "0       1\n",
              "1     cat\n",
              "2    True\n",
              "dtype: object"
            ]
          },
          "metadata": {
            "tags": []
          },
          "execution_count": 69
        }
      ]
    },
    {
      "cell_type": "code",
      "metadata": {
        "id": "viral-purchase",
        "outputId": "c918eb28-4772-4569-9f37-4941e94821e5"
      },
      "source": [
        "pd.Series([True, False, False, True])"
      ],
      "id": "viral-purchase",
      "execution_count": null,
      "outputs": [
        {
          "output_type": "execute_result",
          "data": {
            "text/plain": [
              "0     True\n",
              "1    False\n",
              "2    False\n",
              "3     True\n",
              "dtype: bool"
            ]
          },
          "metadata": {
            "tags": []
          },
          "execution_count": 70
        }
      ]
    },
    {
      "cell_type": "code",
      "metadata": {
        "id": "cheap-basketball"
      },
      "source": [
        "# Sorting Index | Sorting Values | Check "
      ],
      "id": "cheap-basketball",
      "execution_count": null,
      "outputs": []
    },
    {
      "cell_type": "code",
      "metadata": {
        "id": "stupid-indonesia",
        "outputId": "13043989-fb06-44b0-f16f-6027210c8ca5"
      },
      "source": [
        "s = pd.Series(['p', 'q', 'r', 's'], index=[3, 2, 4, 5])\n",
        "s"
      ],
      "id": "stupid-indonesia",
      "execution_count": null,
      "outputs": [
        {
          "output_type": "execute_result",
          "data": {
            "text/plain": [
              "3    p\n",
              "2    q\n",
              "4    r\n",
              "5    s\n",
              "dtype: object"
            ]
          },
          "metadata": {
            "tags": []
          },
          "execution_count": 72
        }
      ]
    },
    {
      "cell_type": "code",
      "metadata": {
        "id": "composed-service",
        "outputId": "937fb481-dc98-4360-b201-183f14ca3e26"
      },
      "source": [
        "s.sort_index()\n",
        "\n",
        "# indekse göre sıraladı"
      ],
      "id": "composed-service",
      "execution_count": null,
      "outputs": [
        {
          "output_type": "execute_result",
          "data": {
            "text/plain": [
              "2    q\n",
              "3    p\n",
              "4    r\n",
              "5    s\n",
              "dtype: object"
            ]
          },
          "metadata": {
            "tags": []
          },
          "execution_count": 73
        }
      ]
    },
    {
      "cell_type": "markdown",
      "metadata": {
        "id": "clean-appendix"
      },
      "source": [
        "### inplace = True kullanırsan değişiklik kalıcı olur."
      ],
      "id": "clean-appendix"
    },
    {
      "cell_type": "code",
      "metadata": {
        "collapsed": true,
        "id": "structural-northwest",
        "outputId": "40bc8a7a-3727-4538-97f2-7e65c00d677d"
      },
      "source": [
        "s.sort_index(inplace = True) \n",
        "\n",
        "# inplace = True kullanırsan değişiklik kalıcı olur.\n",
        "s"
      ],
      "id": "structural-northwest",
      "execution_count": null,
      "outputs": [
        {
          "output_type": "execute_result",
          "data": {
            "text/plain": [
              "2    q\n",
              "3    p\n",
              "4    r\n",
              "5    s\n",
              "dtype: object"
            ]
          },
          "metadata": {
            "tags": []
          },
          "execution_count": 76
        }
      ]
    },
    {
      "cell_type": "code",
      "metadata": {
        "id": "loving-consensus"
      },
      "source": [
        "s = pd.Series(['p', 'q', 'r', 's'], index=[3, 2, 4, np.nan])\n",
        "\n",
        "# boş kalan index numarası yerine nan kullandık."
      ],
      "id": "loving-consensus",
      "execution_count": null,
      "outputs": []
    },
    {
      "cell_type": "code",
      "metadata": {
        "id": "speaking-ticket",
        "outputId": "5e2895c6-24bb-413a-d197-a8adcc9298e0"
      },
      "source": [
        "s.sort_index(na_position='first')\n",
        "\n",
        " # nan olan indeksi başa almak için position parametresini bu şekilde first'e eşitliyoruz"
      ],
      "id": "speaking-ticket",
      "execution_count": null,
      "outputs": [
        {
          "output_type": "execute_result",
          "data": {
            "text/plain": [
              "NaN    s\n",
              "2.0    q\n",
              "3.0    p\n",
              "4.0    r\n",
              "dtype: object"
            ]
          },
          "metadata": {
            "tags": []
          },
          "execution_count": 78
        }
      ]
    },
    {
      "cell_type": "code",
      "metadata": {
        "id": "raising-check",
        "outputId": "687bb5dc-bd5e-4946-df7e-3f5a7146add7"
      },
      "source": [
        "s = pd.Series(['p', 'q', 'r', 's'], index=[3, 2, 4, 5])\n",
        "s.sort_index()"
      ],
      "id": "raising-check",
      "execution_count": null,
      "outputs": [
        {
          "output_type": "execute_result",
          "data": {
            "text/plain": [
              "2    q\n",
              "3    p\n",
              "4    r\n",
              "5    s\n",
              "dtype: object"
            ]
          },
          "metadata": {
            "tags": []
          },
          "execution_count": 79
        }
      ]
    },
    {
      "cell_type": "code",
      "metadata": {
        "id": "normal-match",
        "outputId": "fc01ccf1-12f3-420f-a21b-d5d81a228d40"
      },
      "source": [
        "s.sort_index(ascending=False)"
      ],
      "id": "normal-match",
      "execution_count": null,
      "outputs": [
        {
          "output_type": "execute_result",
          "data": {
            "text/plain": [
              "5    s\n",
              "4    r\n",
              "3    p\n",
              "2    q\n",
              "dtype: object"
            ]
          },
          "metadata": {
            "tags": []
          },
          "execution_count": 80
        }
      ]
    },
    {
      "cell_type": "code",
      "metadata": {
        "id": "choice-artwork",
        "outputId": "d3c1b34f-b71a-4e4a-ebb0-af7df9d1644b"
      },
      "source": [
        "s.sort_index(inplace=True)\n",
        "s"
      ],
      "id": "choice-artwork",
      "execution_count": null,
      "outputs": [
        {
          "output_type": "execute_result",
          "data": {
            "text/plain": [
              "2    q\n",
              "3    p\n",
              "4    r\n",
              "5    s\n",
              "dtype: object"
            ]
          },
          "metadata": {
            "tags": []
          },
          "execution_count": 81
        }
      ]
    },
    {
      "cell_type": "code",
      "metadata": {
        "id": "laden-wildlife"
      },
      "source": [
        "s = pd.Series(['dog', 'cow', 'dog', 'cat', 'dog',\n",
        "               'lion'], name='animal')"
      ],
      "id": "laden-wildlife",
      "execution_count": null,
      "outputs": []
    },
    {
      "cell_type": "code",
      "metadata": {
        "id": "mature-fountain",
        "outputId": "2672e2f9-11cd-4c0b-cd0f-e479f3c9764f"
      },
      "source": [
        "s"
      ],
      "id": "mature-fountain",
      "execution_count": null,
      "outputs": [
        {
          "output_type": "execute_result",
          "data": {
            "text/plain": [
              "0     dog\n",
              "1     cow\n",
              "2     dog\n",
              "3     cat\n",
              "4     dog\n",
              "5    lion\n",
              "Name: animal, dtype: object"
            ]
          },
          "metadata": {
            "tags": []
          },
          "execution_count": 83
        }
      ]
    },
    {
      "cell_type": "code",
      "metadata": {
        "scrolled": false,
        "id": "premier-arrival",
        "outputId": "486f1d4a-8467-47d7-cf65-e65ad451bdbd"
      },
      "source": [
        "s.isin(['cow', 'dog'])\n",
        "\n",
        "# cow ve dog hangi satırda ise o satırı True olarak görüyoruz.\n",
        "# sorguladığımız datanın hangi indekste (hangi satırda) olduğunu böylece görebiliriz\n",
        "# sonra da o dataya ulaşabiliriz"
      ],
      "id": "premier-arrival",
      "execution_count": null,
      "outputs": [
        {
          "output_type": "execute_result",
          "data": {
            "text/plain": [
              "0     True\n",
              "1     True\n",
              "2     True\n",
              "3    False\n",
              "4     True\n",
              "5    False\n",
              "Name: animal, dtype: bool"
            ]
          },
          "metadata": {
            "tags": []
          },
          "execution_count": 84
        }
      ]
    },
    {
      "cell_type": "code",
      "metadata": {
        "id": "refined-backup",
        "outputId": "2134897f-ac26-4296-8aa4-7f11b2de603f"
      },
      "source": [
        "s.isin(['dog'])"
      ],
      "id": "refined-backup",
      "execution_count": null,
      "outputs": [
        {
          "output_type": "execute_result",
          "data": {
            "text/plain": [
              "0     True\n",
              "1    False\n",
              "2     True\n",
              "3    False\n",
              "4     True\n",
              "5    False\n",
              "Name: animal, dtype: bool"
            ]
          },
          "metadata": {
            "tags": []
          },
          "execution_count": 85
        }
      ]
    },
    {
      "cell_type": "code",
      "metadata": {
        "id": "allied-bedroom"
      },
      "source": [
        " ## Indexinbg"
      ],
      "id": "allied-bedroom",
      "execution_count": null,
      "outputs": []
    },
    {
      "cell_type": "code",
      "metadata": {
        "id": "dimensional-duncan"
      },
      "source": [
        "# indeks 2 şekilde belirlenir\n",
        "# indeks numarası default olarak 0 dan başlar ve gider\n",
        "# ya da indeksin kendisini kullanabilirsin"
      ],
      "id": "dimensional-duncan",
      "execution_count": null,
      "outputs": []
    },
    {
      "cell_type": "code",
      "metadata": {
        "id": "therapeutic-valuable",
        "outputId": "3ab3bb9d-a053-4960-9e7a-1632901e0f3b"
      },
      "source": [
        "ser1 = pd.Series([1,2,3,4], index = ['USA', \"Germany\", \"USSR\", \"Japan\"])\n",
        "\n",
        "ser1"
      ],
      "id": "therapeutic-valuable",
      "execution_count": null,
      "outputs": [
        {
          "output_type": "execute_result",
          "data": {
            "text/plain": [
              "USA        1\n",
              "Germany    2\n",
              "USSR       3\n",
              "Japan      4\n",
              "dtype: int64"
            ]
          },
          "metadata": {
            "tags": []
          },
          "execution_count": 87
        }
      ]
    },
    {
      "cell_type": "code",
      "metadata": {
        "id": "sunset-rehabilitation"
      },
      "source": [
        "ser2 = pd.Series([1,2,3,4], index = ['USA', \"Germany\", \"Italy\", \"Japan\"])"
      ],
      "id": "sunset-rehabilitation",
      "execution_count": null,
      "outputs": []
    },
    {
      "cell_type": "code",
      "metadata": {
        "id": "planned-student",
        "outputId": "d3ba0e5c-db28-46f0-f1a8-72df03dfdd0d"
      },
      "source": [
        "ser2"
      ],
      "id": "planned-student",
      "execution_count": null,
      "outputs": [
        {
          "output_type": "execute_result",
          "data": {
            "text/plain": [
              "USA        1\n",
              "Germany    2\n",
              "Italy      3\n",
              "Japan      4\n",
              "dtype: int64"
            ]
          },
          "metadata": {
            "tags": []
          },
          "execution_count": 102
        }
      ]
    },
    {
      "cell_type": "code",
      "metadata": {
        "id": "compact-wednesday",
        "outputId": "7fad7b89-9285-4dd4-8a15-e56fba8933c8"
      },
      "source": [
        "ser1[\"USA\"]\n",
        "\n",
        "# görüldüğü gibi listelerde olduğu gibi indeksleme yabilirim"
      ],
      "id": "compact-wednesday",
      "execution_count": null,
      "outputs": [
        {
          "output_type": "execute_result",
          "data": {
            "text/plain": [
              "1"
            ]
          },
          "metadata": {
            "tags": []
          },
          "execution_count": 103
        }
      ]
    },
    {
      "cell_type": "code",
      "metadata": {
        "id": "anonymous-buffer",
        "outputId": "612f24c2-6721-4efe-e96a-8a99b4e26b71"
      },
      "source": [
        "ser1[0]\n",
        "\n",
        "# arka planda hafızasında tuttuğu default index numaralarını da kullanıp indeksleme yapabilirsin"
      ],
      "id": "anonymous-buffer",
      "execution_count": null,
      "outputs": [
        {
          "output_type": "execute_result",
          "data": {
            "text/plain": [
              "1"
            ]
          },
          "metadata": {
            "tags": []
          },
          "execution_count": 92
        }
      ]
    },
    {
      "cell_type": "code",
      "metadata": {
        "id": "interior-cosmetic"
      },
      "source": [
        "labels = ['a', 'b', 'c']"
      ],
      "id": "interior-cosmetic",
      "execution_count": null,
      "outputs": []
    },
    {
      "cell_type": "code",
      "metadata": {
        "id": "tough-quantum",
        "outputId": "dae0d38c-6b0a-4fb1-cb73-dc64bcf89a5b"
      },
      "source": [
        "ser3  =pd.Series(data = labels)\n",
        "ser3"
      ],
      "id": "tough-quantum",
      "execution_count": null,
      "outputs": [
        {
          "output_type": "execute_result",
          "data": {
            "text/plain": [
              "0    a\n",
              "1    b\n",
              "2    c\n",
              "dtype: object"
            ]
          },
          "metadata": {
            "tags": []
          },
          "execution_count": 97
        }
      ]
    },
    {
      "cell_type": "code",
      "metadata": {
        "id": "synthetic-fusion",
        "outputId": "adc5dc07-09b7-4dca-e14b-ee5d2dae56ce"
      },
      "source": [
        "ser1"
      ],
      "id": "synthetic-fusion",
      "execution_count": null,
      "outputs": [
        {
          "output_type": "execute_result",
          "data": {
            "text/plain": [
              "USA        1\n",
              "Germany    2\n",
              "USSR       3\n",
              "Japan      4\n",
              "dtype: int64"
            ]
          },
          "metadata": {
            "tags": []
          },
          "execution_count": 98
        }
      ]
    },
    {
      "cell_type": "code",
      "metadata": {
        "id": "double-hobby",
        "outputId": "4173d776-ae29-488e-f9cb-ccbb9b860a1a"
      },
      "source": [
        "ser2"
      ],
      "id": "double-hobby",
      "execution_count": null,
      "outputs": [
        {
          "output_type": "execute_result",
          "data": {
            "text/plain": [
              "USA        1\n",
              "Germany    2\n",
              "Italy      3\n",
              "Japan      4\n",
              "dtype: int64"
            ]
          },
          "metadata": {
            "tags": []
          },
          "execution_count": 105
        }
      ]
    },
    {
      "cell_type": "code",
      "metadata": {
        "id": "unusual-median",
        "outputId": "a5f2a2b4-8679-4727-a932-8c955abf8d24"
      },
      "source": [
        "ser1 + ser2\n",
        "\n",
        "# Italy ser1 de, SSCB ser2 de olmadığı için onların olduğu satırı toplayamadığı için yerine NaN koydu."
      ],
      "id": "unusual-median",
      "execution_count": null,
      "outputs": [
        {
          "output_type": "execute_result",
          "data": {
            "text/plain": [
              "Germany    4.0\n",
              "Italy      NaN\n",
              "Japan      8.0\n",
              "USA        2.0\n",
              "USSR       NaN\n",
              "dtype: float64"
            ]
          },
          "metadata": {
            "tags": []
          },
          "execution_count": 106
        }
      ]
    },
    {
      "cell_type": "code",
      "metadata": {
        "id": "tropical-local"
      },
      "source": [
        "a = np.array([1,2,33,444,75])"
      ],
      "id": "tropical-local",
      "execution_count": null,
      "outputs": []
    },
    {
      "cell_type": "code",
      "metadata": {
        "id": "adjustable-reproduction",
        "outputId": "077d72d7-1c90-4f4e-d8c6-3121e6a8a7aa"
      },
      "source": [
        "panser = pd.Series(a)\n",
        "panser"
      ],
      "id": "adjustable-reproduction",
      "execution_count": null,
      "outputs": [
        {
          "output_type": "execute_result",
          "data": {
            "text/plain": [
              "0      1\n",
              "1      2\n",
              "2     33\n",
              "3    444\n",
              "4     75\n",
              "dtype: int32"
            ]
          },
          "metadata": {
            "tags": []
          },
          "execution_count": 108
        }
      ]
    },
    {
      "cell_type": "code",
      "metadata": {
        "id": "legendary-america",
        "outputId": "371a208d-f593-4ae8-db3e-678b20b13cf6"
      },
      "source": [
        "panser[0]"
      ],
      "id": "legendary-america",
      "execution_count": null,
      "outputs": [
        {
          "output_type": "execute_result",
          "data": {
            "text/plain": [
              "1"
            ]
          },
          "metadata": {
            "tags": []
          },
          "execution_count": 109
        }
      ]
    },
    {
      "cell_type": "code",
      "metadata": {
        "id": "written-dream",
        "outputId": "98501e74-8141-4275-b385-c64676eaafe6"
      },
      "source": [
        "panser[1:3]"
      ],
      "id": "written-dream",
      "execution_count": null,
      "outputs": [
        {
          "output_type": "execute_result",
          "data": {
            "text/plain": [
              "1     2\n",
              "2    33\n",
              "dtype: int32"
            ]
          },
          "metadata": {
            "tags": []
          },
          "execution_count": 110
        }
      ]
    },
    {
      "cell_type": "code",
      "metadata": {
        "id": "innocent-mumbai"
      },
      "source": [
        "panser = pd.Series([121, 200, 150, 99], index = [\"ali\", \"veli\", \"ayşe\", \"nur\"])"
      ],
      "id": "innocent-mumbai",
      "execution_count": null,
      "outputs": []
    },
    {
      "cell_type": "code",
      "metadata": {
        "id": "blessed-nickname",
        "outputId": "d4dfa865-e05c-411e-f7f9-2b6aae0bf21c"
      },
      "source": [
        "panser"
      ],
      "id": "blessed-nickname",
      "execution_count": null,
      "outputs": [
        {
          "output_type": "execute_result",
          "data": {
            "text/plain": [
              "ali     121\n",
              "veli    200\n",
              "ayşe    150\n",
              "nur      99\n",
              "dtype: int64"
            ]
          },
          "metadata": {
            "tags": []
          },
          "execution_count": 112
        }
      ]
    },
    {
      "cell_type": "code",
      "metadata": {
        "id": "extended-audio",
        "outputId": "e62f2db7-4efe-49da-eada-d4418127a2a2"
      },
      "source": [
        "panser[0]"
      ],
      "id": "extended-audio",
      "execution_count": null,
      "outputs": [
        {
          "output_type": "execute_result",
          "data": {
            "text/plain": [
              "121"
            ]
          },
          "metadata": {
            "tags": []
          },
          "execution_count": 113
        }
      ]
    },
    {
      "cell_type": "code",
      "metadata": {
        "id": "adequate-burden",
        "outputId": "825d0954-a656-4e87-b1e4-6331a1532c29"
      },
      "source": [
        "panser[[\"veli\", \"nur\"]]"
      ],
      "id": "adequate-burden",
      "execution_count": null,
      "outputs": [
        {
          "output_type": "execute_result",
          "data": {
            "text/plain": [
              "veli    200\n",
              "nur      99\n",
              "dtype: int64"
            ]
          },
          "metadata": {
            "tags": []
          },
          "execution_count": 114
        }
      ]
    },
    {
      "cell_type": "code",
      "metadata": {
        "id": "immediate-sponsorship",
        "outputId": "67662243-0ba6-439e-b9d4-2d866350ce5a"
      },
      "source": [
        "panser[\"veli\" : \"nur\"]\n",
        "\n",
        " # fancy nin köşeli parantezini kaldırıp araya : koyarsak \n",
        "# veli den başlayıp nur'a kadar gider. Nur dahil !!!"
      ],
      "id": "immediate-sponsorship",
      "execution_count": null,
      "outputs": [
        {
          "output_type": "execute_result",
          "data": {
            "text/plain": [
              "veli    200\n",
              "ayşe    150\n",
              "nur      99\n",
              "dtype: int64"
            ]
          },
          "metadata": {
            "tags": []
          },
          "execution_count": 115
        }
      ]
    },
    {
      "cell_type": "code",
      "metadata": {
        "id": "proper-collectible",
        "outputId": "2d107619-03bb-4dd4-ce9d-a964a898860d"
      },
      "source": [
        "panser[0:3]\n",
        "\n",
        "# burada 3. indeksi almadı. ama yukardaki örnekte Nur'u aldı.\n",
        "# serinin indekslerinin İSİMLERİ ile indeksleme yaparsan SON İNDEKSİ DE ALIR!!"
      ],
      "id": "proper-collectible",
      "execution_count": null,
      "outputs": [
        {
          "output_type": "execute_result",
          "data": {
            "text/plain": [
              "ali     121\n",
              "veli    200\n",
              "ayşe    150\n",
              "dtype: int64"
            ]
          },
          "metadata": {
            "tags": []
          },
          "execution_count": 116
        }
      ]
    },
    {
      "cell_type": "markdown",
      "metadata": {
        "id": "controlled-statistics"
      },
      "source": [
        "## Several Selecting Attributes"
      ],
      "id": "controlled-statistics"
    },
    {
      "cell_type": "code",
      "metadata": {
        "id": "annual-sentence",
        "outputId": "27d156e1-e863-43af-d3fc-b186d85eab87"
      },
      "source": [
        "panser.index\n",
        "\n",
        "# index object oluşturdu. indeksleri verdi."
      ],
      "id": "annual-sentence",
      "execution_count": null,
      "outputs": [
        {
          "output_type": "execute_result",
          "data": {
            "text/plain": [
              "Index(['ali', 'veli', 'ayşe', 'nur'], dtype='object')"
            ]
          },
          "metadata": {
            "tags": []
          },
          "execution_count": 117
        }
      ]
    },
    {
      "cell_type": "code",
      "metadata": {
        "id": "beneficial-leave",
        "outputId": "5e3d3d0b-e268-4852-f1bc-56f135696177"
      },
      "source": [
        "panser.keys"
      ],
      "id": "beneficial-leave",
      "execution_count": null,
      "outputs": [
        {
          "output_type": "execute_result",
          "data": {
            "text/plain": [
              "<bound method Series.keys of ali     121\n",
              "veli    200\n",
              "ayşe    150\n",
              "nur      99\n",
              "dtype: int64>"
            ]
          },
          "metadata": {
            "tags": []
          },
          "execution_count": 118
        }
      ]
    },
    {
      "cell_type": "code",
      "metadata": {
        "id": "sporting-suffering",
        "outputId": "562de91e-502a-4f00-a160-403b1e4d7708"
      },
      "source": [
        "panser.values"
      ],
      "id": "sporting-suffering",
      "execution_count": null,
      "outputs": [
        {
          "output_type": "execute_result",
          "data": {
            "text/plain": [
              "array([121, 200, 150,  99], dtype=int64)"
            ]
          },
          "metadata": {
            "tags": []
          },
          "execution_count": 119
        }
      ]
    },
    {
      "cell_type": "code",
      "metadata": {
        "id": "illegal-advertiser",
        "outputId": "e9fec0f6-bcaa-41ea-ae86-708886124bf0"
      },
      "source": [
        "panser.items"
      ],
      "id": "illegal-advertiser",
      "execution_count": null,
      "outputs": [
        {
          "output_type": "execute_result",
          "data": {
            "text/plain": [
              "<bound method Series.items of ali     121\n",
              "veli    200\n",
              "ayşe    150\n",
              "nur      99\n",
              "dtype: int64>"
            ]
          },
          "metadata": {
            "tags": []
          },
          "execution_count": 120
        }
      ]
    },
    {
      "cell_type": "code",
      "metadata": {
        "id": "dense-ebony",
        "outputId": "38bd7d7c-fded-48d7-d374-050fee48c929"
      },
      "source": [
        "panser.items()"
      ],
      "id": "dense-ebony",
      "execution_count": null,
      "outputs": [
        {
          "output_type": "execute_result",
          "data": {
            "text/plain": [
              "<zip at 0x22447535788>"
            ]
          },
          "metadata": {
            "tags": []
          },
          "execution_count": 121
        }
      ]
    },
    {
      "cell_type": "code",
      "metadata": {
        "id": "unavailable-revision",
        "outputId": "d1fffd63-3a59-4eb1-8726-b6a6b988d416"
      },
      "source": [
        "# list fonksiyonu kullanarak liste görünümünde görelim.\n",
        "\n",
        "list(panser.items())"
      ],
      "id": "unavailable-revision",
      "execution_count": null,
      "outputs": [
        {
          "output_type": "execute_result",
          "data": {
            "text/plain": [
              "[('ali', 121), ('veli', 200), ('ayşe', 150), ('nur', 99)]"
            ]
          },
          "metadata": {
            "tags": []
          },
          "execution_count": 122
        }
      ]
    },
    {
      "cell_type": "code",
      "metadata": {
        "id": "offensive-format",
        "outputId": "ce301f15-5af1-4e48-8e35-d2303c6e65e3"
      },
      "source": [
        "# for döngüsü ile görelim.\n",
        "\n",
        "for index, value in panser.items() :\n",
        "    print(index, \"-\", value)"
      ],
      "id": "offensive-format",
      "execution_count": null,
      "outputs": [
        {
          "output_type": "stream",
          "text": [
            "ali - 121\n",
            "veli - 200\n",
            "ayşe - 150\n",
            "nur - 99\n"
          ],
          "name": "stdout"
        }
      ]
    },
    {
      "cell_type": "code",
      "metadata": {
        "id": "silent-steam",
        "outputId": "b9c6662e-11f7-4ee4-fcb7-fd21bd8e00fb"
      },
      "source": [
        "\"mehmet\" in panser\n",
        "\n",
        "# in OPERATÖRÜ İNDEKSLERE BAKTIĞI İÇİN mehmet indeksi olmadığından false verdi."
      ],
      "id": "silent-steam",
      "execution_count": null,
      "outputs": [
        {
          "output_type": "execute_result",
          "data": {
            "text/plain": [
              "False"
            ]
          },
          "metadata": {
            "tags": []
          },
          "execution_count": 124
        }
      ]
    },
    {
      "cell_type": "code",
      "metadata": {
        "id": "obvious-rebate",
        "outputId": "32eb526a-fe09-4a22-fe7e-1a120355eb0a"
      },
      "source": [
        "121 in panser\n",
        "\n",
        "# 121 diye bir indeks olmadığından false verdi."
      ],
      "id": "obvious-rebate",
      "execution_count": null,
      "outputs": [
        {
          "output_type": "execute_result",
          "data": {
            "text/plain": [
              "False"
            ]
          },
          "metadata": {
            "tags": []
          },
          "execution_count": 125
        }
      ]
    },
    {
      "cell_type": "code",
      "metadata": {
        "id": "magnetic-search",
        "outputId": "6ba5d290-7fb4-4d2b-957b-b1aaf9a32404"
      },
      "source": [
        "121. in panser.values\n",
        "\n",
        "# value ler içinde baktığımız için 121 valueler arasında olduğundan true verdi."
      ],
      "id": "magnetic-search",
      "execution_count": null,
      "outputs": [
        {
          "output_type": "execute_result",
          "data": {
            "text/plain": [
              "True"
            ]
          },
          "metadata": {
            "tags": []
          },
          "execution_count": 126
        }
      ]
    },
    {
      "cell_type": "code",
      "metadata": {
        "id": "strategic-disclaimer",
        "outputId": "0f62106a-a297-4158-8fbf-c6bd8fe90bfc"
      },
      "source": [
        "500 in panser.values"
      ],
      "id": "strategic-disclaimer",
      "execution_count": null,
      "outputs": [
        {
          "output_type": "execute_result",
          "data": {
            "text/plain": [
              "False"
            ]
          },
          "metadata": {
            "tags": []
          },
          "execution_count": 127
        }
      ]
    },
    {
      "cell_type": "code",
      "metadata": {
        "id": "senior-means",
        "outputId": "099e024b-6aa6-45d2-e7e4-e8dacc59d734"
      },
      "source": [
        "panser[\"veli\"] = 571\n",
        "panser\n",
        "# = ile veli nin değerini değiştirebiliyoruz. "
      ],
      "id": "senior-means",
      "execution_count": null,
      "outputs": [
        {
          "output_type": "execute_result",
          "data": {
            "text/plain": [
              "ali     121\n",
              "veli    571\n",
              "ayşe    150\n",
              "nur      99\n",
              "dtype: int64"
            ]
          },
          "metadata": {
            "tags": []
          },
          "execution_count": 128
        }
      ]
    },
    {
      "cell_type": "code",
      "metadata": {
        "id": "balanced-glass",
        "outputId": "e7c790fa-da49-4bdf-8150-30d09c58c684"
      },
      "source": [
        "# conditional indexing yapalım\n",
        "\n",
        "panser > 130\n",
        "\n",
        "# bize AYNI UZUNLUKTA BİR SERİ döndürdü. conditionu sağlayanları True yaptı."
      ],
      "id": "balanced-glass",
      "execution_count": null,
      "outputs": [
        {
          "output_type": "execute_result",
          "data": {
            "text/plain": [
              "ali     False\n",
              "veli     True\n",
              "ayşe     True\n",
              "nur     False\n",
              "dtype: bool"
            ]
          },
          "metadata": {
            "tags": []
          },
          "execution_count": 129
        }
      ]
    },
    {
      "cell_type": "code",
      "metadata": {
        "id": "thirty-gather",
        "outputId": "2179ca6b-4c82-448f-ebd5-252dff80fa84"
      },
      "source": [
        "panser[panser > 130]\n",
        "\n",
        "# panser > 130 u sağlayan value'ların indeksini çektik"
      ],
      "id": "thirty-gather",
      "execution_count": null,
      "outputs": [
        {
          "output_type": "execute_result",
          "data": {
            "text/plain": [
              "veli    571\n",
              "ayşe    150\n",
              "dtype: int64"
            ]
          },
          "metadata": {
            "tags": []
          },
          "execution_count": 132
        }
      ]
    },
    {
      "cell_type": "code",
      "metadata": {
        "id": "imposed-precipitation",
        "outputId": "e8d806ac-dbb3-4b99-96c7-73b9fd9ff641"
      },
      "source": [
        "panser[[False, True, True, False]]\n",
        "\n",
        "# manipule edip elle booleanlarını yazınca da aynı sonucu elde ettim"
      ],
      "id": "imposed-precipitation",
      "execution_count": null,
      "outputs": [
        {
          "output_type": "execute_result",
          "data": {
            "text/plain": [
              "veli    571\n",
              "ayşe    150\n",
              "dtype: int64"
            ]
          },
          "metadata": {
            "tags": []
          },
          "execution_count": 131
        }
      ]
    },
    {
      "cell_type": "markdown",
      "metadata": {
        "id": "metallic-civilian"
      },
      "source": [
        "# DataFrames"
      ],
      "id": "metallic-civilian"
    },
    {
      "cell_type": "code",
      "metadata": {
        "id": "fundamental-bowling"
      },
      "source": [
        "\"\"\"\n",
        "serilerin sütun olarak bir araya geldiği, \n",
        "ve aynı indeksleri paylaştığı verilerdir.\n",
        "\"\"\""
      ],
      "id": "fundamental-bowling",
      "execution_count": null,
      "outputs": []
    },
    {
      "cell_type": "markdown",
      "metadata": {
        "id": "mineral-vertex"
      },
      "source": [
        "## Creating DataFrame using list"
      ],
      "id": "mineral-vertex"
    },
    {
      "cell_type": "code",
      "metadata": {
        "id": "japanese-yugoslavia"
      },
      "source": [
        "datam = [1, 2, 39, 67, 90]"
      ],
      "id": "japanese-yugoslavia",
      "execution_count": null,
      "outputs": []
    },
    {
      "cell_type": "code",
      "metadata": {
        "id": "extended-hospital",
        "outputId": "8e30ed60-0178-42dd-e3af-b46f9dc10adc"
      },
      "source": [
        "datam"
      ],
      "id": "extended-hospital",
      "execution_count": null,
      "outputs": [
        {
          "output_type": "execute_result",
          "data": {
            "text/plain": [
              "[1, 2, 39, 67, 90]"
            ]
          },
          "metadata": {
            "tags": []
          },
          "execution_count": 135
        }
      ]
    },
    {
      "cell_type": "code",
      "metadata": {
        "id": "hydraulic-future",
        "outputId": "d5b2ad9f-8a9d-4dbb-e37d-3a8f716711c1"
      },
      "source": [
        "# DataFrame, parametre olarak iterables alır.\n",
        "\n",
        "pd.DataFrame(datam, columns = [\"column_name\"])\n",
        "\n",
        "# DataFrame'e column_name ismi verdik. Series'de de isim verebiliyoruz. (buna daha sonra bak)"
      ],
      "id": "hydraulic-future",
      "execution_count": null,
      "outputs": [
        {
          "output_type": "execute_result",
          "data": {
            "text/html": [
              "<div>\n",
              "<style scoped>\n",
              "    .dataframe tbody tr th:only-of-type {\n",
              "        vertical-align: middle;\n",
              "    }\n",
              "\n",
              "    .dataframe tbody tr th {\n",
              "        vertical-align: top;\n",
              "    }\n",
              "\n",
              "    .dataframe thead th {\n",
              "        text-align: right;\n",
              "    }\n",
              "</style>\n",
              "<table border=\"1\" class=\"dataframe\">\n",
              "  <thead>\n",
              "    <tr style=\"text-align: right;\">\n",
              "      <th></th>\n",
              "      <th>column_name</th>\n",
              "    </tr>\n",
              "  </thead>\n",
              "  <tbody>\n",
              "    <tr>\n",
              "      <th>0</th>\n",
              "      <td>1</td>\n",
              "    </tr>\n",
              "    <tr>\n",
              "      <th>1</th>\n",
              "      <td>2</td>\n",
              "    </tr>\n",
              "    <tr>\n",
              "      <th>2</th>\n",
              "      <td>39</td>\n",
              "    </tr>\n",
              "    <tr>\n",
              "      <th>3</th>\n",
              "      <td>67</td>\n",
              "    </tr>\n",
              "    <tr>\n",
              "      <th>4</th>\n",
              "      <td>90</td>\n",
              "    </tr>\n",
              "  </tbody>\n",
              "</table>\n",
              "</div>"
            ],
            "text/plain": [
              "   column_name\n",
              "0            1\n",
              "1            2\n",
              "2           39\n",
              "3           67\n",
              "4           90"
            ]
          },
          "metadata": {
            "tags": []
          },
          "execution_count": 137
        }
      ]
    },
    {
      "cell_type": "code",
      "metadata": {
        "id": "experimental-concept"
      },
      "source": [
        ""
      ],
      "id": "experimental-concept",
      "execution_count": null,
      "outputs": []
    },
    {
      "cell_type": "code",
      "metadata": {
        "id": "absolute-employer"
      },
      "source": [
        "m = np.arange(1, 10).reshape(3, 3)"
      ],
      "id": "absolute-employer",
      "execution_count": null,
      "outputs": []
    },
    {
      "cell_type": "code",
      "metadata": {
        "id": "negative-crash",
        "outputId": "431f27ce-0b3e-4890-fa49-3249d5837e57"
      },
      "source": [
        "m"
      ],
      "id": "negative-crash",
      "execution_count": null,
      "outputs": [
        {
          "output_type": "execute_result",
          "data": {
            "text/plain": [
              "array([[1, 2, 3],\n",
              "       [4, 5, 6],\n",
              "       [7, 8, 9]])"
            ]
          },
          "metadata": {
            "tags": []
          },
          "execution_count": 139
        }
      ]
    },
    {
      "cell_type": "code",
      "metadata": {
        "id": "usual-velvet",
        "outputId": "242d1e8d-9380-4b45-8d9f-f2b30f4a8694"
      },
      "source": [
        "pd.DataFrame(m, columns = [\"var1\", \"var2\", \"var3\"])\n",
        "\n",
        "# her bir \"var sütunu\"nun birer pandas serie olduğuna dikkat et\n",
        "\n",
        "# \"columns =\" yazmadan doğrudan varları yazamam. \n",
        "# çünkü parametrelere baktığımızda arada index parametresi var!\n",
        "# positioning olayı..."
      ],
      "id": "usual-velvet",
      "execution_count": null,
      "outputs": [
        {
          "output_type": "execute_result",
          "data": {
            "text/html": [
              "<div>\n",
              "<style scoped>\n",
              "    .dataframe tbody tr th:only-of-type {\n",
              "        vertical-align: middle;\n",
              "    }\n",
              "\n",
              "    .dataframe tbody tr th {\n",
              "        vertical-align: top;\n",
              "    }\n",
              "\n",
              "    .dataframe thead th {\n",
              "        text-align: right;\n",
              "    }\n",
              "</style>\n",
              "<table border=\"1\" class=\"dataframe\">\n",
              "  <thead>\n",
              "    <tr style=\"text-align: right;\">\n",
              "      <th></th>\n",
              "      <th>var1</th>\n",
              "      <th>var2</th>\n",
              "      <th>var3</th>\n",
              "    </tr>\n",
              "  </thead>\n",
              "  <tbody>\n",
              "    <tr>\n",
              "      <th>0</th>\n",
              "      <td>1</td>\n",
              "      <td>2</td>\n",
              "      <td>3</td>\n",
              "    </tr>\n",
              "    <tr>\n",
              "      <th>1</th>\n",
              "      <td>4</td>\n",
              "      <td>5</td>\n",
              "      <td>6</td>\n",
              "    </tr>\n",
              "    <tr>\n",
              "      <th>2</th>\n",
              "      <td>7</td>\n",
              "      <td>8</td>\n",
              "      <td>9</td>\n",
              "    </tr>\n",
              "  </tbody>\n",
              "</table>\n",
              "</div>"
            ],
            "text/plain": [
              "   var1  var2  var3\n",
              "0     1     2     3\n",
              "1     4     5     6\n",
              "2     7     8     9"
            ]
          },
          "metadata": {
            "tags": []
          },
          "execution_count": 140
        }
      ]
    },
    {
      "cell_type": "code",
      "metadata": {
        "id": "pressed-wedding",
        "outputId": "b908457f-3926-4be0-81e6-beb5753b5651"
      },
      "source": [
        "pd.DataFrame(data = m, columns = [\"var1\", \"var2\", \"var3\"])"
      ],
      "id": "pressed-wedding",
      "execution_count": null,
      "outputs": [
        {
          "output_type": "execute_result",
          "data": {
            "text/html": [
              "<div>\n",
              "<style scoped>\n",
              "    .dataframe tbody tr th:only-of-type {\n",
              "        vertical-align: middle;\n",
              "    }\n",
              "\n",
              "    .dataframe tbody tr th {\n",
              "        vertical-align: top;\n",
              "    }\n",
              "\n",
              "    .dataframe thead th {\n",
              "        text-align: right;\n",
              "    }\n",
              "</style>\n",
              "<table border=\"1\" class=\"dataframe\">\n",
              "  <thead>\n",
              "    <tr style=\"text-align: right;\">\n",
              "      <th></th>\n",
              "      <th>var1</th>\n",
              "      <th>var2</th>\n",
              "      <th>var3</th>\n",
              "    </tr>\n",
              "  </thead>\n",
              "  <tbody>\n",
              "    <tr>\n",
              "      <th>0</th>\n",
              "      <td>1</td>\n",
              "      <td>2</td>\n",
              "      <td>3</td>\n",
              "    </tr>\n",
              "    <tr>\n",
              "      <th>1</th>\n",
              "      <td>4</td>\n",
              "      <td>5</td>\n",
              "      <td>6</td>\n",
              "    </tr>\n",
              "    <tr>\n",
              "      <th>2</th>\n",
              "      <td>7</td>\n",
              "      <td>8</td>\n",
              "      <td>9</td>\n",
              "    </tr>\n",
              "  </tbody>\n",
              "</table>\n",
              "</div>"
            ],
            "text/plain": [
              "   var1  var2  var3\n",
              "0     1     2     3\n",
              "1     4     5     6\n",
              "2     7     8     9"
            ]
          },
          "metadata": {
            "tags": []
          },
          "execution_count": 141
        }
      ]
    },
    {
      "cell_type": "code",
      "metadata": {
        "id": "naughty-effect"
      },
      "source": [
        "df = pd.DataFrame(data = m, columns = [\"var1\", \"var2\", \"var3\"])"
      ],
      "id": "naughty-effect",
      "execution_count": null,
      "outputs": []
    },
    {
      "cell_type": "code",
      "metadata": {
        "id": "crucial-argentina",
        "outputId": "16f1dcc0-baa3-4701-935b-2c47aa6bb4e1"
      },
      "source": [
        "df.head(2)"
      ],
      "id": "crucial-argentina",
      "execution_count": null,
      "outputs": [
        {
          "output_type": "execute_result",
          "data": {
            "text/html": [
              "<div>\n",
              "<style scoped>\n",
              "    .dataframe tbody tr th:only-of-type {\n",
              "        vertical-align: middle;\n",
              "    }\n",
              "\n",
              "    .dataframe tbody tr th {\n",
              "        vertical-align: top;\n",
              "    }\n",
              "\n",
              "    .dataframe thead th {\n",
              "        text-align: right;\n",
              "    }\n",
              "</style>\n",
              "<table border=\"1\" class=\"dataframe\">\n",
              "  <thead>\n",
              "    <tr style=\"text-align: right;\">\n",
              "      <th></th>\n",
              "      <th>var1</th>\n",
              "      <th>var2</th>\n",
              "      <th>var3</th>\n",
              "    </tr>\n",
              "  </thead>\n",
              "  <tbody>\n",
              "    <tr>\n",
              "      <th>0</th>\n",
              "      <td>1</td>\n",
              "      <td>2</td>\n",
              "      <td>3</td>\n",
              "    </tr>\n",
              "    <tr>\n",
              "      <th>1</th>\n",
              "      <td>4</td>\n",
              "      <td>5</td>\n",
              "      <td>6</td>\n",
              "    </tr>\n",
              "  </tbody>\n",
              "</table>\n",
              "</div>"
            ],
            "text/plain": [
              "   var1  var2  var3\n",
              "0     1     2     3\n",
              "1     4     5     6"
            ]
          },
          "metadata": {
            "tags": []
          },
          "execution_count": 144
        }
      ]
    },
    {
      "cell_type": "code",
      "metadata": {
        "id": "warming-packaging",
        "outputId": "1c074622-80c2-41ea-8c99-e1affcad380d"
      },
      "source": [
        "df.tail(1)"
      ],
      "id": "warming-packaging",
      "execution_count": null,
      "outputs": [
        {
          "output_type": "execute_result",
          "data": {
            "text/html": [
              "<div>\n",
              "<style scoped>\n",
              "    .dataframe tbody tr th:only-of-type {\n",
              "        vertical-align: middle;\n",
              "    }\n",
              "\n",
              "    .dataframe tbody tr th {\n",
              "        vertical-align: top;\n",
              "    }\n",
              "\n",
              "    .dataframe thead th {\n",
              "        text-align: right;\n",
              "    }\n",
              "</style>\n",
              "<table border=\"1\" class=\"dataframe\">\n",
              "  <thead>\n",
              "    <tr style=\"text-align: right;\">\n",
              "      <th></th>\n",
              "      <th>var1</th>\n",
              "      <th>var2</th>\n",
              "      <th>var3</th>\n",
              "    </tr>\n",
              "  </thead>\n",
              "  <tbody>\n",
              "    <tr>\n",
              "      <th>2</th>\n",
              "      <td>7</td>\n",
              "      <td>8</td>\n",
              "      <td>9</td>\n",
              "    </tr>\n",
              "  </tbody>\n",
              "</table>\n",
              "</div>"
            ],
            "text/plain": [
              "   var1  var2  var3\n",
              "2     7     8     9"
            ]
          },
          "metadata": {
            "tags": []
          },
          "execution_count": 145
        }
      ]
    },
    {
      "cell_type": "code",
      "metadata": {
        "id": "pleased-reference",
        "outputId": "bbcb8d67-a304-4ec0-b967-82a55b416a43"
      },
      "source": [
        "df.columns\n",
        "\n",
        "# columnsları görelim."
      ],
      "id": "pleased-reference",
      "execution_count": null,
      "outputs": [
        {
          "output_type": "execute_result",
          "data": {
            "text/plain": [
              "Index(['var1', 'var2', 'var3'], dtype='object')"
            ]
          },
          "metadata": {
            "tags": []
          },
          "execution_count": 146
        }
      ]
    },
    {
      "cell_type": "code",
      "metadata": {
        "id": "actual-constitutional",
        "outputId": "4d6fdb3b-d1c9-469a-b1f5-e5f5ef5bd459"
      },
      "source": [
        "df.columns = [\"new1\", \"new2\", \"new3\"]\n",
        "df\n",
        "\n",
        "# columns ların isimlerine yeni atama yaparak onları değiştirdik."
      ],
      "id": "actual-constitutional",
      "execution_count": null,
      "outputs": [
        {
          "output_type": "execute_result",
          "data": {
            "text/html": [
              "<div>\n",
              "<style scoped>\n",
              "    .dataframe tbody tr th:only-of-type {\n",
              "        vertical-align: middle;\n",
              "    }\n",
              "\n",
              "    .dataframe tbody tr th {\n",
              "        vertical-align: top;\n",
              "    }\n",
              "\n",
              "    .dataframe thead th {\n",
              "        text-align: right;\n",
              "    }\n",
              "</style>\n",
              "<table border=\"1\" class=\"dataframe\">\n",
              "  <thead>\n",
              "    <tr style=\"text-align: right;\">\n",
              "      <th></th>\n",
              "      <th>new1</th>\n",
              "      <th>new2</th>\n",
              "      <th>new3</th>\n",
              "    </tr>\n",
              "  </thead>\n",
              "  <tbody>\n",
              "    <tr>\n",
              "      <th>0</th>\n",
              "      <td>1</td>\n",
              "      <td>2</td>\n",
              "      <td>3</td>\n",
              "    </tr>\n",
              "    <tr>\n",
              "      <th>1</th>\n",
              "      <td>4</td>\n",
              "      <td>5</td>\n",
              "      <td>6</td>\n",
              "    </tr>\n",
              "    <tr>\n",
              "      <th>2</th>\n",
              "      <td>7</td>\n",
              "      <td>8</td>\n",
              "      <td>9</td>\n",
              "    </tr>\n",
              "  </tbody>\n",
              "</table>\n",
              "</div>"
            ],
            "text/plain": [
              "   new1  new2  new3\n",
              "0     1     2     3\n",
              "1     4     5     6\n",
              "2     7     8     9"
            ]
          },
          "metadata": {
            "tags": []
          },
          "execution_count": 147
        }
      ]
    },
    {
      "cell_type": "code",
      "metadata": {
        "id": "nonprofit-smooth",
        "outputId": "81d7bcfb-6e36-493e-d41e-344085ff1f7e"
      },
      "source": [
        "type(df)"
      ],
      "id": "nonprofit-smooth",
      "execution_count": null,
      "outputs": [
        {
          "output_type": "execute_result",
          "data": {
            "text/plain": [
              "pandas.core.frame.DataFrame"
            ]
          },
          "metadata": {
            "tags": []
          },
          "execution_count": 148
        }
      ]
    },
    {
      "cell_type": "code",
      "metadata": {
        "id": "elegant-paraguay",
        "outputId": "baeee87c-af61-4408-a681-85e4f7094706"
      },
      "source": [
        "df.shape"
      ],
      "id": "elegant-paraguay",
      "execution_count": null,
      "outputs": [
        {
          "output_type": "execute_result",
          "data": {
            "text/plain": [
              "(3, 3)"
            ]
          },
          "metadata": {
            "tags": []
          },
          "execution_count": 149
        }
      ]
    },
    {
      "cell_type": "code",
      "metadata": {
        "id": "atmospheric-grass",
        "outputId": "0ad478af-26c3-4fd5-fd2b-96a8c6ec755e"
      },
      "source": [
        "df.size"
      ],
      "id": "atmospheric-grass",
      "execution_count": null,
      "outputs": [
        {
          "output_type": "execute_result",
          "data": {
            "text/plain": [
              "9"
            ]
          },
          "metadata": {
            "tags": []
          },
          "execution_count": 150
        }
      ]
    },
    {
      "cell_type": "code",
      "metadata": {
        "id": "religious-transportation",
        "outputId": "4e71c6d8-7bc5-47a3-b945-329d61a41883"
      },
      "source": [
        "df.values\n",
        "\n",
        "# dataframe'imizin içerisindeki numpy karşılığını verdi. array olduğunu gördük"
      ],
      "id": "religious-transportation",
      "execution_count": null,
      "outputs": [
        {
          "output_type": "execute_result",
          "data": {
            "text/plain": [
              "array([[1, 2, 3],\n",
              "       [4, 5, 6],\n",
              "       [7, 8, 9]])"
            ]
          },
          "metadata": {
            "tags": []
          },
          "execution_count": 151
        }
      ]
    },
    {
      "cell_type": "markdown",
      "metadata": {
        "id": "heavy-triple"
      },
      "source": [
        "## Creating a DataFrame using a dict"
      ],
      "id": "heavy-triple"
    },
    {
      "cell_type": "code",
      "metadata": {
        "id": "equipped-pipeline"
      },
      "source": [
        "s1 = np.random.randint(10, size = 5)\n",
        "s2 = np.random.randint(10, size = 5)\n",
        "s3 = np.random.randint(10, size = 5)"
      ],
      "id": "equipped-pipeline",
      "execution_count": null,
      "outputs": []
    },
    {
      "cell_type": "code",
      "metadata": {
        "id": "international-disabled",
        "outputId": "a8b7ed68-5341-426b-c4c4-a1daa84206e7"
      },
      "source": [
        "s1"
      ],
      "id": "international-disabled",
      "execution_count": null,
      "outputs": [
        {
          "output_type": "execute_result",
          "data": {
            "text/plain": [
              "array([1, 8, 3, 1, 2])"
            ]
          },
          "metadata": {
            "tags": []
          },
          "execution_count": 153
        }
      ]
    },
    {
      "cell_type": "code",
      "metadata": {
        "id": "logical-serbia",
        "outputId": "999971f4-19ed-48f3-b7d1-9cee3a71caef"
      },
      "source": [
        "s2"
      ],
      "id": "logical-serbia",
      "execution_count": null,
      "outputs": [
        {
          "output_type": "execute_result",
          "data": {
            "text/plain": [
              "array([1, 6, 0, 5, 7])"
            ]
          },
          "metadata": {
            "tags": []
          },
          "execution_count": 154
        }
      ]
    },
    {
      "cell_type": "code",
      "metadata": {
        "id": "universal-opera",
        "outputId": "c2007e39-abb7-47ad-f861-076fa15514ec"
      },
      "source": [
        "s3"
      ],
      "id": "universal-opera",
      "execution_count": null,
      "outputs": [
        {
          "output_type": "execute_result",
          "data": {
            "text/plain": [
              "array([4, 0, 4, 4, 6])"
            ]
          },
          "metadata": {
            "tags": []
          },
          "execution_count": 155
        }
      ]
    },
    {
      "cell_type": "code",
      "metadata": {
        "id": "neural-complaint"
      },
      "source": [
        "mydict = {\"var1\" : s1, \"var2\" : s2, \"var3\" : s3}"
      ],
      "id": "neural-complaint",
      "execution_count": null,
      "outputs": []
    },
    {
      "cell_type": "code",
      "metadata": {
        "id": "incomplete-cotton",
        "outputId": "5501b8b3-1de8-4e68-f04b-d60965c95cc6"
      },
      "source": [
        "mydict"
      ],
      "id": "incomplete-cotton",
      "execution_count": null,
      "outputs": [
        {
          "output_type": "execute_result",
          "data": {
            "text/plain": [
              "{'var1': array([1, 8, 3, 1, 2]),\n",
              " 'var2': array([1, 6, 0, 5, 7]),\n",
              " 'var3': array([4, 0, 4, 4, 6])}"
            ]
          },
          "metadata": {
            "tags": []
          },
          "execution_count": 157
        }
      ]
    },
    {
      "cell_type": "code",
      "metadata": {
        "id": "coupled-trance"
      },
      "source": [
        "# şimdi bunu dataframe e dönüştüreceğiz. \n",
        "# her bir key column name olacak\n",
        "\n",
        "df1 = pd.DataFrame(mydict)"
      ],
      "id": "coupled-trance",
      "execution_count": null,
      "outputs": []
    },
    {
      "cell_type": "code",
      "metadata": {
        "id": "variable-carol",
        "outputId": "a274f4ce-573b-44c1-a70f-2a2497b92d64"
      },
      "source": [
        "df1"
      ],
      "id": "variable-carol",
      "execution_count": null,
      "outputs": [
        {
          "output_type": "execute_result",
          "data": {
            "text/html": [
              "<div>\n",
              "<style scoped>\n",
              "    .dataframe tbody tr th:only-of-type {\n",
              "        vertical-align: middle;\n",
              "    }\n",
              "\n",
              "    .dataframe tbody tr th {\n",
              "        vertical-align: top;\n",
              "    }\n",
              "\n",
              "    .dataframe thead th {\n",
              "        text-align: right;\n",
              "    }\n",
              "</style>\n",
              "<table border=\"1\" class=\"dataframe\">\n",
              "  <thead>\n",
              "    <tr style=\"text-align: right;\">\n",
              "      <th></th>\n",
              "      <th>var1</th>\n",
              "      <th>var2</th>\n",
              "      <th>var3</th>\n",
              "    </tr>\n",
              "  </thead>\n",
              "  <tbody>\n",
              "    <tr>\n",
              "      <th>0</th>\n",
              "      <td>1</td>\n",
              "      <td>1</td>\n",
              "      <td>4</td>\n",
              "    </tr>\n",
              "    <tr>\n",
              "      <th>1</th>\n",
              "      <td>8</td>\n",
              "      <td>6</td>\n",
              "      <td>0</td>\n",
              "    </tr>\n",
              "    <tr>\n",
              "      <th>2</th>\n",
              "      <td>3</td>\n",
              "      <td>0</td>\n",
              "      <td>4</td>\n",
              "    </tr>\n",
              "    <tr>\n",
              "      <th>3</th>\n",
              "      <td>1</td>\n",
              "      <td>5</td>\n",
              "      <td>4</td>\n",
              "    </tr>\n",
              "    <tr>\n",
              "      <th>4</th>\n",
              "      <td>2</td>\n",
              "      <td>7</td>\n",
              "      <td>6</td>\n",
              "    </tr>\n",
              "  </tbody>\n",
              "</table>\n",
              "</div>"
            ],
            "text/plain": [
              "   var1  var2  var3\n",
              "0     1     1     4\n",
              "1     8     6     0\n",
              "2     3     0     4\n",
              "3     1     5     4\n",
              "4     2     7     6"
            ]
          },
          "metadata": {
            "tags": []
          },
          "execution_count": 159
        }
      ]
    },
    {
      "cell_type": "code",
      "metadata": {
        "id": "tender-iraqi",
        "outputId": "434ecb11-3b32-47c9-9dbd-6a74d0a1596d"
      },
      "source": [
        "pd.read_csv(\"ornekcsv.csv\", delimiter = \";\")"
      ],
      "id": "tender-iraqi",
      "execution_count": null,
      "outputs": [
        {
          "output_type": "execute_result",
          "data": {
            "text/html": [
              "<div>\n",
              "<style scoped>\n",
              "    .dataframe tbody tr th:only-of-type {\n",
              "        vertical-align: middle;\n",
              "    }\n",
              "\n",
              "    .dataframe tbody tr th {\n",
              "        vertical-align: top;\n",
              "    }\n",
              "\n",
              "    .dataframe thead th {\n",
              "        text-align: right;\n",
              "    }\n",
              "</style>\n",
              "<table border=\"1\" class=\"dataframe\">\n",
              "  <thead>\n",
              "    <tr style=\"text-align: right;\">\n",
              "      <th></th>\n",
              "      <th>a</th>\n",
              "      <th>b</th>\n",
              "      <th>c</th>\n",
              "    </tr>\n",
              "  </thead>\n",
              "  <tbody>\n",
              "    <tr>\n",
              "      <th>0</th>\n",
              "      <td>78</td>\n",
              "      <td>12</td>\n",
              "      <td>1.0</td>\n",
              "    </tr>\n",
              "    <tr>\n",
              "      <th>1</th>\n",
              "      <td>78</td>\n",
              "      <td>12</td>\n",
              "      <td>2.0</td>\n",
              "    </tr>\n",
              "    <tr>\n",
              "      <th>2</th>\n",
              "      <td>78</td>\n",
              "      <td>324</td>\n",
              "      <td>3.0</td>\n",
              "    </tr>\n",
              "    <tr>\n",
              "      <th>3</th>\n",
              "      <td>7</td>\n",
              "      <td>2</td>\n",
              "      <td>4.0</td>\n",
              "    </tr>\n",
              "    <tr>\n",
              "      <th>4</th>\n",
              "      <td>88</td>\n",
              "      <td>23</td>\n",
              "      <td>5.0</td>\n",
              "    </tr>\n",
              "    <tr>\n",
              "      <th>5</th>\n",
              "      <td>6</td>\n",
              "      <td>2</td>\n",
              "      <td>NaN</td>\n",
              "    </tr>\n",
              "    <tr>\n",
              "      <th>6</th>\n",
              "      <td>56</td>\n",
              "      <td>11</td>\n",
              "      <td>6.0</td>\n",
              "    </tr>\n",
              "    <tr>\n",
              "      <th>7</th>\n",
              "      <td>7</td>\n",
              "      <td>12</td>\n",
              "      <td>7.0</td>\n",
              "    </tr>\n",
              "    <tr>\n",
              "      <th>8</th>\n",
              "      <td>56</td>\n",
              "      <td>21</td>\n",
              "      <td>7.0</td>\n",
              "    </tr>\n",
              "    <tr>\n",
              "      <th>9</th>\n",
              "      <td>346</td>\n",
              "      <td>2</td>\n",
              "      <td>8.0</td>\n",
              "    </tr>\n",
              "    <tr>\n",
              "      <th>10</th>\n",
              "      <td>5</td>\n",
              "      <td>1</td>\n",
              "      <td>8.0</td>\n",
              "    </tr>\n",
              "    <tr>\n",
              "      <th>11</th>\n",
              "      <td>456</td>\n",
              "      <td>21</td>\n",
              "      <td>8.0</td>\n",
              "    </tr>\n",
              "    <tr>\n",
              "      <th>12</th>\n",
              "      <td>3</td>\n",
              "      <td>12</td>\n",
              "      <td>88.0</td>\n",
              "    </tr>\n",
              "  </tbody>\n",
              "</table>\n",
              "</div>"
            ],
            "text/plain": [
              "      a    b     c\n",
              "0    78   12   1.0\n",
              "1    78   12   2.0\n",
              "2    78  324   3.0\n",
              "3     7    2   4.0\n",
              "4    88   23   5.0\n",
              "5     6    2   NaN\n",
              "6    56   11   6.0\n",
              "7     7   12   7.0\n",
              "8    56   21   7.0\n",
              "9   346    2   8.0\n",
              "10    5    1   8.0\n",
              "11  456   21   8.0\n",
              "12    3   12  88.0"
            ]
          },
          "metadata": {
            "tags": []
          },
          "execution_count": 162
        }
      ]
    },
    {
      "cell_type": "code",
      "metadata": {
        "id": "presidential-ferry",
        "outputId": "8d3c5a88-6487-4bbf-e3f6-fc0b4eadf122"
      },
      "source": [
        "df1[1:3]\n",
        "\n",
        "# satır bazında indeksledik. (1 ve 2.satırları aldık 3 ü almadık.)\n",
        "\n",
        "# dataframe i slicing yaptık."
      ],
      "id": "presidential-ferry",
      "execution_count": null,
      "outputs": [
        {
          "output_type": "execute_result",
          "data": {
            "text/html": [
              "<div>\n",
              "<style scoped>\n",
              "    .dataframe tbody tr th:only-of-type {\n",
              "        vertical-align: middle;\n",
              "    }\n",
              "\n",
              "    .dataframe tbody tr th {\n",
              "        vertical-align: top;\n",
              "    }\n",
              "\n",
              "    .dataframe thead th {\n",
              "        text-align: right;\n",
              "    }\n",
              "</style>\n",
              "<table border=\"1\" class=\"dataframe\">\n",
              "  <thead>\n",
              "    <tr style=\"text-align: right;\">\n",
              "      <th></th>\n",
              "      <th>var1</th>\n",
              "      <th>var2</th>\n",
              "      <th>var3</th>\n",
              "    </tr>\n",
              "  </thead>\n",
              "  <tbody>\n",
              "    <tr>\n",
              "      <th>1</th>\n",
              "      <td>8</td>\n",
              "      <td>6</td>\n",
              "      <td>0</td>\n",
              "    </tr>\n",
              "    <tr>\n",
              "      <th>2</th>\n",
              "      <td>3</td>\n",
              "      <td>0</td>\n",
              "      <td>4</td>\n",
              "    </tr>\n",
              "  </tbody>\n",
              "</table>\n",
              "</div>"
            ],
            "text/plain": [
              "   var1  var2  var3\n",
              "1     8     6     0\n",
              "2     3     0     4"
            ]
          },
          "metadata": {
            "tags": []
          },
          "execution_count": 163
        }
      ]
    },
    {
      "cell_type": "code",
      "metadata": {
        "id": "greek-christian",
        "outputId": "0676311f-1ea4-4bd2-81b7-ff529211a952"
      },
      "source": [
        "df[1]\n",
        "\n",
        "# böyle YAPAMIYORUZ! ama yukardaki gibi slice lama yapabiliyoruz."
      ],
      "id": "greek-christian",
      "execution_count": null,
      "outputs": [
        {
          "output_type": "error",
          "ename": "KeyError",
          "evalue": "1",
          "traceback": [
            "\u001b[1;31m---------------------------------------------------------------------------\u001b[0m",
            "\u001b[1;31mKeyError\u001b[0m                                  Traceback (most recent call last)",
            "\u001b[1;32mc:\\users\\hüseyin\\appdata\\local\\programs\\python\\python37\\lib\\site-packages\\pandas\\core\\indexes\\base.py\u001b[0m in \u001b[0;36mget_loc\u001b[1;34m(self, key, method, tolerance)\u001b[0m\n\u001b[0;32m   3079\u001b[0m             \u001b[1;32mtry\u001b[0m\u001b[1;33m:\u001b[0m\u001b[1;33m\u001b[0m\u001b[1;33m\u001b[0m\u001b[0m\n\u001b[1;32m-> 3080\u001b[1;33m                 \u001b[1;32mreturn\u001b[0m \u001b[0mself\u001b[0m\u001b[1;33m.\u001b[0m\u001b[0m_engine\u001b[0m\u001b[1;33m.\u001b[0m\u001b[0mget_loc\u001b[0m\u001b[1;33m(\u001b[0m\u001b[0mcasted_key\u001b[0m\u001b[1;33m)\u001b[0m\u001b[1;33m\u001b[0m\u001b[1;33m\u001b[0m\u001b[0m\n\u001b[0m\u001b[0;32m   3081\u001b[0m             \u001b[1;32mexcept\u001b[0m \u001b[0mKeyError\u001b[0m \u001b[1;32mas\u001b[0m \u001b[0merr\u001b[0m\u001b[1;33m:\u001b[0m\u001b[1;33m\u001b[0m\u001b[1;33m\u001b[0m\u001b[0m\n",
            "\u001b[1;32mpandas\\_libs\\index.pyx\u001b[0m in \u001b[0;36mpandas._libs.index.IndexEngine.get_loc\u001b[1;34m()\u001b[0m\n",
            "\u001b[1;32mpandas\\_libs\\index.pyx\u001b[0m in \u001b[0;36mpandas._libs.index.IndexEngine.get_loc\u001b[1;34m()\u001b[0m\n",
            "\u001b[1;32mpandas\\_libs\\hashtable_class_helper.pxi\u001b[0m in \u001b[0;36mpandas._libs.hashtable.PyObjectHashTable.get_item\u001b[1;34m()\u001b[0m\n",
            "\u001b[1;32mpandas\\_libs\\hashtable_class_helper.pxi\u001b[0m in \u001b[0;36mpandas._libs.hashtable.PyObjectHashTable.get_item\u001b[1;34m()\u001b[0m\n",
            "\u001b[1;31mKeyError\u001b[0m: 1",
            "\nThe above exception was the direct cause of the following exception:\n",
            "\u001b[1;31mKeyError\u001b[0m                                  Traceback (most recent call last)",
            "\u001b[1;32m<ipython-input-164-78a33f69c558>\u001b[0m in \u001b[0;36m<module>\u001b[1;34m\u001b[0m\n\u001b[1;32m----> 1\u001b[1;33m \u001b[0mdf\u001b[0m\u001b[1;33m[\u001b[0m\u001b[1;36m1\u001b[0m\u001b[1;33m]\u001b[0m\u001b[1;33m\u001b[0m\u001b[1;33m\u001b[0m\u001b[0m\n\u001b[0m",
            "\u001b[1;32mc:\\users\\hüseyin\\appdata\\local\\programs\\python\\python37\\lib\\site-packages\\pandas\\core\\frame.py\u001b[0m in \u001b[0;36m__getitem__\u001b[1;34m(self, key)\u001b[0m\n\u001b[0;32m   3022\u001b[0m             \u001b[1;32mif\u001b[0m \u001b[0mself\u001b[0m\u001b[1;33m.\u001b[0m\u001b[0mcolumns\u001b[0m\u001b[1;33m.\u001b[0m\u001b[0mnlevels\u001b[0m \u001b[1;33m>\u001b[0m \u001b[1;36m1\u001b[0m\u001b[1;33m:\u001b[0m\u001b[1;33m\u001b[0m\u001b[1;33m\u001b[0m\u001b[0m\n\u001b[0;32m   3023\u001b[0m                 \u001b[1;32mreturn\u001b[0m \u001b[0mself\u001b[0m\u001b[1;33m.\u001b[0m\u001b[0m_getitem_multilevel\u001b[0m\u001b[1;33m(\u001b[0m\u001b[0mkey\u001b[0m\u001b[1;33m)\u001b[0m\u001b[1;33m\u001b[0m\u001b[1;33m\u001b[0m\u001b[0m\n\u001b[1;32m-> 3024\u001b[1;33m             \u001b[0mindexer\u001b[0m \u001b[1;33m=\u001b[0m \u001b[0mself\u001b[0m\u001b[1;33m.\u001b[0m\u001b[0mcolumns\u001b[0m\u001b[1;33m.\u001b[0m\u001b[0mget_loc\u001b[0m\u001b[1;33m(\u001b[0m\u001b[0mkey\u001b[0m\u001b[1;33m)\u001b[0m\u001b[1;33m\u001b[0m\u001b[1;33m\u001b[0m\u001b[0m\n\u001b[0m\u001b[0;32m   3025\u001b[0m             \u001b[1;32mif\u001b[0m \u001b[0mis_integer\u001b[0m\u001b[1;33m(\u001b[0m\u001b[0mindexer\u001b[0m\u001b[1;33m)\u001b[0m\u001b[1;33m:\u001b[0m\u001b[1;33m\u001b[0m\u001b[1;33m\u001b[0m\u001b[0m\n\u001b[0;32m   3026\u001b[0m                 \u001b[0mindexer\u001b[0m \u001b[1;33m=\u001b[0m \u001b[1;33m[\u001b[0m\u001b[0mindexer\u001b[0m\u001b[1;33m]\u001b[0m\u001b[1;33m\u001b[0m\u001b[1;33m\u001b[0m\u001b[0m\n",
            "\u001b[1;32mc:\\users\\hüseyin\\appdata\\local\\programs\\python\\python37\\lib\\site-packages\\pandas\\core\\indexes\\base.py\u001b[0m in \u001b[0;36mget_loc\u001b[1;34m(self, key, method, tolerance)\u001b[0m\n\u001b[0;32m   3080\u001b[0m                 \u001b[1;32mreturn\u001b[0m \u001b[0mself\u001b[0m\u001b[1;33m.\u001b[0m\u001b[0m_engine\u001b[0m\u001b[1;33m.\u001b[0m\u001b[0mget_loc\u001b[0m\u001b[1;33m(\u001b[0m\u001b[0mcasted_key\u001b[0m\u001b[1;33m)\u001b[0m\u001b[1;33m\u001b[0m\u001b[1;33m\u001b[0m\u001b[0m\n\u001b[0;32m   3081\u001b[0m             \u001b[1;32mexcept\u001b[0m \u001b[0mKeyError\u001b[0m \u001b[1;32mas\u001b[0m \u001b[0merr\u001b[0m\u001b[1;33m:\u001b[0m\u001b[1;33m\u001b[0m\u001b[1;33m\u001b[0m\u001b[0m\n\u001b[1;32m-> 3082\u001b[1;33m                 \u001b[1;32mraise\u001b[0m \u001b[0mKeyError\u001b[0m\u001b[1;33m(\u001b[0m\u001b[0mkey\u001b[0m\u001b[1;33m)\u001b[0m \u001b[1;32mfrom\u001b[0m \u001b[0merr\u001b[0m\u001b[1;33m\u001b[0m\u001b[1;33m\u001b[0m\u001b[0m\n\u001b[0m\u001b[0;32m   3083\u001b[0m \u001b[1;33m\u001b[0m\u001b[0m\n\u001b[0;32m   3084\u001b[0m         \u001b[1;32mif\u001b[0m \u001b[0mtolerance\u001b[0m \u001b[1;32mis\u001b[0m \u001b[1;32mnot\u001b[0m \u001b[1;32mNone\u001b[0m\u001b[1;33m:\u001b[0m\u001b[1;33m\u001b[0m\u001b[1;33m\u001b[0m\u001b[0m\n",
            "\u001b[1;31mKeyError\u001b[0m: 1"
          ]
        }
      ]
    },
    {
      "cell_type": "code",
      "metadata": {
        "id": "stuck-struggle",
        "outputId": "8babb498-9900-4585-bf61-8a31c7343ffa"
      },
      "source": [
        "pwd"
      ],
      "id": "stuck-struggle",
      "execution_count": null,
      "outputs": [
        {
          "output_type": "execute_result",
          "data": {
            "text/plain": [
              "'C:\\\\Users\\\\hüseyin'"
            ]
          },
          "metadata": {
            "tags": []
          },
          "execution_count": 165
        }
      ]
    },
    {
      "cell_type": "code",
      "metadata": {
        "id": "constitutional-guest",
        "outputId": "074c50ba-7e04-4b30-9260-fb23f1dda7bd"
      },
      "source": [
        "df1"
      ],
      "id": "constitutional-guest",
      "execution_count": null,
      "outputs": [
        {
          "output_type": "execute_result",
          "data": {
            "text/html": [
              "<div>\n",
              "<style scoped>\n",
              "    .dataframe tbody tr th:only-of-type {\n",
              "        vertical-align: middle;\n",
              "    }\n",
              "\n",
              "    .dataframe tbody tr th {\n",
              "        vertical-align: top;\n",
              "    }\n",
              "\n",
              "    .dataframe thead th {\n",
              "        text-align: right;\n",
              "    }\n",
              "</style>\n",
              "<table border=\"1\" class=\"dataframe\">\n",
              "  <thead>\n",
              "    <tr style=\"text-align: right;\">\n",
              "      <th></th>\n",
              "      <th>var1</th>\n",
              "      <th>var2</th>\n",
              "      <th>var3</th>\n",
              "    </tr>\n",
              "  </thead>\n",
              "  <tbody>\n",
              "    <tr>\n",
              "      <th>0</th>\n",
              "      <td>1</td>\n",
              "      <td>1</td>\n",
              "      <td>4</td>\n",
              "    </tr>\n",
              "    <tr>\n",
              "      <th>1</th>\n",
              "      <td>8</td>\n",
              "      <td>6</td>\n",
              "      <td>0</td>\n",
              "    </tr>\n",
              "    <tr>\n",
              "      <th>2</th>\n",
              "      <td>3</td>\n",
              "      <td>0</td>\n",
              "      <td>4</td>\n",
              "    </tr>\n",
              "    <tr>\n",
              "      <th>3</th>\n",
              "      <td>1</td>\n",
              "      <td>5</td>\n",
              "      <td>4</td>\n",
              "    </tr>\n",
              "    <tr>\n",
              "      <th>4</th>\n",
              "      <td>2</td>\n",
              "      <td>7</td>\n",
              "      <td>6</td>\n",
              "    </tr>\n",
              "  </tbody>\n",
              "</table>\n",
              "</div>"
            ],
            "text/plain": [
              "   var1  var2  var3\n",
              "0     1     1     4\n",
              "1     8     6     0\n",
              "2     3     0     4\n",
              "3     1     5     4\n",
              "4     2     7     6"
            ]
          },
          "metadata": {
            "tags": []
          },
          "execution_count": 166
        }
      ]
    },
    {
      "cell_type": "code",
      "metadata": {
        "scrolled": true,
        "id": "operational-rotation",
        "outputId": "9c7679bb-d6f2-41ff-f815-0ba3200fa873"
      },
      "source": [
        "[i for i in df1.index]\n",
        "\n",
        "# indekslerimizi görelim."
      ],
      "id": "operational-rotation",
      "execution_count": null,
      "outputs": [
        {
          "output_type": "execute_result",
          "data": {
            "text/plain": [
              "[0, 1, 2, 3, 4]"
            ]
          },
          "metadata": {
            "tags": []
          },
          "execution_count": 167
        }
      ]
    },
    {
      "cell_type": "code",
      "metadata": {
        "id": "handled-quick"
      },
      "source": [
        "df1.index = [\"a\", \"b\", \"c\", \"d\", \"e\"]\n",
        "\n",
        "# indeks isimlerini değiştirdik"
      ],
      "id": "handled-quick",
      "execution_count": null,
      "outputs": []
    },
    {
      "cell_type": "code",
      "metadata": {
        "id": "architectural-fishing",
        "outputId": "df7d86cf-f09d-4807-e9ae-ea7fd950dd65"
      },
      "source": [
        "df1"
      ],
      "id": "architectural-fishing",
      "execution_count": null,
      "outputs": [
        {
          "output_type": "execute_result",
          "data": {
            "text/html": [
              "<div>\n",
              "<style scoped>\n",
              "    .dataframe tbody tr th:only-of-type {\n",
              "        vertical-align: middle;\n",
              "    }\n",
              "\n",
              "    .dataframe tbody tr th {\n",
              "        vertical-align: top;\n",
              "    }\n",
              "\n",
              "    .dataframe thead th {\n",
              "        text-align: right;\n",
              "    }\n",
              "</style>\n",
              "<table border=\"1\" class=\"dataframe\">\n",
              "  <thead>\n",
              "    <tr style=\"text-align: right;\">\n",
              "      <th></th>\n",
              "      <th>var1</th>\n",
              "      <th>var2</th>\n",
              "      <th>var3</th>\n",
              "    </tr>\n",
              "  </thead>\n",
              "  <tbody>\n",
              "    <tr>\n",
              "      <th>a</th>\n",
              "      <td>1</td>\n",
              "      <td>1</td>\n",
              "      <td>4</td>\n",
              "    </tr>\n",
              "    <tr>\n",
              "      <th>b</th>\n",
              "      <td>8</td>\n",
              "      <td>6</td>\n",
              "      <td>0</td>\n",
              "    </tr>\n",
              "    <tr>\n",
              "      <th>c</th>\n",
              "      <td>3</td>\n",
              "      <td>0</td>\n",
              "      <td>4</td>\n",
              "    </tr>\n",
              "    <tr>\n",
              "      <th>d</th>\n",
              "      <td>1</td>\n",
              "      <td>5</td>\n",
              "      <td>4</td>\n",
              "    </tr>\n",
              "    <tr>\n",
              "      <th>e</th>\n",
              "      <td>2</td>\n",
              "      <td>7</td>\n",
              "      <td>6</td>\n",
              "    </tr>\n",
              "  </tbody>\n",
              "</table>\n",
              "</div>"
            ],
            "text/plain": [
              "   var1  var2  var3\n",
              "a     1     1     4\n",
              "b     8     6     0\n",
              "c     3     0     4\n",
              "d     1     5     4\n",
              "e     2     7     6"
            ]
          },
          "metadata": {
            "tags": []
          },
          "execution_count": 169
        }
      ]
    },
    {
      "cell_type": "code",
      "metadata": {
        "id": "collectible-sullivan",
        "outputId": "7d95de47-4630-4ba5-8dd7-406ba47c47e7"
      },
      "source": [
        "df1[\"b\" : \"d\"]\n",
        "\n",
        "# indeks isimleri üzerinden slice lama yaptık. d dahil gösterdi."
      ],
      "id": "collectible-sullivan",
      "execution_count": null,
      "outputs": [
        {
          "output_type": "execute_result",
          "data": {
            "text/html": [
              "<div>\n",
              "<style scoped>\n",
              "    .dataframe tbody tr th:only-of-type {\n",
              "        vertical-align: middle;\n",
              "    }\n",
              "\n",
              "    .dataframe tbody tr th {\n",
              "        vertical-align: top;\n",
              "    }\n",
              "\n",
              "    .dataframe thead th {\n",
              "        text-align: right;\n",
              "    }\n",
              "</style>\n",
              "<table border=\"1\" class=\"dataframe\">\n",
              "  <thead>\n",
              "    <tr style=\"text-align: right;\">\n",
              "      <th></th>\n",
              "      <th>var1</th>\n",
              "      <th>var2</th>\n",
              "      <th>var3</th>\n",
              "    </tr>\n",
              "  </thead>\n",
              "  <tbody>\n",
              "    <tr>\n",
              "      <th>b</th>\n",
              "      <td>8</td>\n",
              "      <td>6</td>\n",
              "      <td>0</td>\n",
              "    </tr>\n",
              "    <tr>\n",
              "      <th>c</th>\n",
              "      <td>3</td>\n",
              "      <td>0</td>\n",
              "      <td>4</td>\n",
              "    </tr>\n",
              "    <tr>\n",
              "      <th>d</th>\n",
              "      <td>1</td>\n",
              "      <td>5</td>\n",
              "      <td>4</td>\n",
              "    </tr>\n",
              "  </tbody>\n",
              "</table>\n",
              "</div>"
            ],
            "text/plain": [
              "   var1  var2  var3\n",
              "b     8     6     0\n",
              "c     3     0     4\n",
              "d     1     5     4"
            ]
          },
          "metadata": {
            "tags": []
          },
          "execution_count": 170
        }
      ]
    },
    {
      "cell_type": "code",
      "metadata": {
        "id": "broken-spanking",
        "outputId": "754af43a-c856-4dc4-c9ba-57fbdcbc1f9a"
      },
      "source": [
        "\"var2\" in df1\n",
        "\n",
        "# in operatörü COLUMN lar üzerinde çalışıyor."
      ],
      "id": "broken-spanking",
      "execution_count": null,
      "outputs": [
        {
          "output_type": "execute_result",
          "data": {
            "text/plain": [
              "True"
            ]
          },
          "metadata": {
            "tags": []
          },
          "execution_count": 171
        }
      ]
    },
    {
      "cell_type": "code",
      "metadata": {
        "id": "finished-sleeve",
        "outputId": "50a1e65c-d9ad-489e-c288-ec556d89721a"
      },
      "source": [
        "9 in df1\n",
        "\n",
        "# 9 diye bir column olmadığı için false verdi."
      ],
      "id": "finished-sleeve",
      "execution_count": null,
      "outputs": [
        {
          "output_type": "execute_result",
          "data": {
            "text/plain": [
              "False"
            ]
          },
          "metadata": {
            "tags": []
          },
          "execution_count": 172
        }
      ]
    },
    {
      "cell_type": "code",
      "metadata": {
        "id": "digital-trinidad"
      },
      "source": [
        ""
      ],
      "id": "digital-trinidad",
      "execution_count": null,
      "outputs": []
    },
    {
      "cell_type": "code",
      "metadata": {
        "id": "excess-arkansas"
      },
      "source": [
        ""
      ],
      "id": "excess-arkansas",
      "execution_count": null,
      "outputs": []
    },
    {
      "cell_type": "code",
      "metadata": {
        "id": "incorporate-memorabilia"
      },
      "source": [
        ""
      ],
      "id": "incorporate-memorabilia",
      "execution_count": null,
      "outputs": []
    }
  ]
}